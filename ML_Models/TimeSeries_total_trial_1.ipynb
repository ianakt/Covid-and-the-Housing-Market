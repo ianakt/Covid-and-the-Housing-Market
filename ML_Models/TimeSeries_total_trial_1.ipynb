{
 "cells": [
  {
   "cell_type": "code",
   "execution_count": 3,
   "id": "84ec029f",
   "metadata": {},
   "outputs": [],
   "source": [
    "\n",
    "# from utils import fix_pythonpath_if_working_locally\n",
    "\n",
    "# fix_pythonpath_if_working_locally()\n",
    "\n",
    "import pandas as pd\n",
    "import numpy as np\n",
    "import torch\n",
    "import matplotlib.pyplot as plt\n",
    "from darts.models import Prophet\n",
    "import plotly.express as px\n",
    "from datetime import datetime\n",
    "\n",
    "\n",
    "from darts import TimeSeries\n",
    "from darts.utils.timeseries_generation import (\n",
    "    gaussian_timeseries,\n",
    "    linear_timeseries,\n",
    "    sine_timeseries,\n",
    ")\n",
    "from darts.models import (\n",
    "    RNNModel,\n",
    "    TCNModel,\n",
    "    TransformerModel,\n",
    "    NBEATSModel,\n",
    "    BlockRNNModel,\n",
    ")\n",
    "from darts.models import ExponentialSmoothing\n",
    "from darts.metrics import mape, smape\n",
    "from darts.dataprocessing.transformers import Scaler\n",
    "from darts.utils.timeseries_generation import datetime_attribute_timeseries"
   ]
  },
  {
   "cell_type": "code",
   "execution_count": 4,
   "id": "cf3aadd8",
   "metadata": {},
   "outputs": [],
   "source": [
    "RNA_Conc = pd.read_csv(\"https://raw.githubusercontent.com/biobotanalytics/covid19-wastewater-data/master/wastewater_by_county.csv\")\n",
    "Covid_Rate = pd.read_csv(\"https://raw.githubusercontent.com/biobotanalytics/covid19-wastewater-data/master/cases_by_county.csv\")\n",
    "Sale_to_List_table = pd.read_csv(\"Sales_to_List.csv\")\n",
    "SDU = pd.read_excel(\"Carlsbad_San_Diego_Unemployment.xlsx\")\n",
    "SanDiego_Employment = pd.read_csv(\"SDUT.csv\", parse_dates=True, infer_datetime_format=True)"
   ]
  },
  {
   "cell_type": "code",
   "execution_count": 5,
   "id": "7599a65f",
   "metadata": {},
   "outputs": [
    {
     "name": "stderr",
     "output_type": "stream",
     "text": [
      "C:\\Users\\IanAK\\miniconda3\\envs\\mlenv\\lib\\site-packages\\ipykernel_launcher.py:8: FutureWarning: Series.dt.weekofyear and Series.dt.week have been deprecated.  Please use Series.dt.isocalendar().week instead.\n",
      "  \n",
      "C:\\Users\\IanAK\\miniconda3\\envs\\mlenv\\lib\\site-packages\\ipykernel_launcher.py:12: FutureWarning: Series.dt.weekofyear and Series.dt.week have been deprecated.  Please use Series.dt.isocalendar().week instead.\n",
      "  if sys.path[0] == '':\n",
      "C:\\Users\\IanAK\\miniconda3\\envs\\mlenv\\lib\\site-packages\\ipykernel_launcher.py:22: FutureWarning: Series.dt.weekofyear and Series.dt.week have been deprecated.  Please use Series.dt.isocalendar().week instead.\n",
      "C:\\Users\\IanAK\\miniconda3\\envs\\mlenv\\lib\\site-packages\\ipykernel_launcher.py:27: FutureWarning: Series.dt.weekofyear and Series.dt.week have been deprecated.  Please use Series.dt.isocalendar().week instead.\n",
      "C:\\Users\\IanAK\\miniconda3\\envs\\mlenv\\lib\\site-packages\\ipykernel_launcher.py:33: FutureWarning: Series.dt.weekofyear and Series.dt.week have been deprecated.  Please use Series.dt.isocalendar().week instead.\n"
     ]
    }
   ],
   "source": [
    "# Covid Cases and RNA level Processing\n",
    "\n",
    "Covid_Rate.loc[Covid_Rate[\"name\"] == \"Miami-Dade County, FL\"]\n",
    "Sandy = Covid_Rate.loc[Covid_Rate[\"name\"] == 'San Diego County, CA']\n",
    "Miami_RNA = RNA_Conc.loc[RNA_Conc['name'] == \"Miami-Dade County, FL\"]\n",
    "Miami_cases2 = Covid_Rate.loc[Covid_Rate[\"name\"] == \"Miami-Dade County, FL\"]\n",
    "Miami_2020_cases = Miami_cases2.loc[pd.to_datetime(Miami_cases2['date']).dt.year == 2020]\n",
    "Miami_2020_cases.insert(2, \"week\", pd.to_datetime(Miami_2020_cases['date']).dt.week, True)\n",
    "Miami_test_2020 = Miami_2020_cases.groupby(by = \"week\").sum()\n",
    "Miami_RNA.insert(2, \"year\", pd.to_datetime(Miami_RNA['sampling_week']).dt.year, True)\n",
    "RNA_2020 = Miami_RNA.loc[Miami_RNA[\"year\"] == 2020]\n",
    "RNA_2020.insert(2, \"week\", pd.to_datetime(RNA_2020['sampling_week']).dt.week, True)\n",
    "Cases_and_RNA = RNA_2020.merge(Miami_test_2020, how='inner', on='week')\n",
    "Cases_and_RNA[\"Month\"] = pd.to_datetime(Cases_and_RNA.sampling_week).dt.to_period('M')\n",
    "Cases_and_RNA = Cases_and_RNA.drop(columns = \"sampling_week\")\n",
    "Cases_and_RNA = Cases_and_RNA.drop(columns = \"Unnamed: 0_x\")\n",
    "Cases_and_RNA = Cases_and_RNA.drop(columns = \"Unnamed: 0_y\")\n",
    "Cases_and_RNA = Cases_and_RNA.drop(columns = [\"fipscode_x\", \"fipscode_y\"])\n",
    "\n",
    "\n",
    "Miami_2021_cases = Miami_cases2.loc[pd.to_datetime(Miami_cases2['date']).dt.year == 2021]\n",
    "Miami_2021_cases.insert(2, \"week\", pd.to_datetime(Miami_2021_cases['date']).dt.week, True)\n",
    "Miami_test_2021 = Miami_2021_cases.groupby(by = \"week\").sum()\n",
    "\n",
    "\n",
    "Miami_2022_cases = Miami_cases2.loc[pd.to_datetime(Miami_cases2['date']).dt.year == 2022]\n",
    "Miami_2022_cases.insert(2, \"week\", pd.to_datetime(Miami_2022_cases['date']).dt.week, True)\n",
    "Miami_test_2022 = Miami_2022_cases.groupby(by = \"week\").sum()\n",
    "\n",
    "kent = pd.concat([Miami_test_2020, Miami_test_2021, Miami_test_2022], ignore_index=True)\n",
    "\n",
    "Total_2021_cases = Covid_Rate.loc[pd.to_datetime(Covid_Rate['date']).dt.year == 2021]\n",
    "Total_2021_cases.insert(2, \"week\", pd.to_datetime(Total_2021_cases['date']).dt.week, True)\n",
    "Total_test_2021 = Total_2021_cases.groupby(by = \"week\").sum()\n",
    "\n",
    "\n"
   ]
  },
  {
   "cell_type": "code",
   "execution_count": 6,
   "id": "3661e6e6",
   "metadata": {
    "scrolled": true
   },
   "outputs": [],
   "source": [
    "# Percent of Sales under/over List: Ratio of sales where Sale Price below/above the final list price; excludes homes sold for exactly the list price.\n",
    "\n",
    "below_list = pd.read_csv(\"Metro_pct_sold_below_list_uc_sfrcondo_sm_week.csv\")\n",
    "\n",
    "tblow_list = below_list.drop(columns = [\"RegionID\",\"SizeRank\",\"RegionType\",\"StateName\"]).T\n",
    "sandy_temp = tblow_list[17].to_frame()\n",
    "Below_List_Price = sandy_temp.drop([\"RegionName\"])\n",
    "dates = pd.to_datetime(Below_List_Price.index)\n",
    "list_below_ratio = Below_List_Price[17].values\n",
    "skice = {\"Dates\" : dates, \"Percentage sold Under List Price\" :list_below_ratio}\n",
    "B_low_list = pd.DataFrame(data=skice)\n",
    "\n",
    "\n",
    "above_list = pd.read_csv(\"Metro_pct_sold_above_list_uc_sfrcondo_week.csv\")\n",
    "\n",
    "tabov_list = above_list.drop(columns = [\"RegionID\",\"SizeRank\",\"RegionType\",\"StateName\"]).T\n",
    "sandy_temp_abov = tabov_list[17].to_frame()\n",
    "Abov_List_Price = sandy_temp_abov.drop([\"RegionName\"])\n",
    "dates_above = pd.to_datetime(Abov_List_Price.index)\n",
    "list_above_ratio = Abov_List_Price[17].values\n",
    "bove = {\"Dates\" : dates_above, \"Percentage sold above list price\" :list_above_ratio}\n",
    "Percent_above_list_price = pd.DataFrame(data=bove)\n",
    "\n",
    "\n",
    "\n",
    "# Median Sale Price: The median price at which homes across various geographies were sold.\n",
    "Median_Sale_List = pd.read_csv(\"Metro_median_sale_to_list_uc_sfrcondo_sm_week.csv\")\n",
    "\n",
    "Median_list = Median_Sale_List.drop(columns = [\"RegionID\",\"SizeRank\",\"RegionType\",\"StateName\"]).T\n",
    "sandy_median = Median_list[17].to_frame()\n",
    "Median_List_Price = sandy_median.drop([\"RegionName\"])\n",
    "dates_median = pd.to_datetime(Median_List_Price.index)\n",
    "medin_prices = Median_List_Price[17].values\n",
    "medi = {\"Dates\" : dates_median, \"Median sale to list Ratio\" :medin_prices}\n",
    "Median_sale_to_list_price = pd.DataFrame(data=medi)\n",
    "\n",
    "# Days to Close (mean/median): Number of days between the listing going pending and the sale date.\n",
    "Median_Close = pd.read_csv(\"Metro_median_days_to_close_uc_sfrcondo_sm_week.csv\")\n",
    "\n",
    "Median_clos = Median_Close.drop(columns = [\"RegionID\",\"SizeRank\",\"RegionType\",\"StateName\"]).T\n",
    "sandy_median_close = Median_clos[17].to_frame()\n",
    "Median_Close_Price = sandy_median_close.drop([\"RegionName\"])\n",
    "dates_median_close = pd.to_datetime(Median_Close_Price.index)\n",
    "clos_prices = Median_Close_Price[17].values\n",
    "med_clos = {\"Dates\" : dates_median_close, \"Median days to close\" :clos_prices}\n",
    "Median_closing_days = pd.DataFrame(data=med_clos)\n",
    "\n",
    "# Sale-to-List Ratio (mean/median): Ratio of sale vs. final list price.\n",
    "\n",
    "# Price home actually sold for (sale) versus prices that home was listed online for (list)\n",
    "Mean_Sale_List = pd.read_csv(\"Metro_mean_sale_to_list_uc_sfrcondo_sm_week.csv\")\n",
    "\n",
    "Mean_sales = Mean_Sale_List.drop(columns = [\"RegionID\",\"SizeRank\",\"RegionType\",\"StateName\"]).T\n",
    "mean_sales = Mean_sales[17].to_frame()\n",
    "Mean_sales_Price = mean_sales.drop([\"RegionName\"])\n",
    "dates_mean_sales = pd.to_datetime(Mean_sales_Price.index)\n",
    "mean_prices = Mean_sales_Price[17].values\n",
    "mean_sal = {\"Dates\" : dates_mean_sales, \"Mean Sales to List Ratio\" :mean_prices}\n",
    "Mean_Selling_price = pd.DataFrame(data=mean_sal)\n",
    "\n",
    "\n",
    "# Days to Close (mean/median): Number of days between the listing going pending and the sale date.\n",
    "Mean_Close = pd.read_csv(\"Metro_mean_days_to_close_uc_sfrcondo_sm_week.csv\")\n",
    "\n",
    "mean_close_close = Mean_Close.drop(columns = [\"RegionID\",\"SizeRank\",\"RegionType\",\"StateName\"]).T\n",
    "mean_close_close = mean_close_close[17].to_frame()\n",
    "mean_close_close_Price = mean_close_close.drop([\"RegionName\"])\n",
    "dates_mean_close_close = pd.to_datetime(mean_close_close_Price.index)\n",
    "mean_close_prices = mean_close_close_Price[17].values\n",
    "mean_close_sal = {\"Dates\" : dates_mean_close_close, \"Mean Days to Close\" :mean_close_prices}\n",
    "mean_close__days = pd.DataFrame(data=mean_close_sal)\n"
   ]
  },
  {
   "cell_type": "code",
   "execution_count": 7,
   "id": "0581d5e2",
   "metadata": {},
   "outputs": [],
   "source": [
    "sam = Median_closing_days.merge(Mean_Selling_price, how='inner', on='Dates')\n",
    "samantha = mean_close__days.merge(Median_sale_to_list_price, how='inner', on='Dates')\n",
    "simon = Percent_above_list_price.merge(B_low_list, how='inner', on='Dates')\n",
    "tenten = sam.merge(samantha,how=\"inner\", on= 'Dates').merge(simon, how = \"inner\", on= \"Dates\")\n",
    "\n",
    "\n"
   ]
  },
  {
   "cell_type": "code",
   "execution_count": null,
   "id": "3d7c8a6c",
   "metadata": {},
   "outputs": [],
   "source": []
  },
  {
   "cell_type": "code",
   "execution_count": null,
   "id": "6ddc6720",
   "metadata": {},
   "outputs": [],
   "source": []
  },
  {
   "cell_type": "code",
   "execution_count": null,
   "id": "98df1d7c",
   "metadata": {},
   "outputs": [],
   "source": []
  },
  {
   "cell_type": "code",
   "execution_count": null,
   "id": "7031faf9",
   "metadata": {},
   "outputs": [],
   "source": []
  },
  {
   "cell_type": "code",
   "execution_count": 16,
   "id": "fbcf9272",
   "metadata": {},
   "outputs": [
    {
     "data": {
      "text/html": [
       "<div>\n",
       "<style scoped>\n",
       "    .dataframe tbody tr th:only-of-type {\n",
       "        vertical-align: middle;\n",
       "    }\n",
       "\n",
       "    .dataframe tbody tr th {\n",
       "        vertical-align: top;\n",
       "    }\n",
       "\n",
       "    .dataframe thead th {\n",
       "        text-align: right;\n",
       "    }\n",
       "</style>\n",
       "<table border=\"1\" class=\"dataframe\">\n",
       "  <thead>\n",
       "    <tr style=\"text-align: right;\">\n",
       "      <th></th>\n",
       "      <th>Dates</th>\n",
       "      <th>Mean Days to Close</th>\n",
       "    </tr>\n",
       "  </thead>\n",
       "  <tbody>\n",
       "    <tr>\n",
       "      <th>0</th>\n",
       "      <td>2018-01-27</td>\n",
       "      <td>36.0</td>\n",
       "    </tr>\n",
       "    <tr>\n",
       "      <th>1</th>\n",
       "      <td>2018-02-03</td>\n",
       "      <td>36.0</td>\n",
       "    </tr>\n",
       "    <tr>\n",
       "      <th>2</th>\n",
       "      <td>2018-02-10</td>\n",
       "      <td>35.0</td>\n",
       "    </tr>\n",
       "  </tbody>\n",
       "</table>\n",
       "</div>"
      ],
      "text/plain": [
       "       Dates Mean Days to Close\n",
       "0 2018-01-27               36.0\n",
       "1 2018-02-03               36.0\n",
       "2 2018-02-10               35.0"
      ]
     },
     "execution_count": 16,
     "metadata": {},
     "output_type": "execute_result"
    }
   ],
   "source": [
    "mean_close__days.head(3)"
   ]
  },
  {
   "cell_type": "code",
   "execution_count": 17,
   "id": "e8e9978b",
   "metadata": {},
   "outputs": [],
   "source": [
    "series_mean_close_days = TimeSeries.from_dataframe(mean_close__days.set_index([\"Dates\"]))\n",
    "series_mean_selling = TimeSeries.from_dataframe(Mean_Selling_price.set_index([\"Dates\"]))\n",
    "series_median_sale_to_list = TimeSeries.from_dataframe(Median_sale_to_list_price.set_index([\"Dates\"]))\n",
    "series_median_close_days = TimeSeries.from_dataframe(Median_closing_days.set_index([\"Dates\"]))\n",
    "series_above_list = TimeSeries.from_dataframe(Percent_above_list_price.set_index([\"Dates\"]))\n",
    "seroes_below_list = TimeSeries.from_dataframe(B_low_list.set_index([\"Dates\"]))\n",
    "# kent"
   ]
  },
  {
   "cell_type": "code",
   "execution_count": 18,
   "id": "95c1f5b5",
   "metadata": {},
   "outputs": [],
   "source": [
    "#TimeSeries.from_dataframe(Mean_Selling_price.set_index([\"Dates\"]))"
   ]
  },
  {
   "cell_type": "code",
   "execution_count": null,
   "id": "84ec562e",
   "metadata": {},
   "outputs": [],
   "source": []
  },
  {
   "cell_type": "code",
   "execution_count": null,
   "id": "e3e10e96",
   "metadata": {},
   "outputs": [],
   "source": []
  },
  {
   "cell_type": "code",
   "execution_count": null,
   "id": "b437b881",
   "metadata": {},
   "outputs": [],
   "source": []
  },
  {
   "cell_type": "code",
   "execution_count": null,
   "id": "ab9a90aa",
   "metadata": {},
   "outputs": [],
   "source": [
    "TimeSeries.from_dataframe"
   ]
  },
  {
   "cell_type": "code",
   "execution_count": null,
   "id": "1a6a6c02",
   "metadata": {},
   "outputs": [],
   "source": []
  },
  {
   "cell_type": "code",
   "execution_count": 19,
   "id": "914442f2",
   "metadata": {},
   "outputs": [
    {
     "data": {
      "image/png": "[encoded data removed]",
      "text/plain": [
       "<Figure size 432x288 with 1 Axes>"
      ]
     },
     "metadata": {
      "needs_background": "light"
     },
     "output_type": "display_data"
    }
   ],
   "source": [
    "seroes_below_list\n",
    "train, val = seroes_below_list[:-56], seroes_below_list[-56:]\n",
    "\n",
    "model = ExponentialSmoothing()\n",
    "model.fit(train)\n",
    "pred = model.predict(n=36, num_samples=500)\n",
    "\n",
    "series.plot()\n",
    "pred.plot(label='forecast')"
   ]
  },
  {
   "cell_type": "code",
   "execution_count": 21,
   "id": "c97fe71f",
   "metadata": {},
   "outputs": [
    {
     "data": {
      "image/png": "[encoded data removed]",
      "text/plain": [
       "<Figure size 432x288 with 1 Axes>"
      ]
     },
     "metadata": {
      "needs_background": "light"
     },
     "output_type": "display_data"
    }
   ],
   "source": [
    "train, val = series_above_list[:-36], series_above_list[-36:]\n",
    "\n",
    "model = ExponentialSmoothing()\n",
    "model.fit(train)\n",
    "pred = model.predict(n=36, num_samples=500)\n",
    "\n",
    "series.plot()\n",
    "pred.plot(label='forecast')"
   ]
  },
  {
   "cell_type": "code",
   "execution_count": 22,
   "id": "654591d6",
   "metadata": {},
   "outputs": [
    {
     "data": {
      "image/png": "[encoded data removed]",
      "text/plain": [
       "<Figure size 432x288 with 1 Axes>"
      ]
     },
     "metadata": {
      "needs_background": "light"
     },
     "output_type": "display_data"
    }
   ],
   "source": [
    "train, val = series_mean_selling[:-36], series_mean_selling[-36:]\n",
    "\n",
    "model = ExponentialSmoothing()\n",
    "model.fit(train)\n",
    "pred = model.predict(n=36, num_samples=500)\n",
    "\n",
    "series.plot()\n",
    "pred.plot(label='forecast')"
   ]
  },
  {
   "cell_type": "code",
   "execution_count": 23,
   "id": "9de6224b",
   "metadata": {},
   "outputs": [
    {
     "name": "stderr",
     "output_type": "stream",
     "text": [
      "C:\\Users\\IanAK\\miniconda3\\envs\\mlenv\\lib\\site-packages\\statsmodels\\tsa\\exponential_smoothing\\initialization.py:96: RuntimeWarning: Mean of empty slice\n",
      "  tmp.reshape(k_cycles, seasonal_periods).T, axis=1)\n"
     ]
    },
    {
     "ename": "ValueError",
     "evalue": "shapes (2,10) and (0,1) not aligned: 10 (dim 1) != 0 (dim 0)",
     "output_type": "error",
     "traceback": [
      "\u001b[1;31m---------------------------------------------------------------------------\u001b[0m",
      "\u001b[1;31mValueError\u001b[0m                                Traceback (most recent call last)",
      "\u001b[1;32m~\\AppData\\Local\\Temp/ipykernel_2604/1055848365.py\u001b[0m in \u001b[0;36m<module>\u001b[1;34m\u001b[0m\n\u001b[0;32m      2\u001b[0m \u001b[1;33m\u001b[0m\u001b[0m\n\u001b[0;32m      3\u001b[0m \u001b[0mmodel\u001b[0m \u001b[1;33m=\u001b[0m \u001b[0mExponentialSmoothing\u001b[0m\u001b[1;33m(\u001b[0m\u001b[1;33m)\u001b[0m\u001b[1;33m\u001b[0m\u001b[1;33m\u001b[0m\u001b[0m\n\u001b[1;32m----> 4\u001b[1;33m \u001b[0mmodel\u001b[0m\u001b[1;33m.\u001b[0m\u001b[0mfit\u001b[0m\u001b[1;33m(\u001b[0m\u001b[0mtrain\u001b[0m\u001b[1;33m)\u001b[0m\u001b[1;33m\u001b[0m\u001b[1;33m\u001b[0m\u001b[0m\n\u001b[0m\u001b[0;32m      5\u001b[0m \u001b[0mpred\u001b[0m \u001b[1;33m=\u001b[0m \u001b[0mmodel\u001b[0m\u001b[1;33m.\u001b[0m\u001b[0mpredict\u001b[0m\u001b[1;33m(\u001b[0m\u001b[0mn\u001b[0m\u001b[1;33m=\u001b[0m\u001b[1;36m36\u001b[0m\u001b[1;33m,\u001b[0m \u001b[0mnum_samples\u001b[0m\u001b[1;33m=\u001b[0m\u001b[1;36m500\u001b[0m\u001b[1;33m)\u001b[0m\u001b[1;33m\u001b[0m\u001b[1;33m\u001b[0m\u001b[0m\n\u001b[0;32m      6\u001b[0m \u001b[1;33m\u001b[0m\u001b[0m\n",
      "\u001b[1;32m~\\miniconda3\\envs\\mlenv\\lib\\site-packages\\darts\\models\\forecasting\\exponential_smoothing.py\u001b[0m in \u001b[0;36mfit\u001b[1;34m(self, series)\u001b[0m\n\u001b[0;32m    104\u001b[0m             \u001b[0mseasonal_periods\u001b[0m\u001b[1;33m=\u001b[0m\u001b[0mseasonal_periods_param\u001b[0m\u001b[1;33m,\u001b[0m\u001b[1;33m\u001b[0m\u001b[1;33m\u001b[0m\u001b[0m\n\u001b[0;32m    105\u001b[0m             \u001b[0mfreq\u001b[0m\u001b[1;33m=\u001b[0m\u001b[0mseries\u001b[0m\u001b[1;33m.\u001b[0m\u001b[0mfreq\u001b[0m \u001b[1;32mif\u001b[0m \u001b[0mseries\u001b[0m\u001b[1;33m.\u001b[0m\u001b[0mhas_datetime_index\u001b[0m \u001b[1;32melse\u001b[0m \u001b[1;32mNone\u001b[0m\u001b[1;33m,\u001b[0m\u001b[1;33m\u001b[0m\u001b[1;33m\u001b[0m\u001b[0m\n\u001b[1;32m--> 106\u001b[1;33m             \u001b[0mdates\u001b[0m\u001b[1;33m=\u001b[0m\u001b[0mseries\u001b[0m\u001b[1;33m.\u001b[0m\u001b[0mtime_index\u001b[0m \u001b[1;32mif\u001b[0m \u001b[0mseries\u001b[0m\u001b[1;33m.\u001b[0m\u001b[0mhas_datetime_index\u001b[0m \u001b[1;32melse\u001b[0m \u001b[1;32mNone\u001b[0m\u001b[1;33m,\u001b[0m\u001b[1;33m\u001b[0m\u001b[1;33m\u001b[0m\u001b[0m\n\u001b[0m\u001b[0;32m    107\u001b[0m         )\n\u001b[0;32m    108\u001b[0m         \u001b[0mhw_results\u001b[0m \u001b[1;33m=\u001b[0m \u001b[0mhw_model\u001b[0m\u001b[1;33m.\u001b[0m\u001b[0mfit\u001b[0m\u001b[1;33m(\u001b[0m\u001b[1;33m**\u001b[0m\u001b[0mself\u001b[0m\u001b[1;33m.\u001b[0m\u001b[0mfit_kwargs\u001b[0m\u001b[1;33m)\u001b[0m\u001b[1;33m\u001b[0m\u001b[1;33m\u001b[0m\u001b[0m\n",
      "\u001b[1;32m~\\miniconda3\\envs\\mlenv\\lib\\site-packages\\pandas\\util\\_decorators.py\u001b[0m in \u001b[0;36mwrapper\u001b[1;34m(*args, **kwargs)\u001b[0m\n\u001b[0;32m    205\u001b[0m                 \u001b[1;32melse\u001b[0m\u001b[1;33m:\u001b[0m\u001b[1;33m\u001b[0m\u001b[1;33m\u001b[0m\u001b[0m\n\u001b[0;32m    206\u001b[0m                     \u001b[0mkwargs\u001b[0m\u001b[1;33m[\u001b[0m\u001b[0mnew_arg_name\u001b[0m\u001b[1;33m]\u001b[0m \u001b[1;33m=\u001b[0m \u001b[0mnew_arg_value\u001b[0m\u001b[1;33m\u001b[0m\u001b[1;33m\u001b[0m\u001b[0m\n\u001b[1;32m--> 207\u001b[1;33m             \u001b[1;32mreturn\u001b[0m \u001b[0mfunc\u001b[0m\u001b[1;33m(\u001b[0m\u001b[1;33m*\u001b[0m\u001b[0margs\u001b[0m\u001b[1;33m,\u001b[0m \u001b[1;33m**\u001b[0m\u001b[0mkwargs\u001b[0m\u001b[1;33m)\u001b[0m\u001b[1;33m\u001b[0m\u001b[1;33m\u001b[0m\u001b[0m\n\u001b[0m\u001b[0;32m    208\u001b[0m \u001b[1;33m\u001b[0m\u001b[0m\n\u001b[0;32m    209\u001b[0m         \u001b[1;32mreturn\u001b[0m \u001b[0mcast\u001b[0m\u001b[1;33m(\u001b[0m\u001b[0mF\u001b[0m\u001b[1;33m,\u001b[0m \u001b[0mwrapper\u001b[0m\u001b[1;33m)\u001b[0m\u001b[1;33m\u001b[0m\u001b[1;33m\u001b[0m\u001b[0m\n",
      "\u001b[1;32m~\\miniconda3\\envs\\mlenv\\lib\\site-packages\\statsmodels\\tsa\\holtwinters\\model.py\u001b[0m in \u001b[0;36m__init__\u001b[1;34m(self, endog, trend, damped_trend, seasonal, seasonal_periods, initialization_method, initial_level, initial_trend, initial_seasonal, use_boxcox, bounds, dates, freq, missing)\u001b[0m\n\u001b[0;32m    290\u001b[0m         \u001b[0mself\u001b[0m\u001b[1;33m.\u001b[0m\u001b[0m_lambda\u001b[0m \u001b[1;33m=\u001b[0m \u001b[0mnp\u001b[0m\u001b[1;33m.\u001b[0m\u001b[0mnan\u001b[0m\u001b[1;33m\u001b[0m\u001b[1;33m\u001b[0m\u001b[0m\n\u001b[0;32m    291\u001b[0m         \u001b[0mself\u001b[0m\u001b[1;33m.\u001b[0m\u001b[0m_y\u001b[0m \u001b[1;33m=\u001b[0m \u001b[0mself\u001b[0m\u001b[1;33m.\u001b[0m\u001b[0m_boxcox\u001b[0m\u001b[1;33m(\u001b[0m\u001b[1;33m)\u001b[0m\u001b[1;33m\u001b[0m\u001b[1;33m\u001b[0m\u001b[0m\n\u001b[1;32m--> 292\u001b[1;33m         \u001b[0mself\u001b[0m\u001b[1;33m.\u001b[0m\u001b[0m_initialize\u001b[0m\u001b[1;33m(\u001b[0m\u001b[1;33m)\u001b[0m\u001b[1;33m\u001b[0m\u001b[1;33m\u001b[0m\u001b[0m\n\u001b[0m\u001b[0;32m    293\u001b[0m         \u001b[0mself\u001b[0m\u001b[1;33m.\u001b[0m\u001b[0m_fixed_parameters\u001b[0m \u001b[1;33m=\u001b[0m \u001b[1;33m{\u001b[0m\u001b[1;33m}\u001b[0m\u001b[1;33m\u001b[0m\u001b[1;33m\u001b[0m\u001b[0m\n\u001b[0;32m    294\u001b[0m \u001b[1;33m\u001b[0m\u001b[0m\n",
      "\u001b[1;32m~\\miniconda3\\envs\\mlenv\\lib\\site-packages\\statsmodels\\tsa\\holtwinters\\model.py\u001b[0m in \u001b[0;36m_initialize\u001b[1;34m(self)\u001b[0m\n\u001b[0;32m    430\u001b[0m                 \u001b[1;32mreturn\u001b[0m \u001b[0mself\u001b[0m\u001b[1;33m.\u001b[0m\u001b[0m_initialize_simple\u001b[0m\u001b[1;33m(\u001b[0m\u001b[1;33m)\u001b[0m\u001b[1;33m\u001b[0m\u001b[1;33m\u001b[0m\u001b[0m\n\u001b[0;32m    431\u001b[0m             \u001b[1;32melse\u001b[0m\u001b[1;33m:\u001b[0m\u001b[1;33m\u001b[0m\u001b[1;33m\u001b[0m\u001b[0m\n\u001b[1;32m--> 432\u001b[1;33m                 \u001b[1;32mreturn\u001b[0m \u001b[0mself\u001b[0m\u001b[1;33m.\u001b[0m\u001b[0m_initialize_heuristic\u001b[0m\u001b[1;33m(\u001b[0m\u001b[1;33m)\u001b[0m\u001b[1;33m\u001b[0m\u001b[1;33m\u001b[0m\u001b[0m\n\u001b[0m\u001b[0;32m    433\u001b[0m \u001b[1;33m\u001b[0m\u001b[0m\n\u001b[0;32m    434\u001b[0m     \u001b[1;32mdef\u001b[0m \u001b[0m_initialize_simple\u001b[0m\u001b[1;33m(\u001b[0m\u001b[0mself\u001b[0m\u001b[1;33m)\u001b[0m\u001b[1;33m:\u001b[0m\u001b[1;33m\u001b[0m\u001b[1;33m\u001b[0m\u001b[0m\n",
      "\u001b[1;32m~\\miniconda3\\envs\\mlenv\\lib\\site-packages\\statsmodels\\tsa\\holtwinters\\model.py\u001b[0m in \u001b[0;36m_initialize_heuristic\u001b[1;34m(self)\u001b[0m\n\u001b[0;32m    446\u001b[0m         \u001b[0mseasonal\u001b[0m \u001b[1;33m=\u001b[0m \u001b[0mself\u001b[0m\u001b[1;33m.\u001b[0m\u001b[0mseasonal\u001b[0m \u001b[1;32mif\u001b[0m \u001b[0mself\u001b[0m\u001b[1;33m.\u001b[0m\u001b[0mhas_seasonal\u001b[0m \u001b[1;32melse\u001b[0m \u001b[1;32mFalse\u001b[0m\u001b[1;33m\u001b[0m\u001b[1;33m\u001b[0m\u001b[0m\n\u001b[0;32m    447\u001b[0m         lvl, trend, seas = _initialization_heuristic(\n\u001b[1;32m--> 448\u001b[1;33m             \u001b[0mself\u001b[0m\u001b[1;33m.\u001b[0m\u001b[0m_y\u001b[0m\u001b[1;33m,\u001b[0m \u001b[0mtrend\u001b[0m\u001b[1;33m,\u001b[0m \u001b[0mseasonal\u001b[0m\u001b[1;33m,\u001b[0m \u001b[0mself\u001b[0m\u001b[1;33m.\u001b[0m\u001b[0mseasonal_periods\u001b[0m\u001b[1;33m\u001b[0m\u001b[1;33m\u001b[0m\u001b[0m\n\u001b[0m\u001b[0;32m    449\u001b[0m         )\n\u001b[0;32m    450\u001b[0m         \u001b[0mself\u001b[0m\u001b[1;33m.\u001b[0m\u001b[0m_initial_level\u001b[0m \u001b[1;33m=\u001b[0m \u001b[0mlvl\u001b[0m\u001b[1;33m\u001b[0m\u001b[1;33m\u001b[0m\u001b[0m\n",
      "\u001b[1;32m~\\miniconda3\\envs\\mlenv\\lib\\site-packages\\statsmodels\\tsa\\exponential_smoothing\\initialization.py\u001b[0m in \u001b[0;36m_initialization_heuristic\u001b[1;34m(endog, trend, seasonal, seasonal_periods)\u001b[0m\n\u001b[0;32m    109\u001b[0m     \u001b[1;32mif\u001b[0m \u001b[0mendog\u001b[0m\u001b[1;33m.\u001b[0m\u001b[0mndim\u001b[0m \u001b[1;33m==\u001b[0m \u001b[1;36m1\u001b[0m\u001b[1;33m:\u001b[0m\u001b[1;33m\u001b[0m\u001b[1;33m\u001b[0m\u001b[0m\n\u001b[0;32m    110\u001b[0m         \u001b[0mendog\u001b[0m \u001b[1;33m=\u001b[0m \u001b[0mnp\u001b[0m\u001b[1;33m.\u001b[0m\u001b[0matleast_2d\u001b[0m\u001b[1;33m(\u001b[0m\u001b[0mendog\u001b[0m\u001b[1;33m)\u001b[0m\u001b[1;33m.\u001b[0m\u001b[0mT\u001b[0m\u001b[1;33m\u001b[0m\u001b[1;33m\u001b[0m\u001b[0m\n\u001b[1;32m--> 111\u001b[1;33m     \u001b[0mbeta\u001b[0m \u001b[1;33m=\u001b[0m \u001b[0mnp\u001b[0m\u001b[1;33m.\u001b[0m\u001b[0msqueeze\u001b[0m\u001b[1;33m(\u001b[0m\u001b[0mnp\u001b[0m\u001b[1;33m.\u001b[0m\u001b[0mlinalg\u001b[0m\u001b[1;33m.\u001b[0m\u001b[0mpinv\u001b[0m\u001b[1;33m(\u001b[0m\u001b[0mexog\u001b[0m\u001b[1;33m)\u001b[0m\u001b[1;33m.\u001b[0m\u001b[0mdot\u001b[0m\u001b[1;33m(\u001b[0m\u001b[0mendog\u001b[0m\u001b[1;33m[\u001b[0m\u001b[1;33m:\u001b[0m\u001b[1;36m10\u001b[0m\u001b[1;33m]\u001b[0m\u001b[1;33m)\u001b[0m\u001b[1;33m)\u001b[0m\u001b[1;33m\u001b[0m\u001b[1;33m\u001b[0m\u001b[0m\n\u001b[0m\u001b[0;32m    112\u001b[0m     \u001b[0minitial_level\u001b[0m \u001b[1;33m=\u001b[0m \u001b[0mbeta\u001b[0m\u001b[1;33m[\u001b[0m\u001b[1;36m0\u001b[0m\u001b[1;33m]\u001b[0m\u001b[1;33m\u001b[0m\u001b[1;33m\u001b[0m\u001b[0m\n\u001b[0;32m    113\u001b[0m \u001b[1;33m\u001b[0m\u001b[0m\n",
      "\u001b[1;31mValueError\u001b[0m: shapes (2,10) and (0,1) not aligned: 10 (dim 1) != 0 (dim 0)"
     ]
    }
   ],
   "source": [
    "train, val = series_mean_close_days[:-36], series_mean_close_days[-36:]\n",
    "\n",
    "model = ExponentialSmoothing()\n",
    "model.fit(train)\n",
    "pred = model.predict(n=36, num_samples=500)\n",
    "\n",
    "series.plot()\n",
    "pred.plot(label='forecast')"
   ]
  },
  {
   "cell_type": "code",
   "execution_count": null,
   "id": "d3584fa1",
   "metadata": {},
   "outputs": [],
   "source": [
    "series = AirPassengersDataset().load()\n",
    "train, val = series[:-36], series[-36:]\n",
    "\n",
    "model = ExponentialSmoothing()\n",
    "model.fit(train)\n",
    "pred = model.predict(n=36, num_samples=500)\n",
    "\n",
    "series.plot()\n",
    "pred.plot(label='forecast')"
   ]
  },
  {
   "cell_type": "code",
   "execution_count": null,
   "id": "84a667ad",
   "metadata": {},
   "outputs": [],
   "source": [
    "series = AirPassengersDataset().load()\n",
    "train, val = series[:-36], series[-36:]\n",
    "\n",
    "model = ExponentialSmoothing()\n",
    "model.fit(train)\n",
    "pred = model.predict(n=36, num_samples=500)\n",
    "\n",
    "series.plot()\n",
    "pred.plot(label='forecast')"
   ]
  },
  {
   "cell_type": "code",
   "execution_count": null,
   "id": "ed6efadd",
   "metadata": {},
   "outputs": [],
   "source": [
    "series = AirPassengersDataset().load()\n",
    "train, val = series[:-36], series[-36:]\n",
    "\n",
    "model = ExponentialSmoothing()\n",
    "model.fit(train)\n",
    "pred = model.predict(n=36, num_samples=500)\n",
    "\n",
    "series.plot()\n",
    "pred.plot(label='forecast')"
   ]
  },
  {
   "cell_type": "code",
   "execution_count": null,
   "id": "d94d05fb",
   "metadata": {},
   "outputs": [],
   "source": [
    "series = AirPassengersDataset().load()\n",
    "train, val = series[:-36], series[-36:]\n",
    "\n",
    "model = ExponentialSmoothing()\n",
    "model.fit(train)\n",
    "pred = model.predict(n=36, num_samples=500)\n",
    "\n",
    "series.plot()\n",
    "pred.plot(label='forecast')"
   ]
  },
  {
   "cell_type": "code",
   "execution_count": null,
   "id": "e67441b3",
   "metadata": {},
   "outputs": [],
   "source": [
    "series = AirPassengersDataset().load()\n",
    "train, val = series[:-36], series[-36:]\n",
    "\n",
    "model = ExponentialSmoothing()\n",
    "model.fit(train)\n",
    "pred = model.predict(n=36, num_samples=500)\n",
    "\n",
    "series.plot()\n",
    "pred.plot(label='forecast')"
   ]
  },
  {
   "cell_type": "code",
   "execution_count": null,
   "id": "61f0e89e",
   "metadata": {},
   "outputs": [],
   "source": [
    "series = AirPassengersDataset().load()\n",
    "train, val = series[:-36], series[-36:]\n",
    "\n",
    "model = ExponentialSmoothing()\n",
    "model.fit(train)\n",
    "pred = model.predict(n=36, num_samples=500)\n",
    "\n",
    "series.plot()\n",
    "pred.plot(label='forecast')"
   ]
  },
  {
   "cell_type": "code",
   "execution_count": null,
   "id": "c6478cb6",
   "metadata": {},
   "outputs": [],
   "source": [
    "series = AirPassengersDataset().load()\n",
    "train, val = series[:-36], series[-36:]\n",
    "\n",
    "model = ExponentialSmoothing()\n",
    "model.fit(train)\n",
    "pred = model.predict(n=36, num_samples=500)\n",
    "\n",
    "series.plot()\n",
    "pred.plot(label='forecast')"
   ]
  },
  {
   "cell_type": "code",
   "execution_count": null,
   "id": "7531bea7",
   "metadata": {},
   "outputs": [],
   "source": [
    "series = AirPassengersDataset().load()\n",
    "train, val = series[:-36], series[-36:]\n",
    "\n",
    "model = ExponentialSmoothing()\n",
    "model.fit(train)\n",
    "pred = model.predict(n=36, num_samples=500)\n",
    "\n",
    "series.plot()\n",
    "pred.plot(label='forecast')"
   ]
  },
  {
   "cell_type": "code",
   "execution_count": null,
   "id": "7ea31145",
   "metadata": {},
   "outputs": [],
   "source": []
  },
  {
   "cell_type": "code",
   "execution_count": null,
   "id": "69dc605e",
   "metadata": {},
   "outputs": [],
   "source": []
  },
  {
   "cell_type": "code",
   "execution_count": null,
   "id": "fd492f7f",
   "metadata": {},
   "outputs": [],
   "source": []
  }
 ],
 "metadata": {
  "kernelspec": {
   "display_name": "mlen",
   "language": "python",
   "name": "mlen"
  },
  "language_info": {
   "codemirror_mode": {
    "name": "ipython",
    "version": 3
   },
   "file_extension": ".py",
   "mimetype": "text/x-python",
   "name": "python",
   "nbconvert_exporter": "python",
   "pygments_lexer": "ipython3",
   "version": "3.7.11"
  }
 },
 "nbformat": 4,
 "nbformat_minor": 5
}
