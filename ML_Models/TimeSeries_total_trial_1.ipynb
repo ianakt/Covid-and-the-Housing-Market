{
 "cells": [
  {
   "cell_type": "code",
   "execution_count": 1,
   "id": "84ec029f",
   "metadata": {},
   "outputs": [],
   "source": [
    "\n",
    "# from utils import fix_pythonpath_if_working_locally\n",
    "\n",
    "# fix_pythonpath_if_working_locally()\n",
    "\n",
    "import pandas as pd\n",
    "import numpy as np\n",
    "import torch\n",
    "import matplotlib.pyplot as plt\n",
    "from darts.models import Prophet\n",
    "import plotly.express as px\n",
    "from datetime import datetime\n",
    "\n",
    "\n",
    "from darts import TimeSeries\n",
    "from darts.utils.timeseries_generation import (\n",
    "    gaussian_timeseries,\n",
    "    linear_timeseries,\n",
    "    sine_timeseries,\n",
    ")\n",
    "from darts.models import (\n",
    "    RNNModel,\n",
    "    TCNModel,\n",
    "    TransformerModel,\n",
    "    NBEATSModel,\n",
    "    BlockRNNModel,\n",
    ")\n",
    "from darts.models import ExponentialSmoothing\n",
    "from darts.metrics import mape, smape\n",
    "from darts.dataprocessing.transformers import Scaler\n",
    "from darts.utils.timeseries_generation import datetime_attribute_timeseries"
   ]
  },
  {
   "cell_type": "code",
   "execution_count": 2,
   "id": "cf3aadd8",
   "metadata": {},
   "outputs": [],
   "source": [
    "RNA_Conc = pd.read_csv(\"https://raw.githubusercontent.com/biobotanalytics/covid19-wastewater-data/master/wastewater_by_county.csv\")\n",
    "Covid_Rate = pd.read_csv(\"https://raw.githubusercontent.com/biobotanalytics/covid19-wastewater-data/master/cases_by_county.csv\")\n",
    "Sale_to_List_table = pd.read_csv(\"Sales_to_List.csv\")\n",
    "SDU = pd.read_excel(\"Carlsbad_San_Diego_Unemployment.xlsx\")\n",
    "SanDiego_Employment = pd.read_csv(\"SDUT.csv\", parse_dates=True, infer_datetime_format=True)"
   ]
  },
  {
   "cell_type": "code",
   "execution_count": 40,
   "id": "7599a65f",
   "metadata": {
    "scrolled": true
   },
   "outputs": [
    {
     "name": "stderr",
     "output_type": "stream",
     "text": [
      "C:\\Users\\IanAK\\miniconda3\\envs\\mlenv\\lib\\site-packages\\ipykernel_launcher.py:18: FutureWarning:\n",
      "\n",
      "Series.dt.weekofyear and Series.dt.week have been deprecated.  Please use Series.dt.isocalendar().week instead.\n",
      "\n",
      "C:\\Users\\IanAK\\miniconda3\\envs\\mlenv\\lib\\site-packages\\ipykernel_launcher.py:19: FutureWarning:\n",
      "\n",
      "Series.dt.weekofyear and Series.dt.week have been deprecated.  Please use Series.dt.isocalendar().week instead.\n",
      "\n",
      "C:\\Users\\IanAK\\miniconda3\\envs\\mlenv\\lib\\site-packages\\ipykernel_launcher.py:33: FutureWarning:\n",
      "\n",
      "Series.dt.weekofyear and Series.dt.week have been deprecated.  Please use Series.dt.isocalendar().week instead.\n",
      "\n",
      "C:\\Users\\IanAK\\miniconda3\\envs\\mlenv\\lib\\site-packages\\ipykernel_launcher.py:36: FutureWarning:\n",
      "\n",
      "Series.dt.weekofyear and Series.dt.week have been deprecated.  Please use Series.dt.isocalendar().week instead.\n",
      "\n",
      "C:\\Users\\IanAK\\miniconda3\\envs\\mlenv\\lib\\site-packages\\ipykernel_launcher.py:52: FutureWarning:\n",
      "\n",
      "Series.dt.weekofyear and Series.dt.week have been deprecated.  Please use Series.dt.isocalendar().week instead.\n",
      "\n",
      "C:\\Users\\IanAK\\miniconda3\\envs\\mlenv\\lib\\site-packages\\ipykernel_launcher.py:56: FutureWarning:\n",
      "\n",
      "Series.dt.weekofyear and Series.dt.week have been deprecated.  Please use Series.dt.isocalendar().week instead.\n",
      "\n",
      "C:\\Users\\IanAK\\miniconda3\\envs\\mlenv\\lib\\site-packages\\ipykernel_launcher.py:60: FutureWarning:\n",
      "\n",
      "Series.dt.weekofyear and Series.dt.week have been deprecated.  Please use Series.dt.isocalendar().week instead.\n",
      "\n",
      "C:\\Users\\IanAK\\miniconda3\\envs\\mlenv\\lib\\site-packages\\ipykernel_launcher.py:64: FutureWarning:\n",
      "\n",
      "Series.dt.weekofyear and Series.dt.week have been deprecated.  Please use Series.dt.isocalendar().week instead.\n",
      "\n"
     ]
    }
   ],
   "source": [
    "# Covid Cases and RNA level Processing\n",
    "\n",
    "\n",
    "# Isolated counties Covid Cases\n",
    "Covid_Rate.loc[Covid_Rate[\"name\"] == \"Miami-Dade County, FL\"]\n",
    "Sandy = Covid_Rate.loc[Covid_Rate[\"name\"] == 'San Diego County, CA']\n",
    "Miami_cases2 = Covid_Rate.loc[Covid_Rate[\"name\"] == \"Miami-Dade County, FL\"]\n",
    "\n",
    "# Isolated counties RNA \n",
    "Miami_RNA = RNA_Conc.loc[RNA_Conc['name'] == \"Miami-Dade County, FL\"]\n",
    "Sandy_RNA =  RNA_Conc.loc[RNA_Conc['name'] == \"San Diego County, CA\"]\n",
    "\n",
    "# Isolated by year\n",
    "Miami_2020_cases = Miami_cases2.loc[pd.to_datetime(Miami_cases2['date']).dt.year == 2020]\n",
    "Sandy_2020_cases = Sandy.loc[pd.to_datetime(Sandy['date']).dt.year == 2020]\n",
    "\n",
    "# added week column\n",
    "Miami_2020_cases.insert(2, \"week\", pd.to_datetime(Miami_2020_cases['date']).dt.week, True)\n",
    "Sandy_2020_cases.insert(2, \"week\", pd.to_datetime(Sandy['date']).dt.week, True)\n",
    "\n",
    "# group by and sum\n",
    "Miami_test_2020 = Miami_2020_cases.groupby(by = \"week\").sum()\n",
    "Sandy_2020_cases = Sandy_2020_cases.groupby(by = \"week\").sum()\n",
    "\n",
    "\n",
    "# insert year\n",
    "Miami_RNA.insert(2, \"year\", pd.to_datetime(Miami_RNA['sampling_week']).dt.year, True)\n",
    "Sandy_RNA.insert(2, \"year\", pd.to_datetime(Sandy_RNA['sampling_week']).dt.year, True)\n",
    "\n",
    "\n",
    "# RNA by year 2020\n",
    "RNA_2020 = Miami_RNA.loc[Miami_RNA[\"year\"] == 2020]\n",
    "RNA_2020.insert(2, \"week\", pd.to_datetime(RNA_2020['sampling_week']).dt.week, True)\n",
    "\n",
    "Sandy_RNA_2020 = Sandy_RNA.loc[Sandy_RNA[\"year\"] == 2020]\n",
    "Sandy_RNA_2020.insert(2, \"week\", pd.to_datetime(Sandy_RNA_2020['sampling_week']).dt.week, True)\n",
    "\n",
    "\n",
    "#Merge for 2020\n",
    "Cases_and_RNA = RNA_2020.merge(Miami_test_2020, how='inner', on='week')\n",
    "Cases_and_RNA[\"Month\"] = pd.to_datetime(Cases_and_RNA.sampling_week).dt.to_period('M')\n",
    "Cases_and_RNA = Cases_and_RNA.drop(columns = \"sampling_week\")\n",
    "Cases_and_RNA = Cases_and_RNA.drop(columns = \"Unnamed: 0_x\")\n",
    "Cases_and_RNA = Cases_and_RNA.drop(columns = \"Unnamed: 0_y\")\n",
    "Cases_and_RNA = Cases_and_RNA.drop(columns = [\"fipscode_x\", \"fipscode_y\"])\n",
    "\n",
    "Sandy_Cases_and_RNA = Sandy_RNA_2020.merge(Sandy_2020_cases, how='inner', on='week')\n",
    "\n",
    "# cases by year\n",
    "\n",
    "Miami_2021_cases = Miami_cases2.loc[pd.to_datetime(Miami_cases2['date']).dt.year == 2021]\n",
    "Miami_2021_cases.insert(2, \"week\", pd.to_datetime(Miami_2021_cases['date']).dt.week, True)\n",
    "Miami_test_2021 = Miami_2021_cases.groupby(by = \"week\").sum()\n",
    "\n",
    "Sandy_2021_cases = Sandy.loc[pd.to_datetime(Sandy['date']).dt.year == 2021]\n",
    "Sandy_2021_cases.insert(2, \"week\", pd.to_datetime(Sandy_2021_cases['date']).dt.week, True)\n",
    "Sandy_test_2021 = Sandy_2021_cases.groupby(by = \"week\").sum()\n",
    "\n",
    "Sandy_2022_cases = Sandy.loc[pd.to_datetime(Sandy['date']).dt.year == 2022]\n",
    "Sandy_2022_cases.insert(2, \"week\", pd.to_datetime(Sandy_2022_cases['date']).dt.week, True)\n",
    "Sandy_test_2022 = Sandy_2022_cases.groupby(by = \"week\").sum()\n",
    "\n",
    "Miami_2022_cases = Miami_cases2.loc[pd.to_datetime(Miami_cases2['date']).dt.year == 2022]\n",
    "Miami_2022_cases.insert(2, \"week\", pd.to_datetime(Miami_2022_cases['date']).dt.week, True)\n",
    "Miami_test_2022 = Miami_2022_cases.groupby(by = \"week\").sum()\n",
    "\n",
    "kent = pd.concat([Miami_test_2020, Miami_test_2021, Miami_test_2022], ignore_index=True)\n",
    "Sandy_kent = pd.concat([Sandy_2020_cases, Sandy_test_2021, Sandy_test_2022], ignore_index=True)\n",
    "\n",
    "# Total_2021_cases = Covid_Rate.loc[pd.to_datetime(Covid_Rate['date']).dt.year == 2021]\n",
    "# Total_2021_cases.insert(2, \"week\", pd.to_datetime(Total_2021_cases['date']).dt.week, True)\n",
    "# Total_test_2021 = Total_2021_cases.groupby(by = \"week\").sum()\n",
    "\n",
    "\n"
   ]
  },
  {
   "cell_type": "code",
   "execution_count": 43,
   "id": "d848383a",
   "metadata": {},
   "outputs": [
    {
     "data": {
      "application/vnd.plotly.v1+json": {
       "config": {
        "plotlyServerURL": "https://plot.ly"
       },
       "data": [
        {
         "hovertemplate": "index=%{x}<br>rolling_average_cases_per_100k_centered=%{y}<extra></extra>",
         "legendgroup": "",
         "line": {
          "color": "#636efa",
          "dash": "solid"
         },
         "marker": {
          "symbol": "circle"
         },
         "mode": "lines",
         "name": "",
         "orientation": "v",
         "showlegend": false,
         "type": "scatter",
         "x": [
          0,
          1,
          2,
          3,
          4,
          5,
          6,
          7,
          8,
          9,
          10,
          11,
          12,
          13,
          14,
          15,
          16,
          17,
          18,
          19,
          20,
          21,
          22,
          23,
          24,
          25,
          26,
          27,
          28,
          29,
          30,
          31,
          32,
          33,
          34,
          35,
          36,
          37,
          38,
          39,
          40,
          41,
          42,
          43,
          44,
          45,
          46,
          47,
          48,
          49,
          50,
          51,
          52,
          53,
          54,
          55,
          56,
          57,
          58,
          59,
          60,
          61,
          62,
          63,
          64,
          65,
          66,
          67,
          68,
          69,
          70,
          71,
          72,
          73,
          74,
          75,
          76,
          77,
          78,
          79,
          80,
          81,
          82,
          83,
          84,
          85,
          86,
          87,
          88,
          89,
          90,
          91,
          92,
          93,
          94,
          95,
          96,
          97,
          98,
          99,
          100,
          101,
          102,
          103,
          104,
          105,
          106,
          107,
          108,
          109,
          110,
          111,
          112,
          113,
          114,
          115,
          116,
          117,
          118,
          119,
          120,
          121
         ],
         "xaxis": "x",
         "y": [
          0,
          0,
          0.0385136965403145,
          0.059910194618267,
          0.068468793849448,
          0.4108127630966893,
          2.0455052162522662,
          8.995087791971264,
          15.679353791523647,
          14.143085229526655,
          14.301419315303503,
          15.585209199980657,
          19.393785857856216,
          27.73842010825772,
          27.13503886245946,
          27.802609602491582,
          27.691347812486224,
          25.658680495080727,
          29.12919248332464,
          31.30307668804462,
          37.876080897591656,
          71.28029369689122,
          97.70068952354706,
          112.05773973385324,
          120.96724153351269,
          104.60319980349456,
          83.26233262054467,
          68.51586614521975,
          55.80634628691591,
          49.160593983903844,
          50.32884277896005,
          58.03586138663857,
          65.09670575236292,
          58.80613531744487,
          59.071451893611474,
          58.38676395511699,
          58.97730730206848,
          63.41066170382027,
          61.06560551447666,
          70.71114684801769,
          89.08218009774777,
          128.40038496579342,
          177.95039521471602,
          247.4804553688307,
          277.51685937066054,
          401.4924485339334,
          534.6043423764919,
          612.3592163917716,
          581.7750620391462,
          398.11180183761684,
          738.5685999543826,
          548.6746795125536,
          404.975798421024,
          279.84051906192616,
          197.23291928256685,
          125.88843609144178,
          86.03531877144732,
          67.53590653324952,
          53.653858580273884,
          45.749992190278206,
          41.72745055162312,
          44.23084082674357,
          47.59437032459772,
          49.50293795315108,
          48.36464425540401,
          41.89434323663115,
          32.32582929617075,
          29.40734695833802,
          24.768586175037903,
          19.92013971057385,
          16.368321029633723,
          15.405478616125855,
          13.13317052024729,
          16.132959550776246,
          19.890184613264715,
          30.160503690681956,
          60.218304190589734,
          101.09417411871033,
          152.46716600387447,
          199.6635614642223,
          239.1828934142007,
          236.39279006483568,
          222.6605175984057,
          263.1598091603543,
          182.11843304030117,
          176.99183210082373,
          129.29047928583626,
          151.43157549690156,
          116.98321359139793,
          92.51845768906695,
          110.7311568530202,
          94.91058617418204,
          114.90775327783652,
          103.04553474341962,
          95.48829162228675,
          89.82249893124492,
          86.23644585338008,
          154.86357378860515,
          148.65003074676775,
          227.94545262366,
          478.9520508757373,
          746.7591794186229,
          319.8690876661599,
          2130.290979535961,
          2359.4474739508332,
          1751.2006644896442,
          999.2079016411542,
          514.0765421205042,
          347.6631386694203,
          218.5138762708985,
          169.35756158661025,
          131.84950045595937,
          89.00087340505155,
          86.27495954992038,
          73.44134000276442,
          57.107253370055425,
          48.84392581235015,
          57.21423586044519,
          77.58798133027163,
          113.56833249815669,
          117.672180829508,
          365.6789900510562
         ],
         "yaxis": "y"
        }
       ],
       "layout": {
        "legend": {
         "tracegroupgap": 0
        },
        "template": {
         "data": {
          "bar": [
           {
            "error_x": {
             "color": "#2a3f5f"
            },
            "error_y": {
             "color": "#2a3f5f"
            },
            "marker": {
             "line": {
              "color": "#E5ECF6",
              "width": 0.5
             },
             "pattern": {
              "fillmode": "overlay",
              "size": 10,
              "solidity": 0.2
             }
            },
            "type": "bar"
           }
          ],
          "barpolar": [
           {
            "marker": {
             "line": {
              "color": "#E5ECF6",
              "width": 0.5
             },
             "pattern": {
              "fillmode": "overlay",
              "size": 10,
              "solidity": 0.2
             }
            },
            "type": "barpolar"
           }
          ],
          "carpet": [
           {
            "aaxis": {
             "endlinecolor": "#2a3f5f",
             "gridcolor": "white",
             "linecolor": "white",
             "minorgridcolor": "white",
             "startlinecolor": "#2a3f5f"
            },
            "baxis": {
             "endlinecolor": "#2a3f5f",
             "gridcolor": "white",
             "linecolor": "white",
             "minorgridcolor": "white",
             "startlinecolor": "#2a3f5f"
            },
            "type": "carpet"
           }
          ],
          "choropleth": [
           {
            "colorbar": {
             "outlinewidth": 0,
             "ticks": ""
            },
            "type": "choropleth"
           }
          ],
          "contour": [
           {
            "colorbar": {
             "outlinewidth": 0,
             "ticks": ""
            },
            "colorscale": [
             [
              0,
              "#0d0887"
             ],
             [
              0.1111111111111111,
              "#46039f"
             ],
             [
              0.2222222222222222,
              "#7201a8"
             ],
             [
              0.3333333333333333,
              "#9c179e"
             ],
             [
              0.4444444444444444,
              "#bd3786"
             ],
             [
              0.5555555555555556,
              "#d8576b"
             ],
             [
              0.6666666666666666,
              "#ed7953"
             ],
             [
              0.7777777777777778,
              "#fb9f3a"
             ],
             [
              0.8888888888888888,
              "#fdca26"
             ],
             [
              1,
              "#f0f921"
             ]
            ],
            "type": "contour"
           }
          ],
          "contourcarpet": [
           {
            "colorbar": {
             "outlinewidth": 0,
             "ticks": ""
            },
            "type": "contourcarpet"
           }
          ],
          "heatmap": [
           {
            "colorbar": {
             "outlinewidth": 0,
             "ticks": ""
            },
            "colorscale": [
             [
              0,
              "#0d0887"
             ],
             [
              0.1111111111111111,
              "#46039f"
             ],
             [
              0.2222222222222222,
              "#7201a8"
             ],
             [
              0.3333333333333333,
              "#9c179e"
             ],
             [
              0.4444444444444444,
              "#bd3786"
             ],
             [
              0.5555555555555556,
              "#d8576b"
             ],
             [
              0.6666666666666666,
              "#ed7953"
             ],
             [
              0.7777777777777778,
              "#fb9f3a"
             ],
             [
              0.8888888888888888,
              "#fdca26"
             ],
             [
              1,
              "#f0f921"
             ]
            ],
            "type": "heatmap"
           }
          ],
          "heatmapgl": [
           {
            "colorbar": {
             "outlinewidth": 0,
             "ticks": ""
            },
            "colorscale": [
             [
              0,
              "#0d0887"
             ],
             [
              0.1111111111111111,
              "#46039f"
             ],
             [
              0.2222222222222222,
              "#7201a8"
             ],
             [
              0.3333333333333333,
              "#9c179e"
             ],
             [
              0.4444444444444444,
              "#bd3786"
             ],
             [
              0.5555555555555556,
              "#d8576b"
             ],
             [
              0.6666666666666666,
              "#ed7953"
             ],
             [
              0.7777777777777778,
              "#fb9f3a"
             ],
             [
              0.8888888888888888,
              "#fdca26"
             ],
             [
              1,
              "#f0f921"
             ]
            ],
            "type": "heatmapgl"
           }
          ],
          "histogram": [
           {
            "marker": {
             "pattern": {
              "fillmode": "overlay",
              "size": 10,
              "solidity": 0.2
             }
            },
            "type": "histogram"
           }
          ],
          "histogram2d": [
           {
            "colorbar": {
             "outlinewidth": 0,
             "ticks": ""
            },
            "colorscale": [
             [
              0,
              "#0d0887"
             ],
             [
              0.1111111111111111,
              "#46039f"
             ],
             [
              0.2222222222222222,
              "#7201a8"
             ],
             [
              0.3333333333333333,
              "#9c179e"
             ],
             [
              0.4444444444444444,
              "#bd3786"
             ],
             [
              0.5555555555555556,
              "#d8576b"
             ],
             [
              0.6666666666666666,
              "#ed7953"
             ],
             [
              0.7777777777777778,
              "#fb9f3a"
             ],
             [
              0.8888888888888888,
              "#fdca26"
             ],
             [
              1,
              "#f0f921"
             ]
            ],
            "type": "histogram2d"
           }
          ],
          "histogram2dcontour": [
           {
            "colorbar": {
             "outlinewidth": 0,
             "ticks": ""
            },
            "colorscale": [
             [
              0,
              "#0d0887"
             ],
             [
              0.1111111111111111,
              "#46039f"
             ],
             [
              0.2222222222222222,
              "#7201a8"
             ],
             [
              0.3333333333333333,
              "#9c179e"
             ],
             [
              0.4444444444444444,
              "#bd3786"
             ],
             [
              0.5555555555555556,
              "#d8576b"
             ],
             [
              0.6666666666666666,
              "#ed7953"
             ],
             [
              0.7777777777777778,
              "#fb9f3a"
             ],
             [
              0.8888888888888888,
              "#fdca26"
             ],
             [
              1,
              "#f0f921"
             ]
            ],
            "type": "histogram2dcontour"
           }
          ],
          "mesh3d": [
           {
            "colorbar": {
             "outlinewidth": 0,
             "ticks": ""
            },
            "type": "mesh3d"
           }
          ],
          "parcoords": [
           {
            "line": {
             "colorbar": {
              "outlinewidth": 0,
              "ticks": ""
             }
            },
            "type": "parcoords"
           }
          ],
          "pie": [
           {
            "automargin": true,
            "type": "pie"
           }
          ],
          "scatter": [
           {
            "fillpattern": {
             "fillmode": "overlay",
             "size": 10,
             "solidity": 0.2
            },
            "type": "scatter"
           }
          ],
          "scatter3d": [
           {
            "line": {
             "colorbar": {
              "outlinewidth": 0,
              "ticks": ""
             }
            },
            "marker": {
             "colorbar": {
              "outlinewidth": 0,
              "ticks": ""
             }
            },
            "type": "scatter3d"
           }
          ],
          "scattercarpet": [
           {
            "marker": {
             "colorbar": {
              "outlinewidth": 0,
              "ticks": ""
             }
            },
            "type": "scattercarpet"
           }
          ],
          "scattergeo": [
           {
            "marker": {
             "colorbar": {
              "outlinewidth": 0,
              "ticks": ""
             }
            },
            "type": "scattergeo"
           }
          ],
          "scattergl": [
           {
            "marker": {
             "colorbar": {
              "outlinewidth": 0,
              "ticks": ""
             }
            },
            "type": "scattergl"
           }
          ],
          "scattermapbox": [
           {
            "marker": {
             "colorbar": {
              "outlinewidth": 0,
              "ticks": ""
             }
            },
            "type": "scattermapbox"
           }
          ],
          "scatterpolar": [
           {
            "marker": {
             "colorbar": {
              "outlinewidth": 0,
              "ticks": ""
             }
            },
            "type": "scatterpolar"
           }
          ],
          "scatterpolargl": [
           {
            "marker": {
             "colorbar": {
              "outlinewidth": 0,
              "ticks": ""
             }
            },
            "type": "scatterpolargl"
           }
          ],
          "scatterternary": [
           {
            "marker": {
             "colorbar": {
              "outlinewidth": 0,
              "ticks": ""
             }
            },
            "type": "scatterternary"
           }
          ],
          "surface": [
           {
            "colorbar": {
             "outlinewidth": 0,
             "ticks": ""
            },
            "colorscale": [
             [
              0,
              "#0d0887"
             ],
             [
              0.1111111111111111,
              "#46039f"
             ],
             [
              0.2222222222222222,
              "#7201a8"
             ],
             [
              0.3333333333333333,
              "#9c179e"
             ],
             [
              0.4444444444444444,
              "#bd3786"
             ],
             [
              0.5555555555555556,
              "#d8576b"
             ],
             [
              0.6666666666666666,
              "#ed7953"
             ],
             [
              0.7777777777777778,
              "#fb9f3a"
             ],
             [
              0.8888888888888888,
              "#fdca26"
             ],
             [
              1,
              "#f0f921"
             ]
            ],
            "type": "surface"
           }
          ],
          "table": [
           {
            "cells": {
             "fill": {
              "color": "#EBF0F8"
             },
             "line": {
              "color": "white"
             }
            },
            "header": {
             "fill": {
              "color": "#C8D4E3"
             },
             "line": {
              "color": "white"
             }
            },
            "type": "table"
           }
          ]
         },
         "layout": {
          "annotationdefaults": {
           "arrowcolor": "#2a3f5f",
           "arrowhead": 0,
           "arrowwidth": 1
          },
          "autotypenumbers": "strict",
          "coloraxis": {
           "colorbar": {
            "outlinewidth": 0,
            "ticks": ""
           }
          },
          "colorscale": {
           "diverging": [
            [
             0,
             "#8e0152"
            ],
            [
             0.1,
             "#c51b7d"
            ],
            [
             0.2,
             "#de77ae"
            ],
            [
             0.3,
             "#f1b6da"
            ],
            [
             0.4,
             "#fde0ef"
            ],
            [
             0.5,
             "#f7f7f7"
            ],
            [
             0.6,
             "#e6f5d0"
            ],
            [
             0.7,
             "#b8e186"
            ],
            [
             0.8,
             "#7fbc41"
            ],
            [
             0.9,
             "#4d9221"
            ],
            [
             1,
             "#276419"
            ]
           ],
           "sequential": [
            [
             0,
             "#0d0887"
            ],
            [
             0.1111111111111111,
             "#46039f"
            ],
            [
             0.2222222222222222,
             "#7201a8"
            ],
            [
             0.3333333333333333,
             "#9c179e"
            ],
            [
             0.4444444444444444,
             "#bd3786"
            ],
            [
             0.5555555555555556,
             "#d8576b"
            ],
            [
             0.6666666666666666,
             "#ed7953"
            ],
            [
             0.7777777777777778,
             "#fb9f3a"
            ],
            [
             0.8888888888888888,
             "#fdca26"
            ],
            [
             1,
             "#f0f921"
            ]
           ],
           "sequentialminus": [
            [
             0,
             "#0d0887"
            ],
            [
             0.1111111111111111,
             "#46039f"
            ],
            [
             0.2222222222222222,
             "#7201a8"
            ],
            [
             0.3333333333333333,
             "#9c179e"
            ],
            [
             0.4444444444444444,
             "#bd3786"
            ],
            [
             0.5555555555555556,
             "#d8576b"
            ],
            [
             0.6666666666666666,
             "#ed7953"
            ],
            [
             0.7777777777777778,
             "#fb9f3a"
            ],
            [
             0.8888888888888888,
             "#fdca26"
            ],
            [
             1,
             "#f0f921"
            ]
           ]
          },
          "colorway": [
           "#636efa",
           "#EF553B",
           "#00cc96",
           "#ab63fa",
           "#FFA15A",
           "#19d3f3",
           "#FF6692",
           "#B6E880",
           "#FF97FF",
           "#FECB52"
          ],
          "font": {
           "color": "#2a3f5f"
          },
          "geo": {
           "bgcolor": "white",
           "lakecolor": "white",
           "landcolor": "#E5ECF6",
           "showlakes": true,
           "showland": true,
           "subunitcolor": "white"
          },
          "hoverlabel": {
           "align": "left"
          },
          "hovermode": "closest",
          "mapbox": {
           "style": "light"
          },
          "paper_bgcolor": "white",
          "plot_bgcolor": "#E5ECF6",
          "polar": {
           "angularaxis": {
            "gridcolor": "white",
            "linecolor": "white",
            "ticks": ""
           },
           "bgcolor": "#E5ECF6",
           "radialaxis": {
            "gridcolor": "white",
            "linecolor": "white",
            "ticks": ""
           }
          },
          "scene": {
           "xaxis": {
            "backgroundcolor": "#E5ECF6",
            "gridcolor": "white",
            "gridwidth": 2,
            "linecolor": "white",
            "showbackground": true,
            "ticks": "",
            "zerolinecolor": "white"
           },
           "yaxis": {
            "backgroundcolor": "#E5ECF6",
            "gridcolor": "white",
            "gridwidth": 2,
            "linecolor": "white",
            "showbackground": true,
            "ticks": "",
            "zerolinecolor": "white"
           },
           "zaxis": {
            "backgroundcolor": "#E5ECF6",
            "gridcolor": "white",
            "gridwidth": 2,
            "linecolor": "white",
            "showbackground": true,
            "ticks": "",
            "zerolinecolor": "white"
           }
          },
          "shapedefaults": {
           "line": {
            "color": "#2a3f5f"
           }
          },
          "ternary": {
           "aaxis": {
            "gridcolor": "white",
            "linecolor": "white",
            "ticks": ""
           },
           "baxis": {
            "gridcolor": "white",
            "linecolor": "white",
            "ticks": ""
           },
           "bgcolor": "#E5ECF6",
           "caxis": {
            "gridcolor": "white",
            "linecolor": "white",
            "ticks": ""
           }
          },
          "title": {
           "x": 0.05
          },
          "xaxis": {
           "automargin": true,
           "gridcolor": "white",
           "linecolor": "white",
           "ticks": "",
           "title": {
            "standoff": 15
           },
           "zerolinecolor": "white",
           "zerolinewidth": 2
          },
          "yaxis": {
           "automargin": true,
           "gridcolor": "white",
           "linecolor": "white",
           "ticks": "",
           "title": {
            "standoff": 15
           },
           "zerolinecolor": "white",
           "zerolinewidth": 2
          }
         }
        },
        "title": {
         "text": "Mtrosh"
        },
        "xaxis": {
         "anchor": "y",
         "domain": [
          0,
          1
         ],
         "title": {
          "text": "index"
         }
        },
        "yaxis": {
         "anchor": "x",
         "domain": [
          0,
          1
         ],
         "title": {
          "text": "rolling_average_cases_per_100k_centered"
         }
        }
       }
      },
      "text/html": [
       "<div>                            <div id=\"c7e9b19c-e9c9-4a89-aa36-fd50427a8bb8\" class=\"plotly-graph-div\" style=\"height:525px; width:100%;\"></div>            <script type=\"text/javascript\">                require([\"plotly\"], function(Plotly) {                    window.PLOTLYENV=window.PLOTLYENV || {};                                    if (document.getElementById(\"c7e9b19c-e9c9-4a89-aa36-fd50427a8bb8\")) {                    Plotly.newPlot(                        \"c7e9b19c-e9c9-4a89-aa36-fd50427a8bb8\",                        [{\"hovertemplate\":\"index=%{x}<br>rolling_average_cases_per_100k_centered=%{y}<extra></extra>\",\"legendgroup\":\"\",\"line\":{\"color\":\"#636efa\",\"dash\":\"solid\"},\"marker\":{\"symbol\":\"circle\"},\"mode\":\"lines\",\"name\":\"\",\"orientation\":\"v\",\"showlegend\":false,\"x\":[0,1,2,3,4,5,6,7,8,9,10,11,12,13,14,15,16,17,18,19,20,21,22,23,24,25,26,27,28,29,30,31,32,33,34,35,36,37,38,39,40,41,42,43,44,45,46,47,48,49,50,51,52,53,54,55,56,57,58,59,60,61,62,63,64,65,66,67,68,69,70,71,72,73,74,75,76,77,78,79,80,81,82,83,84,85,86,87,88,89,90,91,92,93,94,95,96,97,98,99,100,101,102,103,104,105,106,107,108,109,110,111,112,113,114,115,116,117,118,119,120,121],\"xaxis\":\"x\",\"y\":[0.0,0.0,0.0385136965403145,0.059910194618267,0.068468793849448,0.4108127630966893,2.0455052162522662,8.995087791971264,15.679353791523647,14.143085229526655,14.301419315303503,15.585209199980657,19.393785857856216,27.73842010825772,27.13503886245946,27.802609602491582,27.691347812486224,25.658680495080727,29.12919248332464,31.30307668804462,37.876080897591656,71.28029369689122,97.70068952354706,112.05773973385324,120.96724153351269,104.60319980349456,83.26233262054467,68.51586614521975,55.80634628691591,49.160593983903844,50.32884277896005,58.03586138663857,65.09670575236292,58.80613531744487,59.071451893611474,58.38676395511699,58.97730730206848,63.41066170382027,61.06560551447666,70.71114684801769,89.08218009774777,128.40038496579342,177.95039521471602,247.4804553688307,277.51685937066054,401.4924485339334,534.6043423764919,612.3592163917716,581.7750620391462,398.11180183761684,738.5685999543826,548.6746795125536,404.975798421024,279.84051906192616,197.23291928256685,125.88843609144178,86.03531877144732,67.53590653324952,53.653858580273884,45.749992190278206,41.72745055162312,44.23084082674357,47.59437032459772,49.50293795315108,48.36464425540401,41.89434323663115,32.32582929617075,29.40734695833802,24.768586175037903,19.92013971057385,16.368321029633723,15.405478616125855,13.13317052024729,16.132959550776246,19.890184613264715,30.160503690681956,60.218304190589734,101.09417411871033,152.46716600387447,199.6635614642223,239.1828934142007,236.39279006483568,222.6605175984057,263.1598091603543,182.11843304030117,176.99183210082373,129.29047928583626,151.43157549690156,116.98321359139793,92.51845768906695,110.7311568530202,94.91058617418204,114.90775327783652,103.04553474341962,95.48829162228675,89.82249893124492,86.23644585338008,154.86357378860515,148.65003074676775,227.94545262366,478.9520508757373,746.7591794186229,319.8690876661599,2130.290979535961,2359.4474739508332,1751.2006644896442,999.2079016411542,514.0765421205042,347.6631386694203,218.5138762708985,169.35756158661025,131.84950045595937,89.00087340505155,86.27495954992038,73.44134000276442,57.107253370055425,48.84392581235015,57.21423586044519,77.58798133027163,113.56833249815669,117.672180829508,365.6789900510562],\"yaxis\":\"y\",\"type\":\"scatter\"}],                        {\"template\":{\"data\":{\"histogram2dcontour\":[{\"type\":\"histogram2dcontour\",\"colorbar\":{\"outlinewidth\":0,\"ticks\":\"\"},\"colorscale\":[[0.0,\"#0d0887\"],[0.1111111111111111,\"#46039f\"],[0.2222222222222222,\"#7201a8\"],[0.3333333333333333,\"#9c179e\"],[0.4444444444444444,\"#bd3786\"],[0.5555555555555556,\"#d8576b\"],[0.6666666666666666,\"#ed7953\"],[0.7777777777777778,\"#fb9f3a\"],[0.8888888888888888,\"#fdca26\"],[1.0,\"#f0f921\"]]}],\"choropleth\":[{\"type\":\"choropleth\",\"colorbar\":{\"outlinewidth\":0,\"ticks\":\"\"}}],\"histogram2d\":[{\"type\":\"histogram2d\",\"colorbar\":{\"outlinewidth\":0,\"ticks\":\"\"},\"colorscale\":[[0.0,\"#0d0887\"],[0.1111111111111111,\"#46039f\"],[0.2222222222222222,\"#7201a8\"],[0.3333333333333333,\"#9c179e\"],[0.4444444444444444,\"#bd3786\"],[0.5555555555555556,\"#d8576b\"],[0.6666666666666666,\"#ed7953\"],[0.7777777777777778,\"#fb9f3a\"],[0.8888888888888888,\"#fdca26\"],[1.0,\"#f0f921\"]]}],\"heatmap\":[{\"type\":\"heatmap\",\"colorbar\":{\"outlinewidth\":0,\"ticks\":\"\"},\"colorscale\":[[0.0,\"#0d0887\"],[0.1111111111111111,\"#46039f\"],[0.2222222222222222,\"#7201a8\"],[0.3333333333333333,\"#9c179e\"],[0.4444444444444444,\"#bd3786\"],[0.5555555555555556,\"#d8576b\"],[0.6666666666666666,\"#ed7953\"],[0.7777777777777778,\"#fb9f3a\"],[0.8888888888888888,\"#fdca26\"],[1.0,\"#f0f921\"]]}],\"heatmapgl\":[{\"type\":\"heatmapgl\",\"colorbar\":{\"outlinewidth\":0,\"ticks\":\"\"},\"colorscale\":[[0.0,\"#0d0887\"],[0.1111111111111111,\"#46039f\"],[0.2222222222222222,\"#7201a8\"],[0.3333333333333333,\"#9c179e\"],[0.4444444444444444,\"#bd3786\"],[0.5555555555555556,\"#d8576b\"],[0.6666666666666666,\"#ed7953\"],[0.7777777777777778,\"#fb9f3a\"],[0.8888888888888888,\"#fdca26\"],[1.0,\"#f0f921\"]]}],\"contourcarpet\":[{\"type\":\"contourcarpet\",\"colorbar\":{\"outlinewidth\":0,\"ticks\":\"\"}}],\"contour\":[{\"type\":\"contour\",\"colorbar\":{\"outlinewidth\":0,\"ticks\":\"\"},\"colorscale\":[[0.0,\"#0d0887\"],[0.1111111111111111,\"#46039f\"],[0.2222222222222222,\"#7201a8\"],[0.3333333333333333,\"#9c179e\"],[0.4444444444444444,\"#bd3786\"],[0.5555555555555556,\"#d8576b\"],[0.6666666666666666,\"#ed7953\"],[0.7777777777777778,\"#fb9f3a\"],[0.8888888888888888,\"#fdca26\"],[1.0,\"#f0f921\"]]}],\"surface\":[{\"type\":\"surface\",\"colorbar\":{\"outlinewidth\":0,\"ticks\":\"\"},\"colorscale\":[[0.0,\"#0d0887\"],[0.1111111111111111,\"#46039f\"],[0.2222222222222222,\"#7201a8\"],[0.3333333333333333,\"#9c179e\"],[0.4444444444444444,\"#bd3786\"],[0.5555555555555556,\"#d8576b\"],[0.6666666666666666,\"#ed7953\"],[0.7777777777777778,\"#fb9f3a\"],[0.8888888888888888,\"#fdca26\"],[1.0,\"#f0f921\"]]}],\"mesh3d\":[{\"type\":\"mesh3d\",\"colorbar\":{\"outlinewidth\":0,\"ticks\":\"\"}}],\"scatter\":[{\"fillpattern\":{\"fillmode\":\"overlay\",\"size\":10,\"solidity\":0.2},\"type\":\"scatter\"}],\"parcoords\":[{\"type\":\"parcoords\",\"line\":{\"colorbar\":{\"outlinewidth\":0,\"ticks\":\"\"}}}],\"scatterpolargl\":[{\"type\":\"scatterpolargl\",\"marker\":{\"colorbar\":{\"outlinewidth\":0,\"ticks\":\"\"}}}],\"bar\":[{\"error_x\":{\"color\":\"#2a3f5f\"},\"error_y\":{\"color\":\"#2a3f5f\"},\"marker\":{\"line\":{\"color\":\"#E5ECF6\",\"width\":0.5},\"pattern\":{\"fillmode\":\"overlay\",\"size\":10,\"solidity\":0.2}},\"type\":\"bar\"}],\"scattergeo\":[{\"type\":\"scattergeo\",\"marker\":{\"colorbar\":{\"outlinewidth\":0,\"ticks\":\"\"}}}],\"scatterpolar\":[{\"type\":\"scatterpolar\",\"marker\":{\"colorbar\":{\"outlinewidth\":0,\"ticks\":\"\"}}}],\"histogram\":[{\"marker\":{\"pattern\":{\"fillmode\":\"overlay\",\"size\":10,\"solidity\":0.2}},\"type\":\"histogram\"}],\"scattergl\":[{\"type\":\"scattergl\",\"marker\":{\"colorbar\":{\"outlinewidth\":0,\"ticks\":\"\"}}}],\"scatter3d\":[{\"type\":\"scatter3d\",\"line\":{\"colorbar\":{\"outlinewidth\":0,\"ticks\":\"\"}},\"marker\":{\"colorbar\":{\"outlinewidth\":0,\"ticks\":\"\"}}}],\"scattermapbox\":[{\"type\":\"scattermapbox\",\"marker\":{\"colorbar\":{\"outlinewidth\":0,\"ticks\":\"\"}}}],\"scatterternary\":[{\"type\":\"scatterternary\",\"marker\":{\"colorbar\":{\"outlinewidth\":0,\"ticks\":\"\"}}}],\"scattercarpet\":[{\"type\":\"scattercarpet\",\"marker\":{\"colorbar\":{\"outlinewidth\":0,\"ticks\":\"\"}}}],\"carpet\":[{\"aaxis\":{\"endlinecolor\":\"#2a3f5f\",\"gridcolor\":\"white\",\"linecolor\":\"white\",\"minorgridcolor\":\"white\",\"startlinecolor\":\"#2a3f5f\"},\"baxis\":{\"endlinecolor\":\"#2a3f5f\",\"gridcolor\":\"white\",\"linecolor\":\"white\",\"minorgridcolor\":\"white\",\"startlinecolor\":\"#2a3f5f\"},\"type\":\"carpet\"}],\"table\":[{\"cells\":{\"fill\":{\"color\":\"#EBF0F8\"},\"line\":{\"color\":\"white\"}},\"header\":{\"fill\":{\"color\":\"#C8D4E3\"},\"line\":{\"color\":\"white\"}},\"type\":\"table\"}],\"barpolar\":[{\"marker\":{\"line\":{\"color\":\"#E5ECF6\",\"width\":0.5},\"pattern\":{\"fillmode\":\"overlay\",\"size\":10,\"solidity\":0.2}},\"type\":\"barpolar\"}],\"pie\":[{\"automargin\":true,\"type\":\"pie\"}]},\"layout\":{\"autotypenumbers\":\"strict\",\"colorway\":[\"#636efa\",\"#EF553B\",\"#00cc96\",\"#ab63fa\",\"#FFA15A\",\"#19d3f3\",\"#FF6692\",\"#B6E880\",\"#FF97FF\",\"#FECB52\"],\"font\":{\"color\":\"#2a3f5f\"},\"hovermode\":\"closest\",\"hoverlabel\":{\"align\":\"left\"},\"paper_bgcolor\":\"white\",\"plot_bgcolor\":\"#E5ECF6\",\"polar\":{\"bgcolor\":\"#E5ECF6\",\"angularaxis\":{\"gridcolor\":\"white\",\"linecolor\":\"white\",\"ticks\":\"\"},\"radialaxis\":{\"gridcolor\":\"white\",\"linecolor\":\"white\",\"ticks\":\"\"}},\"ternary\":{\"bgcolor\":\"#E5ECF6\",\"aaxis\":{\"gridcolor\":\"white\",\"linecolor\":\"white\",\"ticks\":\"\"},\"baxis\":{\"gridcolor\":\"white\",\"linecolor\":\"white\",\"ticks\":\"\"},\"caxis\":{\"gridcolor\":\"white\",\"linecolor\":\"white\",\"ticks\":\"\"}},\"coloraxis\":{\"colorbar\":{\"outlinewidth\":0,\"ticks\":\"\"}},\"colorscale\":{\"sequential\":[[0.0,\"#0d0887\"],[0.1111111111111111,\"#46039f\"],[0.2222222222222222,\"#7201a8\"],[0.3333333333333333,\"#9c179e\"],[0.4444444444444444,\"#bd3786\"],[0.5555555555555556,\"#d8576b\"],[0.6666666666666666,\"#ed7953\"],[0.7777777777777778,\"#fb9f3a\"],[0.8888888888888888,\"#fdca26\"],[1.0,\"#f0f921\"]],\"sequentialminus\":[[0.0,\"#0d0887\"],[0.1111111111111111,\"#46039f\"],[0.2222222222222222,\"#7201a8\"],[0.3333333333333333,\"#9c179e\"],[0.4444444444444444,\"#bd3786\"],[0.5555555555555556,\"#d8576b\"],[0.6666666666666666,\"#ed7953\"],[0.7777777777777778,\"#fb9f3a\"],[0.8888888888888888,\"#fdca26\"],[1.0,\"#f0f921\"]],\"diverging\":[[0,\"#8e0152\"],[0.1,\"#c51b7d\"],[0.2,\"#de77ae\"],[0.3,\"#f1b6da\"],[0.4,\"#fde0ef\"],[0.5,\"#f7f7f7\"],[0.6,\"#e6f5d0\"],[0.7,\"#b8e186\"],[0.8,\"#7fbc41\"],[0.9,\"#4d9221\"],[1,\"#276419\"]]},\"xaxis\":{\"gridcolor\":\"white\",\"linecolor\":\"white\",\"ticks\":\"\",\"title\":{\"standoff\":15},\"zerolinecolor\":\"white\",\"automargin\":true,\"zerolinewidth\":2},\"yaxis\":{\"gridcolor\":\"white\",\"linecolor\":\"white\",\"ticks\":\"\",\"title\":{\"standoff\":15},\"zerolinecolor\":\"white\",\"automargin\":true,\"zerolinewidth\":2},\"scene\":{\"xaxis\":{\"backgroundcolor\":\"#E5ECF6\",\"gridcolor\":\"white\",\"linecolor\":\"white\",\"showbackground\":true,\"ticks\":\"\",\"zerolinecolor\":\"white\",\"gridwidth\":2},\"yaxis\":{\"backgroundcolor\":\"#E5ECF6\",\"gridcolor\":\"white\",\"linecolor\":\"white\",\"showbackground\":true,\"ticks\":\"\",\"zerolinecolor\":\"white\",\"gridwidth\":2},\"zaxis\":{\"backgroundcolor\":\"#E5ECF6\",\"gridcolor\":\"white\",\"linecolor\":\"white\",\"showbackground\":true,\"ticks\":\"\",\"zerolinecolor\":\"white\",\"gridwidth\":2}},\"shapedefaults\":{\"line\":{\"color\":\"#2a3f5f\"}},\"annotationdefaults\":{\"arrowcolor\":\"#2a3f5f\",\"arrowhead\":0,\"arrowwidth\":1},\"geo\":{\"bgcolor\":\"white\",\"landcolor\":\"#E5ECF6\",\"subunitcolor\":\"white\",\"showland\":true,\"showlakes\":true,\"lakecolor\":\"white\"},\"title\":{\"x\":0.05},\"mapbox\":{\"style\":\"light\"}}},\"xaxis\":{\"anchor\":\"y\",\"domain\":[0.0,1.0],\"title\":{\"text\":\"index\"}},\"yaxis\":{\"anchor\":\"x\",\"domain\":[0.0,1.0],\"title\":{\"text\":\"rolling_average_cases_per_100k_centered\"}},\"legend\":{\"tracegroupgap\":0},\"title\":{\"text\":\"Mtrosh\"}},                        {\"responsive\": true}                    ).then(function(){\n",
       "                            \n",
       "var gd = document.getElementById('c7e9b19c-e9c9-4a89-aa36-fd50427a8bb8');\n",
       "var x = new MutationObserver(function (mutations, observer) {{\n",
       "        var display = window.getComputedStyle(gd).display;\n",
       "        if (!display || display === 'none') {{\n",
       "            console.log([gd, 'removed!']);\n",
       "            Plotly.purge(gd);\n",
       "            observer.disconnect();\n",
       "        }}\n",
       "}});\n",
       "\n",
       "// Listen for the removal of the full notebook cells\n",
       "var notebookContainer = gd.closest('#notebook-container');\n",
       "if (notebookContainer) {{\n",
       "    x.observe(notebookContainer, {childList: true});\n",
       "}}\n",
       "\n",
       "// Listen for the clearing of the current output cell\n",
       "var outputEl = gd.closest('.output');\n",
       "if (outputEl) {{\n",
       "    x.observe(outputEl, {childList: true});\n",
       "}}\n",
       "\n",
       "                        })                };                });            </script>        </div>"
      ]
     },
     "metadata": {},
     "output_type": "display_data"
    }
   ],
   "source": [
    "fig = px.line(Sandy_kent, x=Sandy_kent.index, y=\"rolling_average_cases_per_100k_centered\", title = \"Mtrosh\")\n",
    "fig.show()"
   ]
  },
  {
   "cell_type": "code",
   "execution_count": 42,
   "id": "7a41e916",
   "metadata": {},
   "outputs": [
    {
     "data": {
      "text/html": [
       "<div>\n",
       "<style scoped>\n",
       "    .dataframe tbody tr th:only-of-type {\n",
       "        vertical-align: middle;\n",
       "    }\n",
       "\n",
       "    .dataframe tbody tr th {\n",
       "        vertical-align: top;\n",
       "    }\n",
       "\n",
       "    .dataframe thead th {\n",
       "        text-align: right;\n",
       "    }\n",
       "</style>\n",
       "<table border=\"1\" class=\"dataframe\">\n",
       "  <thead>\n",
       "    <tr style=\"text-align: right;\">\n",
       "      <th></th>\n",
       "      <th>Unnamed: 0</th>\n",
       "      <th>rolling_average_cases_per_100k_centered</th>\n",
       "      <th>fipscode</th>\n",
       "    </tr>\n",
       "  </thead>\n",
       "  <tbody>\n",
       "    <tr>\n",
       "      <th>0</th>\n",
       "      <td>84040</td>\n",
       "      <td>0.000000</td>\n",
       "      <td>6073</td>\n",
       "    </tr>\n",
       "    <tr>\n",
       "      <th>1</th>\n",
       "      <td>238115</td>\n",
       "      <td>0.000000</td>\n",
       "      <td>42511</td>\n",
       "    </tr>\n",
       "    <tr>\n",
       "      <th>2</th>\n",
       "      <td>354212</td>\n",
       "      <td>0.038514</td>\n",
       "      <td>42511</td>\n",
       "    </tr>\n",
       "  </tbody>\n",
       "</table>\n",
       "</div>"
      ],
      "text/plain": [
       "   Unnamed: 0  rolling_average_cases_per_100k_centered  fipscode\n",
       "0       84040                                 0.000000      6073\n",
       "1      238115                                 0.000000     42511\n",
       "2      354212                                 0.038514     42511"
      ]
     },
     "execution_count": 42,
     "metadata": {},
     "output_type": "execute_result"
    }
   ],
   "source": [
    "Sandy_kent.head(3)"
   ]
  },
  {
   "cell_type": "code",
   "execution_count": 4,
   "id": "43a4804b",
   "metadata": {
    "scrolled": true
   },
   "outputs": [],
   "source": [
    "# Percent of Sales under/over List: Ratio of sales where Sale Price below/above the final list price; excludes homes sold for exactly the list price.\n",
    "\n",
    "below_list = pd.read_csv(\"Metro_pct_sold_below_list_uc_sfrcondo_sm_week.csv\")\n",
    "\n",
    "tblow_list = below_list.drop(columns = [\"RegionID\",\"SizeRank\",\"RegionType\",\"StateName\"]).T\n",
    "sandy_temp = tblow_list[17].to_frame()\n",
    "Below_List_Price = sandy_temp.drop([\"RegionName\"])\n",
    "dates = pd.to_datetime(Below_List_Price.index)\n",
    "list_below_ratio = Below_List_Price[17].values\n",
    "skice = {\"Dates\" : dates, \"Percentage sold Under List Price\" :list_below_ratio}\n",
    "B_low_list = pd.DataFrame(data=skice)\n",
    "\n",
    "\n",
    "above_list = pd.read_csv(\"Metro_pct_sold_above_list_uc_sfrcondo_week.csv\")\n",
    "\n",
    "tabov_list = above_list.drop(columns = [\"RegionID\",\"SizeRank\",\"RegionType\",\"StateName\"]).T\n",
    "sandy_temp_abov = tabov_list[17].to_frame()\n",
    "Abov_List_Price = sandy_temp_abov.drop([\"RegionName\"])\n",
    "dates_above = pd.to_datetime(Abov_List_Price.index)\n",
    "list_above_ratio = Abov_List_Price[17].values\n",
    "bove = {\"Dates\" : dates_above, \"Percentage sold above list price\" :list_above_ratio}\n",
    "Percent_above_list_price = pd.DataFrame(data=bove)\n",
    "\n",
    "\n",
    "\n",
    "# Median Sale Price: The median price at which homes across various geographies were sold.\n",
    "Median_Sale_List = pd.read_csv(\"Metro_median_sale_to_list_uc_sfrcondo_sm_week.csv\")\n",
    "\n",
    "Median_list = Median_Sale_List.drop(columns = [\"RegionID\",\"SizeRank\",\"RegionType\",\"StateName\"]).T\n",
    "sandy_median = Median_list[17].to_frame()\n",
    "Median_List_Price = sandy_median.drop([\"RegionName\"])\n",
    "dates_median = pd.to_datetime(Median_List_Price.index)\n",
    "medin_prices = Median_List_Price[17].values\n",
    "medi = {\"Dates\" : dates_median, \"Median sale to list Ratio\" :medin_prices}\n",
    "Median_sale_to_list_price = pd.DataFrame(data=medi)\n",
    "\n",
    "# Days to Close (mean/median): Number of days between the listing going pending and the sale date.\n",
    "Median_Close = pd.read_csv(\"Metro_median_days_to_close_uc_sfrcondo_sm_week.csv\")\n",
    "\n",
    "Median_clos = Median_Close.drop(columns = [\"RegionID\",\"SizeRank\",\"RegionType\",\"StateName\"]).T\n",
    "sandy_median_close = Median_clos[17].to_frame()\n",
    "Median_Close_Price = sandy_median_close.drop([\"RegionName\"])\n",
    "dates_median_close = pd.to_datetime(Median_Close_Price.index)\n",
    "clos_prices = Median_Close_Price[17].values\n",
    "med_clos = {\"Dates\" : dates_median_close, \"Median days to close\" :clos_prices}\n",
    "Median_closing_days = pd.DataFrame(data=med_clos)\n",
    "\n",
    "# Sale-to-List Ratio (mean/median): Ratio of sale vs. final list price.\n",
    "\n",
    "# Price home actually sold for (sale) versus prices that home was listed online for (list)\n",
    "Mean_Sale_List = pd.read_csv(\"Metro_mean_sale_to_list_uc_sfrcondo_sm_week.csv\")\n",
    "\n",
    "Mean_sales = Mean_Sale_List.drop(columns = [\"RegionID\",\"SizeRank\",\"RegionType\",\"StateName\"]).T\n",
    "mean_sales = Mean_sales[17].to_frame()\n",
    "Mean_sales_Price = mean_sales.drop([\"RegionName\"])\n",
    "dates_mean_sales = pd.to_datetime(Mean_sales_Price.index)\n",
    "mean_prices = Mean_sales_Price[17].values\n",
    "mean_sal = {\"Dates\" : dates_mean_sales, \"Mean Sales to List Ratio\" :mean_prices}\n",
    "Mean_Selling_price = pd.DataFrame(data=mean_sal)\n",
    "\n",
    "\n",
    "# Days to Close (mean/median): Number of days between the listing going pending and the sale date.\n",
    "Mean_Close = pd.read_csv(\"Metro_mean_days_to_close_uc_sfrcondo_sm_week.csv\")\n",
    "\n",
    "mean_close_close = Mean_Close.drop(columns = [\"RegionID\",\"SizeRank\",\"RegionType\",\"StateName\"]).T\n",
    "mean_close_close = mean_close_close[17].to_frame()\n",
    "mean_close_close_Price = mean_close_close.drop([\"RegionName\"])\n",
    "dates_mean_close_close = pd.to_datetime(mean_close_close_Price.index)\n",
    "mean_close_prices = mean_close_close_Price[17].values\n",
    "mean_close_sal = {\"Dates\" : dates_mean_close_close, \"Mean Days to Close\" :mean_close_prices}\n",
    "mean_close__days = pd.DataFrame(data=mean_close_sal)\n"
   ]
  },
  {
   "cell_type": "code",
   "execution_count": 7,
   "id": "15975d53",
   "metadata": {},
   "outputs": [],
   "source": [
    "sam = Median_closing_days.merge(Mean_Selling_price, how='inner', on='Dates')\n",
    "samantha = mean_close__days.merge(Median_sale_to_list_price, how='inner', on='Dates')\n",
    "simon = Percent_above_list_price.merge(B_low_list, how='inner', on='Dates')\n",
    "tenten = sam.merge(samantha,how=\"inner\", on= 'Dates').merge(simon, how = \"inner\", on= \"Dates\")\n",
    "\n",
    "\n"
   ]
  },
  {
   "cell_type": "code",
   "execution_count": null,
   "id": "76246d9d",
   "metadata": {},
   "outputs": [],
   "source": []
  },
  {
   "cell_type": "code",
   "execution_count": null,
   "id": "8bb96213",
   "metadata": {},
   "outputs": [],
   "source": []
  },
  {
   "cell_type": "code",
   "execution_count": null,
   "id": "d3c0a04f",
   "metadata": {},
   "outputs": [],
   "source": []
  },
  {
   "cell_type": "code",
   "execution_count": null,
   "id": "2563369f",
   "metadata": {},
   "outputs": [],
   "source": []
  },
  {
   "cell_type": "code",
   "execution_count": 16,
   "id": "c9e315ef",
   "metadata": {},
   "outputs": [
    {
     "data": {
      "text/html": [
       "<div>\n",
       "<style scoped>\n",
       "    .dataframe tbody tr th:only-of-type {\n",
       "        vertical-align: middle;\n",
       "    }\n",
       "\n",
       "    .dataframe tbody tr th {\n",
       "        vertical-align: top;\n",
       "    }\n",
       "\n",
       "    .dataframe thead th {\n",
       "        text-align: right;\n",
       "    }\n",
       "</style>\n",
       "<table border=\"1\" class=\"dataframe\">\n",
       "  <thead>\n",
       "    <tr style=\"text-align: right;\">\n",
       "      <th></th>\n",
       "      <th>Dates</th>\n",
       "      <th>Mean Days to Close</th>\n",
       "    </tr>\n",
       "  </thead>\n",
       "  <tbody>\n",
       "    <tr>\n",
       "      <th>0</th>\n",
       "      <td>2018-01-27</td>\n",
       "      <td>36.0</td>\n",
       "    </tr>\n",
       "    <tr>\n",
       "      <th>1</th>\n",
       "      <td>2018-02-03</td>\n",
       "      <td>36.0</td>\n",
       "    </tr>\n",
       "    <tr>\n",
       "      <th>2</th>\n",
       "      <td>2018-02-10</td>\n",
       "      <td>35.0</td>\n",
       "    </tr>\n",
       "  </tbody>\n",
       "</table>\n",
       "</div>"
      ],
      "text/plain": [
       "       Dates Mean Days to Close\n",
       "0 2018-01-27               36.0\n",
       "1 2018-02-03               36.0\n",
       "2 2018-02-10               35.0"
      ]
     },
     "execution_count": 16,
     "metadata": {},
     "output_type": "execute_result"
    }
   ],
   "source": [
    "mean_close__days.head(3)"
   ]
  },
  {
   "cell_type": "code",
   "execution_count": 5,
   "id": "ab9a4f1d",
   "metadata": {},
   "outputs": [],
   "source": [
    "series_mean_close_days = TimeSeries.from_dataframe(mean_close__days.set_index([\"Dates\"]))\n",
    "series_mean_selling = TimeSeries.from_dataframe(Mean_Selling_price.set_index([\"Dates\"]))\n",
    "series_median_sale_to_list = TimeSeries.from_dataframe(Median_sale_to_list_price.set_index([\"Dates\"]))\n",
    "series_median_close_days = TimeSeries.from_dataframe(Median_closing_days.set_index([\"Dates\"]))\n",
    "series_above_list = TimeSeries.from_dataframe(Percent_above_list_price.set_index([\"Dates\"]))\n",
    "seroes_below_list = TimeSeries.from_dataframe(B_low_list.set_index([\"Dates\"]))\n",
    "# kent"
   ]
  },
  {
   "cell_type": "code",
   "execution_count": 18,
   "id": "e4a29091",
   "metadata": {},
   "outputs": [],
   "source": [
    "#TimeSeries.from_dataframe(Mean_Selling_price.set_index([\"Dates\"]))"
   ]
  },
  {
   "cell_type": "code",
   "execution_count": null,
   "id": "5a3ebc45",
   "metadata": {},
   "outputs": [],
   "source": []
  },
  {
   "cell_type": "code",
   "execution_count": null,
   "id": "3d8b48e7",
   "metadata": {},
   "outputs": [],
   "source": []
  },
  {
   "cell_type": "code",
   "execution_count": null,
   "id": "62df2ca5",
   "metadata": {},
   "outputs": [],
   "source": []
  },
  {
   "cell_type": "code",
   "execution_count": null,
   "id": "d60809ef",
   "metadata": {},
   "outputs": [],
   "source": [
    "TimeSeries.from_dataframe"
   ]
  },
  {
   "cell_type": "code",
   "execution_count": 12,
   "id": "6a2f751f",
   "metadata": {},
   "outputs": [
    {
     "data": {
      "text/plain": [
       "darts.timeseries.TimeSeries"
      ]
     },
     "execution_count": 12,
     "metadata": {},
     "output_type": "execute_result"
    }
   ],
   "source": [
    "type(pred)"
   ]
  },
  {
   "cell_type": "code",
   "execution_count": null,
   "id": "798bfe9b",
   "metadata": {},
   "outputs": [],
   "source": []
  },
  {
   "cell_type": "code",
   "execution_count": null,
   "id": "e84d8b19",
   "metadata": {},
   "outputs": [],
   "source": []
  },
  {
   "cell_type": "code",
   "execution_count": 25,
   "id": "081b56ce",
   "metadata": {},
   "outputs": [
    {
     "data": {
      "image/png": "[encoded data removed]",
      "text/plain": [
       "<Figure size 432x288 with 1 Axes>"
      ]
     },
     "metadata": {
      "needs_background": "light"
     },
     "output_type": "display_data"
    }
   ],
   "source": [
    "seroes_below_list\n",
    "train, val = seroes_below_list[:-56], seroes_below_list[-56:]\n",
    "\n",
    "model = ExponentialSmoothing()\n",
    "model.fit(train)\n",
    "pred = model.predict(n=36, num_samples=500)\n",
    "\n",
    "seroes_below_list.plot()\n",
    "pred.plot(label='forecast')\n",
    "plt.plot()\n",
    "# print(pred.plot(label='forecast'))\n",
    "# fig = seroes_below_list.plot()\n",
    "plt.savefig(\"test3\")\n",
    "plt.show()"
   ]
  },
  {
   "cell_type": "code",
   "execution_count": 9,
   "id": "2551c29a",
   "metadata": {},
   "outputs": [
    {
     "data": {
      "image/png": "[encoded data removed]",
      "text/plain": [
       "<Figure size 432x288 with 1 Axes>"
      ]
     },
     "metadata": {
      "needs_background": "light"
     },
     "output_type": "display_data"
    }
   ],
   "source": [
    "train, val = series_above_list[:-36], series_above_list[-36:]\n",
    "\n",
    "model = ExponentialSmoothing()\n",
    "model.fit(train)\n",
    "pred = model.predict(n=36, num_samples=500)\n",
    "\n",
    "series_above_list.plot()\n",
    "pred.plot(label='forecast')"
   ]
  },
  {
   "cell_type": "code",
   "execution_count": 10,
   "id": "ba5793ae",
   "metadata": {},
   "outputs": [
    {
     "data": {
      "image/png": "[encoded data removed]",
      "text/plain": [
       "<Figure size 432x288 with 1 Axes>"
      ]
     },
     "metadata": {
      "needs_background": "light"
     },
     "output_type": "display_data"
    }
   ],
   "source": [
    "train, val = series_mean_selling[:-36], series_mean_selling[-36:]\n",
    "\n",
    "model = ExponentialSmoothing()\n",
    "model.fit(train)\n",
    "pred = model.predict(n=36, num_samples=500)\n",
    "\n",
    "series_mean_selling.plot()\n",
    "pred.plot(label='forecast')"
   ]
  },
  {
   "cell_type": "code",
   "execution_count": 11,
   "id": "dcd805c9",
   "metadata": {},
   "outputs": [
    {
     "name": "stderr",
     "output_type": "stream",
     "text": [
      "C:\\Users\\IanAK\\miniconda3\\envs\\mlenv\\lib\\site-packages\\statsmodels\\tsa\\exponential_smoothing\\initialization.py:96: RuntimeWarning: Mean of empty slice\n",
      "  tmp.reshape(k_cycles, seasonal_periods).T, axis=1)\n"
     ]
    },
    {
     "ename": "ValueError",
     "evalue": "shapes (2,10) and (0,1) not aligned: 10 (dim 1) != 0 (dim 0)",
     "output_type": "error",
     "traceback": [
      "\u001b[1;31m---------------------------------------------------------------------------\u001b[0m",
      "\u001b[1;31mValueError\u001b[0m                                Traceback (most recent call last)",
      "\u001b[1;32m~\\AppData\\Local\\Temp/ipykernel_5696/3512436827.py\u001b[0m in \u001b[0;36m<module>\u001b[1;34m\u001b[0m\n\u001b[0;32m      2\u001b[0m \u001b[1;33m\u001b[0m\u001b[0m\n\u001b[0;32m      3\u001b[0m \u001b[0mmodel\u001b[0m \u001b[1;33m=\u001b[0m \u001b[0mExponentialSmoothing\u001b[0m\u001b[1;33m(\u001b[0m\u001b[1;33m)\u001b[0m\u001b[1;33m\u001b[0m\u001b[1;33m\u001b[0m\u001b[0m\n\u001b[1;32m----> 4\u001b[1;33m \u001b[0mmodel\u001b[0m\u001b[1;33m.\u001b[0m\u001b[0mfit\u001b[0m\u001b[1;33m(\u001b[0m\u001b[0mtrain\u001b[0m\u001b[1;33m)\u001b[0m\u001b[1;33m\u001b[0m\u001b[1;33m\u001b[0m\u001b[0m\n\u001b[0m\u001b[0;32m      5\u001b[0m \u001b[0mpred\u001b[0m \u001b[1;33m=\u001b[0m \u001b[0mmodel\u001b[0m\u001b[1;33m.\u001b[0m\u001b[0mpredict\u001b[0m\u001b[1;33m(\u001b[0m\u001b[0mn\u001b[0m\u001b[1;33m=\u001b[0m\u001b[1;36m36\u001b[0m\u001b[1;33m,\u001b[0m \u001b[0mnum_samples\u001b[0m\u001b[1;33m=\u001b[0m\u001b[1;36m500\u001b[0m\u001b[1;33m)\u001b[0m\u001b[1;33m\u001b[0m\u001b[1;33m\u001b[0m\u001b[0m\n\u001b[0;32m      6\u001b[0m \u001b[1;33m\u001b[0m\u001b[0m\n",
      "\u001b[1;32m~\\miniconda3\\envs\\mlenv\\lib\\site-packages\\darts\\models\\forecasting\\exponential_smoothing.py\u001b[0m in \u001b[0;36mfit\u001b[1;34m(self, series)\u001b[0m\n\u001b[0;32m    104\u001b[0m             \u001b[0mseasonal_periods\u001b[0m\u001b[1;33m=\u001b[0m\u001b[0mseasonal_periods_param\u001b[0m\u001b[1;33m,\u001b[0m\u001b[1;33m\u001b[0m\u001b[1;33m\u001b[0m\u001b[0m\n\u001b[0;32m    105\u001b[0m             \u001b[0mfreq\u001b[0m\u001b[1;33m=\u001b[0m\u001b[0mseries\u001b[0m\u001b[1;33m.\u001b[0m\u001b[0mfreq\u001b[0m \u001b[1;32mif\u001b[0m \u001b[0mseries\u001b[0m\u001b[1;33m.\u001b[0m\u001b[0mhas_datetime_index\u001b[0m \u001b[1;32melse\u001b[0m \u001b[1;32mNone\u001b[0m\u001b[1;33m,\u001b[0m\u001b[1;33m\u001b[0m\u001b[1;33m\u001b[0m\u001b[0m\n\u001b[1;32m--> 106\u001b[1;33m             \u001b[0mdates\u001b[0m\u001b[1;33m=\u001b[0m\u001b[0mseries\u001b[0m\u001b[1;33m.\u001b[0m\u001b[0mtime_index\u001b[0m \u001b[1;32mif\u001b[0m \u001b[0mseries\u001b[0m\u001b[1;33m.\u001b[0m\u001b[0mhas_datetime_index\u001b[0m \u001b[1;32melse\u001b[0m \u001b[1;32mNone\u001b[0m\u001b[1;33m,\u001b[0m\u001b[1;33m\u001b[0m\u001b[1;33m\u001b[0m\u001b[0m\n\u001b[0m\u001b[0;32m    107\u001b[0m         )\n\u001b[0;32m    108\u001b[0m         \u001b[0mhw_results\u001b[0m \u001b[1;33m=\u001b[0m \u001b[0mhw_model\u001b[0m\u001b[1;33m.\u001b[0m\u001b[0mfit\u001b[0m\u001b[1;33m(\u001b[0m\u001b[1;33m**\u001b[0m\u001b[0mself\u001b[0m\u001b[1;33m.\u001b[0m\u001b[0mfit_kwargs\u001b[0m\u001b[1;33m)\u001b[0m\u001b[1;33m\u001b[0m\u001b[1;33m\u001b[0m\u001b[0m\n",
      "\u001b[1;32m~\\miniconda3\\envs\\mlenv\\lib\\site-packages\\pandas\\util\\_decorators.py\u001b[0m in \u001b[0;36mwrapper\u001b[1;34m(*args, **kwargs)\u001b[0m\n\u001b[0;32m    205\u001b[0m                 \u001b[1;32melse\u001b[0m\u001b[1;33m:\u001b[0m\u001b[1;33m\u001b[0m\u001b[1;33m\u001b[0m\u001b[0m\n\u001b[0;32m    206\u001b[0m                     \u001b[0mkwargs\u001b[0m\u001b[1;33m[\u001b[0m\u001b[0mnew_arg_name\u001b[0m\u001b[1;33m]\u001b[0m \u001b[1;33m=\u001b[0m \u001b[0mnew_arg_value\u001b[0m\u001b[1;33m\u001b[0m\u001b[1;33m\u001b[0m\u001b[0m\n\u001b[1;32m--> 207\u001b[1;33m             \u001b[1;32mreturn\u001b[0m \u001b[0mfunc\u001b[0m\u001b[1;33m(\u001b[0m\u001b[1;33m*\u001b[0m\u001b[0margs\u001b[0m\u001b[1;33m,\u001b[0m \u001b[1;33m**\u001b[0m\u001b[0mkwargs\u001b[0m\u001b[1;33m)\u001b[0m\u001b[1;33m\u001b[0m\u001b[1;33m\u001b[0m\u001b[0m\n\u001b[0m\u001b[0;32m    208\u001b[0m \u001b[1;33m\u001b[0m\u001b[0m\n\u001b[0;32m    209\u001b[0m         \u001b[1;32mreturn\u001b[0m \u001b[0mcast\u001b[0m\u001b[1;33m(\u001b[0m\u001b[0mF\u001b[0m\u001b[1;33m,\u001b[0m \u001b[0mwrapper\u001b[0m\u001b[1;33m)\u001b[0m\u001b[1;33m\u001b[0m\u001b[1;33m\u001b[0m\u001b[0m\n",
      "\u001b[1;32m~\\miniconda3\\envs\\mlenv\\lib\\site-packages\\statsmodels\\tsa\\holtwinters\\model.py\u001b[0m in \u001b[0;36m__init__\u001b[1;34m(self, endog, trend, damped_trend, seasonal, seasonal_periods, initialization_method, initial_level, initial_trend, initial_seasonal, use_boxcox, bounds, dates, freq, missing)\u001b[0m\n\u001b[0;32m    290\u001b[0m         \u001b[0mself\u001b[0m\u001b[1;33m.\u001b[0m\u001b[0m_lambda\u001b[0m \u001b[1;33m=\u001b[0m \u001b[0mnp\u001b[0m\u001b[1;33m.\u001b[0m\u001b[0mnan\u001b[0m\u001b[1;33m\u001b[0m\u001b[1;33m\u001b[0m\u001b[0m\n\u001b[0;32m    291\u001b[0m         \u001b[0mself\u001b[0m\u001b[1;33m.\u001b[0m\u001b[0m_y\u001b[0m \u001b[1;33m=\u001b[0m \u001b[0mself\u001b[0m\u001b[1;33m.\u001b[0m\u001b[0m_boxcox\u001b[0m\u001b[1;33m(\u001b[0m\u001b[1;33m)\u001b[0m\u001b[1;33m\u001b[0m\u001b[1;33m\u001b[0m\u001b[0m\n\u001b[1;32m--> 292\u001b[1;33m         \u001b[0mself\u001b[0m\u001b[1;33m.\u001b[0m\u001b[0m_initialize\u001b[0m\u001b[1;33m(\u001b[0m\u001b[1;33m)\u001b[0m\u001b[1;33m\u001b[0m\u001b[1;33m\u001b[0m\u001b[0m\n\u001b[0m\u001b[0;32m    293\u001b[0m         \u001b[0mself\u001b[0m\u001b[1;33m.\u001b[0m\u001b[0m_fixed_parameters\u001b[0m \u001b[1;33m=\u001b[0m \u001b[1;33m{\u001b[0m\u001b[1;33m}\u001b[0m\u001b[1;33m\u001b[0m\u001b[1;33m\u001b[0m\u001b[0m\n\u001b[0;32m    294\u001b[0m \u001b[1;33m\u001b[0m\u001b[0m\n",
      "\u001b[1;32m~\\miniconda3\\envs\\mlenv\\lib\\site-packages\\statsmodels\\tsa\\holtwinters\\model.py\u001b[0m in \u001b[0;36m_initialize\u001b[1;34m(self)\u001b[0m\n\u001b[0;32m    430\u001b[0m                 \u001b[1;32mreturn\u001b[0m \u001b[0mself\u001b[0m\u001b[1;33m.\u001b[0m\u001b[0m_initialize_simple\u001b[0m\u001b[1;33m(\u001b[0m\u001b[1;33m)\u001b[0m\u001b[1;33m\u001b[0m\u001b[1;33m\u001b[0m\u001b[0m\n\u001b[0;32m    431\u001b[0m             \u001b[1;32melse\u001b[0m\u001b[1;33m:\u001b[0m\u001b[1;33m\u001b[0m\u001b[1;33m\u001b[0m\u001b[0m\n\u001b[1;32m--> 432\u001b[1;33m                 \u001b[1;32mreturn\u001b[0m \u001b[0mself\u001b[0m\u001b[1;33m.\u001b[0m\u001b[0m_initialize_heuristic\u001b[0m\u001b[1;33m(\u001b[0m\u001b[1;33m)\u001b[0m\u001b[1;33m\u001b[0m\u001b[1;33m\u001b[0m\u001b[0m\n\u001b[0m\u001b[0;32m    433\u001b[0m \u001b[1;33m\u001b[0m\u001b[0m\n\u001b[0;32m    434\u001b[0m     \u001b[1;32mdef\u001b[0m \u001b[0m_initialize_simple\u001b[0m\u001b[1;33m(\u001b[0m\u001b[0mself\u001b[0m\u001b[1;33m)\u001b[0m\u001b[1;33m:\u001b[0m\u001b[1;33m\u001b[0m\u001b[1;33m\u001b[0m\u001b[0m\n",
      "\u001b[1;32m~\\miniconda3\\envs\\mlenv\\lib\\site-packages\\statsmodels\\tsa\\holtwinters\\model.py\u001b[0m in \u001b[0;36m_initialize_heuristic\u001b[1;34m(self)\u001b[0m\n\u001b[0;32m    446\u001b[0m         \u001b[0mseasonal\u001b[0m \u001b[1;33m=\u001b[0m \u001b[0mself\u001b[0m\u001b[1;33m.\u001b[0m\u001b[0mseasonal\u001b[0m \u001b[1;32mif\u001b[0m \u001b[0mself\u001b[0m\u001b[1;33m.\u001b[0m\u001b[0mhas_seasonal\u001b[0m \u001b[1;32melse\u001b[0m \u001b[1;32mFalse\u001b[0m\u001b[1;33m\u001b[0m\u001b[1;33m\u001b[0m\u001b[0m\n\u001b[0;32m    447\u001b[0m         lvl, trend, seas = _initialization_heuristic(\n\u001b[1;32m--> 448\u001b[1;33m             \u001b[0mself\u001b[0m\u001b[1;33m.\u001b[0m\u001b[0m_y\u001b[0m\u001b[1;33m,\u001b[0m \u001b[0mtrend\u001b[0m\u001b[1;33m,\u001b[0m \u001b[0mseasonal\u001b[0m\u001b[1;33m,\u001b[0m \u001b[0mself\u001b[0m\u001b[1;33m.\u001b[0m\u001b[0mseasonal_periods\u001b[0m\u001b[1;33m\u001b[0m\u001b[1;33m\u001b[0m\u001b[0m\n\u001b[0m\u001b[0;32m    449\u001b[0m         )\n\u001b[0;32m    450\u001b[0m         \u001b[0mself\u001b[0m\u001b[1;33m.\u001b[0m\u001b[0m_initial_level\u001b[0m \u001b[1;33m=\u001b[0m \u001b[0mlvl\u001b[0m\u001b[1;33m\u001b[0m\u001b[1;33m\u001b[0m\u001b[0m\n",
      "\u001b[1;32m~\\miniconda3\\envs\\mlenv\\lib\\site-packages\\statsmodels\\tsa\\exponential_smoothing\\initialization.py\u001b[0m in \u001b[0;36m_initialization_heuristic\u001b[1;34m(endog, trend, seasonal, seasonal_periods)\u001b[0m\n\u001b[0;32m    109\u001b[0m     \u001b[1;32mif\u001b[0m \u001b[0mendog\u001b[0m\u001b[1;33m.\u001b[0m\u001b[0mndim\u001b[0m \u001b[1;33m==\u001b[0m \u001b[1;36m1\u001b[0m\u001b[1;33m:\u001b[0m\u001b[1;33m\u001b[0m\u001b[1;33m\u001b[0m\u001b[0m\n\u001b[0;32m    110\u001b[0m         \u001b[0mendog\u001b[0m \u001b[1;33m=\u001b[0m \u001b[0mnp\u001b[0m\u001b[1;33m.\u001b[0m\u001b[0matleast_2d\u001b[0m\u001b[1;33m(\u001b[0m\u001b[0mendog\u001b[0m\u001b[1;33m)\u001b[0m\u001b[1;33m.\u001b[0m\u001b[0mT\u001b[0m\u001b[1;33m\u001b[0m\u001b[1;33m\u001b[0m\u001b[0m\n\u001b[1;32m--> 111\u001b[1;33m     \u001b[0mbeta\u001b[0m \u001b[1;33m=\u001b[0m \u001b[0mnp\u001b[0m\u001b[1;33m.\u001b[0m\u001b[0msqueeze\u001b[0m\u001b[1;33m(\u001b[0m\u001b[0mnp\u001b[0m\u001b[1;33m.\u001b[0m\u001b[0mlinalg\u001b[0m\u001b[1;33m.\u001b[0m\u001b[0mpinv\u001b[0m\u001b[1;33m(\u001b[0m\u001b[0mexog\u001b[0m\u001b[1;33m)\u001b[0m\u001b[1;33m.\u001b[0m\u001b[0mdot\u001b[0m\u001b[1;33m(\u001b[0m\u001b[0mendog\u001b[0m\u001b[1;33m[\u001b[0m\u001b[1;33m:\u001b[0m\u001b[1;36m10\u001b[0m\u001b[1;33m]\u001b[0m\u001b[1;33m)\u001b[0m\u001b[1;33m)\u001b[0m\u001b[1;33m\u001b[0m\u001b[1;33m\u001b[0m\u001b[0m\n\u001b[0m\u001b[0;32m    112\u001b[0m     \u001b[0minitial_level\u001b[0m \u001b[1;33m=\u001b[0m \u001b[0mbeta\u001b[0m\u001b[1;33m[\u001b[0m\u001b[1;36m0\u001b[0m\u001b[1;33m]\u001b[0m\u001b[1;33m\u001b[0m\u001b[1;33m\u001b[0m\u001b[0m\n\u001b[0;32m    113\u001b[0m \u001b[1;33m\u001b[0m\u001b[0m\n",
      "\u001b[1;31mValueError\u001b[0m: shapes (2,10) and (0,1) not aligned: 10 (dim 1) != 0 (dim 0)"
     ]
    }
   ],
   "source": [
    "train, val = series_mean_close_days[:-36], series_mean_close_days[-36:]\n",
    "\n",
    "model = ExponentialSmoothing()\n",
    "model.fit(train)\n",
    "pred = model.predict(n=36, num_samples=500)\n",
    "\n",
    "series_mean_close_days.plot()\n",
    "pred.plot(label='forecast')"
   ]
  },
  {
   "cell_type": "code",
   "execution_count": null,
   "id": "8c4cce52",
   "metadata": {},
   "outputs": [],
   "source": []
  },
  {
   "cell_type": "code",
   "execution_count": null,
   "id": "1a26fc5c",
   "metadata": {},
   "outputs": [],
   "source": []
  },
  {
   "cell_type": "code",
   "execution_count": null,
   "id": "6800c6b8",
   "metadata": {},
   "outputs": [],
   "source": []
  }
 ],
 "metadata": {
  "kernelspec": {
   "display_name": "mlen",
   "language": "python",
   "name": "mlen"
  },
  "language_info": {
   "codemirror_mode": {
    "name": "ipython",
    "version": 3
   },
   "file_extension": ".py",
   "mimetype": "text/x-python",
   "name": "python",
   "nbconvert_exporter": "python",
   "pygments_lexer": "ipython3",
   "version": "3.7.11"
  }
 },
 "nbformat": 4,
 "nbformat_minor": 5
}
