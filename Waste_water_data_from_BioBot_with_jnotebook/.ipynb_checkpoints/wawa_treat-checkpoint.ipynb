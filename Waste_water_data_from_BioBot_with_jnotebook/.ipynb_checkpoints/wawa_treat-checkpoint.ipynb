{
 "cells": [
  {
   "cell_type": "code",
   "execution_count": 1,
   "id": "b05641ed",
   "metadata": {},
   "outputs": [],
   "source": [
    "import pandas as pd\n",
    "\n",
    "#tomcat and kitty use the cdc data, which is difficult to parse by week\n",
    "\n",
    "# Source\n",
    "\n",
    "# https://github.com/biobotanalytics/covid19-wastewater-data/blob/master/wastewater_by_county.csv\n",
    "\n",
    "RNA_Conc = pd.read_csv(\"RNA-Covid-Concentration.csv\")\n",
    "Covid_Rate = pd.read_csv(\"Covid-Rate.csv\")\n",
    "\n",
    "# Source\n",
    "\n",
    "\n",
    "# https://github.com/biobotanalytics/covid19-wastewater-data/blob/master/cases_by_county.csv\n"
   ]
  },
  {
   "cell_type": "markdown",
   "id": "2a1a7b8d",
   "metadata": {},
   "source": [
    "# BioBot Data"
   ]
  },
  {
   "cell_type": "code",
   "execution_count": 2,
   "id": "ea98bbcb",
   "metadata": {},
   "outputs": [
    {
     "data": {
      "text/plain": [
       "Suffolk County, MA         113\n",
       "Miami-Dade County, FL      109\n",
       "Indiana County, PA         105\n",
       "Elko County, NV            104\n",
       "Monterey County, CA        103\n",
       "                          ... \n",
       "Androscoggin County, ME     13\n",
       "Anderson County, SC         13\n",
       "Washington County, ME       12\n",
       "Piscataquis County, ME      12\n",
       "Hancock County, ME          10\n",
       "Name: name, Length: 109, dtype: int64"
      ]
     },
     "execution_count": 2,
     "metadata": {},
     "output_type": "execute_result"
    }
   ],
   "source": [
    "RNA_Conc.name.value_counts()"
   ]
  },
  {
   "cell_type": "code",
   "execution_count": 3,
   "id": "6a36c9a3",
   "metadata": {},
   "outputs": [
    {
     "data": {
      "text/html": [
       "<div>\n",
       "<style scoped>\n",
       "    .dataframe tbody tr th:only-of-type {\n",
       "        vertical-align: middle;\n",
       "    }\n",
       "\n",
       "    .dataframe tbody tr th {\n",
       "        vertical-align: top;\n",
       "    }\n",
       "\n",
       "    .dataframe thead th {\n",
       "        text-align: right;\n",
       "    }\n",
       "</style>\n",
       "<table border=\"1\" class=\"dataframe\">\n",
       "  <thead>\n",
       "    <tr style=\"text-align: right;\">\n",
       "      <th></th>\n",
       "      <th>Unnamed: 0</th>\n",
       "      <th>date</th>\n",
       "      <th>rolling_average_cases_per_100k_centered</th>\n",
       "      <th>state</th>\n",
       "      <th>name</th>\n",
       "      <th>fipscode</th>\n",
       "    </tr>\n",
       "  </thead>\n",
       "  <tbody>\n",
       "    <tr>\n",
       "      <th>1607</th>\n",
       "      <td>1625</td>\n",
       "      <td>2/12/2020</td>\n",
       "      <td>0.0</td>\n",
       "      <td>FL</td>\n",
       "      <td>Miami-Dade County, FL</td>\n",
       "      <td>12086</td>\n",
       "    </tr>\n",
       "    <tr>\n",
       "      <th>1608</th>\n",
       "      <td>1626</td>\n",
       "      <td>2/16/2020</td>\n",
       "      <td>0.0</td>\n",
       "      <td>FL</td>\n",
       "      <td>Miami-Dade County, FL</td>\n",
       "      <td>12086</td>\n",
       "    </tr>\n",
       "    <tr>\n",
       "      <th>1609</th>\n",
       "      <td>1627</td>\n",
       "      <td>2/23/2020</td>\n",
       "      <td>0.0</td>\n",
       "      <td>FL</td>\n",
       "      <td>Miami-Dade County, FL</td>\n",
       "      <td>12086</td>\n",
       "    </tr>\n",
       "    <tr>\n",
       "      <th>1610</th>\n",
       "      <td>1628</td>\n",
       "      <td>3/3/2020</td>\n",
       "      <td>0.0</td>\n",
       "      <td>FL</td>\n",
       "      <td>Miami-Dade County, FL</td>\n",
       "      <td>12086</td>\n",
       "    </tr>\n",
       "    <tr>\n",
       "      <th>1611</th>\n",
       "      <td>1629</td>\n",
       "      <td>3/5/2020</td>\n",
       "      <td>0.0</td>\n",
       "      <td>FL</td>\n",
       "      <td>Miami-Dade County, FL</td>\n",
       "      <td>12086</td>\n",
       "    </tr>\n",
       "    <tr>\n",
       "      <th>...</th>\n",
       "      <td>...</td>\n",
       "      <td>...</td>\n",
       "      <td>...</td>\n",
       "      <td>...</td>\n",
       "      <td>...</td>\n",
       "      <td>...</td>\n",
       "    </tr>\n",
       "    <tr>\n",
       "      <th>54671</th>\n",
       "      <td>55153</td>\n",
       "      <td>3/31/2022</td>\n",
       "      <td>0.0</td>\n",
       "      <td>FL</td>\n",
       "      <td>Miami-Dade County, FL</td>\n",
       "      <td>12086</td>\n",
       "    </tr>\n",
       "    <tr>\n",
       "      <th>54672</th>\n",
       "      <td>55154</td>\n",
       "      <td>4/1/2022</td>\n",
       "      <td>0.0</td>\n",
       "      <td>FL</td>\n",
       "      <td>Miami-Dade County, FL</td>\n",
       "      <td>12086</td>\n",
       "    </tr>\n",
       "    <tr>\n",
       "      <th>54673</th>\n",
       "      <td>55155</td>\n",
       "      <td>4/12/2022</td>\n",
       "      <td>0.0</td>\n",
       "      <td>FL</td>\n",
       "      <td>Miami-Dade County, FL</td>\n",
       "      <td>12086</td>\n",
       "    </tr>\n",
       "    <tr>\n",
       "      <th>54674</th>\n",
       "      <td>55156</td>\n",
       "      <td>4/14/2022</td>\n",
       "      <td>0.0</td>\n",
       "      <td>FL</td>\n",
       "      <td>Miami-Dade County, FL</td>\n",
       "      <td>12086</td>\n",
       "    </tr>\n",
       "    <tr>\n",
       "      <th>54675</th>\n",
       "      <td>55157</td>\n",
       "      <td>4/16/2022</td>\n",
       "      <td>0.0</td>\n",
       "      <td>FL</td>\n",
       "      <td>Miami-Dade County, FL</td>\n",
       "      <td>12086</td>\n",
       "    </tr>\n",
       "  </tbody>\n",
       "</table>\n",
       "<p>819 rows × 6 columns</p>\n",
       "</div>"
      ],
      "text/plain": [
       "       Unnamed: 0       date  rolling_average_cases_per_100k_centered state  \\\n",
       "1607         1625  2/12/2020                                      0.0    FL   \n",
       "1608         1626  2/16/2020                                      0.0    FL   \n",
       "1609         1627  2/23/2020                                      0.0    FL   \n",
       "1610         1628   3/3/2020                                      0.0    FL   \n",
       "1611         1629   3/5/2020                                      0.0    FL   \n",
       "...           ...        ...                                      ...   ...   \n",
       "54671       55153  3/31/2022                                      0.0    FL   \n",
       "54672       55154   4/1/2022                                      0.0    FL   \n",
       "54673       55155  4/12/2022                                      0.0    FL   \n",
       "54674       55156  4/14/2022                                      0.0    FL   \n",
       "54675       55157  4/16/2022                                      0.0    FL   \n",
       "\n",
       "                        name  fipscode  \n",
       "1607   Miami-Dade County, FL     12086  \n",
       "1608   Miami-Dade County, FL     12086  \n",
       "1609   Miami-Dade County, FL     12086  \n",
       "1610   Miami-Dade County, FL     12086  \n",
       "1611   Miami-Dade County, FL     12086  \n",
       "...                      ...       ...  \n",
       "54671  Miami-Dade County, FL     12086  \n",
       "54672  Miami-Dade County, FL     12086  \n",
       "54673  Miami-Dade County, FL     12086  \n",
       "54674  Miami-Dade County, FL     12086  \n",
       "54675  Miami-Dade County, FL     12086  \n",
       "\n",
       "[819 rows x 6 columns]"
      ]
     },
     "execution_count": 3,
     "metadata": {},
     "output_type": "execute_result"
    }
   ],
   "source": [
    "Covid_Rate.loc[Covid_Rate[\"name\"] == \"Miami-Dade County, FL\"]"
   ]
  },
  {
   "cell_type": "code",
   "execution_count": 4,
   "id": "50d1f9a2",
   "metadata": {},
   "outputs": [
    {
     "data": {
      "text/html": [
       "<div>\n",
       "<style scoped>\n",
       "    .dataframe tbody tr th:only-of-type {\n",
       "        vertical-align: middle;\n",
       "    }\n",
       "\n",
       "    .dataframe tbody tr th {\n",
       "        vertical-align: top;\n",
       "    }\n",
       "\n",
       "    .dataframe thead th {\n",
       "        text-align: right;\n",
       "    }\n",
       "</style>\n",
       "<table border=\"1\" class=\"dataframe\">\n",
       "  <thead>\n",
       "    <tr style=\"text-align: right;\">\n",
       "      <th></th>\n",
       "      <th>Unnamed: 0</th>\n",
       "      <th>date</th>\n",
       "      <th>rolling_average_cases_per_100k_centered</th>\n",
       "      <th>state</th>\n",
       "      <th>name</th>\n",
       "      <th>fipscode</th>\n",
       "    </tr>\n",
       "  </thead>\n",
       "  <tbody>\n",
       "    <tr>\n",
       "      <th>1613</th>\n",
       "      <td>1631</td>\n",
       "      <td>3/14/2020</td>\n",
       "      <td>0.226095</td>\n",
       "      <td>FL</td>\n",
       "      <td>Miami-Dade County, FL</td>\n",
       "      <td>12086</td>\n",
       "    </tr>\n",
       "    <tr>\n",
       "      <th>1614</th>\n",
       "      <td>1632</td>\n",
       "      <td>3/16/2020</td>\n",
       "      <td>0.520544</td>\n",
       "      <td>FL</td>\n",
       "      <td>Miami-Dade County, FL</td>\n",
       "      <td>12086</td>\n",
       "    </tr>\n",
       "    <tr>\n",
       "      <th>1615</th>\n",
       "      <td>1633</td>\n",
       "      <td>3/18/2020</td>\n",
       "      <td>0.820251</td>\n",
       "      <td>FL</td>\n",
       "      <td>Miami-Dade County, FL</td>\n",
       "      <td>12086</td>\n",
       "    </tr>\n",
       "    <tr>\n",
       "      <th>1616</th>\n",
       "      <td>1634</td>\n",
       "      <td>3/20/2020</td>\n",
       "      <td>1.340794</td>\n",
       "      <td>FL</td>\n",
       "      <td>Miami-Dade County, FL</td>\n",
       "      <td>12086</td>\n",
       "    </tr>\n",
       "    <tr>\n",
       "      <th>1617</th>\n",
       "      <td>1635</td>\n",
       "      <td>4/1/2020</td>\n",
       "      <td>14.559447</td>\n",
       "      <td>FL</td>\n",
       "      <td>Miami-Dade County, FL</td>\n",
       "      <td>12086</td>\n",
       "    </tr>\n",
       "    <tr>\n",
       "      <th>...</th>\n",
       "      <td>...</td>\n",
       "      <td>...</td>\n",
       "      <td>...</td>\n",
       "      <td>...</td>\n",
       "      <td>...</td>\n",
       "      <td>...</td>\n",
       "    </tr>\n",
       "    <tr>\n",
       "      <th>54664</th>\n",
       "      <td>55146</td>\n",
       "      <td>2/16/2022</td>\n",
       "      <td>24.665354</td>\n",
       "      <td>FL</td>\n",
       "      <td>Miami-Dade County, FL</td>\n",
       "      <td>12086</td>\n",
       "    </tr>\n",
       "    <tr>\n",
       "      <th>54665</th>\n",
       "      <td>55147</td>\n",
       "      <td>2/20/2022</td>\n",
       "      <td>24.665354</td>\n",
       "      <td>FL</td>\n",
       "      <td>Miami-Dade County, FL</td>\n",
       "      <td>12086</td>\n",
       "    </tr>\n",
       "    <tr>\n",
       "      <th>54666</th>\n",
       "      <td>55148</td>\n",
       "      <td>2/24/2022</td>\n",
       "      <td>16.872974</td>\n",
       "      <td>FL</td>\n",
       "      <td>Miami-Dade County, FL</td>\n",
       "      <td>12086</td>\n",
       "    </tr>\n",
       "    <tr>\n",
       "      <th>54667</th>\n",
       "      <td>55149</td>\n",
       "      <td>3/5/2022</td>\n",
       "      <td>11.152252</td>\n",
       "      <td>FL</td>\n",
       "      <td>Miami-Dade County, FL</td>\n",
       "      <td>12086</td>\n",
       "    </tr>\n",
       "    <tr>\n",
       "      <th>54669</th>\n",
       "      <td>55151</td>\n",
       "      <td>3/24/2022</td>\n",
       "      <td>16.457590</td>\n",
       "      <td>FL</td>\n",
       "      <td>Miami-Dade County, FL</td>\n",
       "      <td>12086</td>\n",
       "    </tr>\n",
       "  </tbody>\n",
       "</table>\n",
       "<p>722 rows × 6 columns</p>\n",
       "</div>"
      ],
      "text/plain": [
       "       Unnamed: 0       date  rolling_average_cases_per_100k_centered state  \\\n",
       "1613         1631  3/14/2020                                 0.226095    FL   \n",
       "1614         1632  3/16/2020                                 0.520544    FL   \n",
       "1615         1633  3/18/2020                                 0.820251    FL   \n",
       "1616         1634  3/20/2020                                 1.340794    FL   \n",
       "1617         1635   4/1/2020                                14.559447    FL   \n",
       "...           ...        ...                                      ...   ...   \n",
       "54664       55146  2/16/2022                                24.665354    FL   \n",
       "54665       55147  2/20/2022                                24.665354    FL   \n",
       "54666       55148  2/24/2022                                16.872974    FL   \n",
       "54667       55149   3/5/2022                                11.152252    FL   \n",
       "54669       55151  3/24/2022                                16.457590    FL   \n",
       "\n",
       "                        name  fipscode  \n",
       "1613   Miami-Dade County, FL     12086  \n",
       "1614   Miami-Dade County, FL     12086  \n",
       "1615   Miami-Dade County, FL     12086  \n",
       "1616   Miami-Dade County, FL     12086  \n",
       "1617   Miami-Dade County, FL     12086  \n",
       "...                      ...       ...  \n",
       "54664  Miami-Dade County, FL     12086  \n",
       "54665  Miami-Dade County, FL     12086  \n",
       "54666  Miami-Dade County, FL     12086  \n",
       "54667  Miami-Dade County, FL     12086  \n",
       "54669  Miami-Dade County, FL     12086  \n",
       "\n",
       "[722 rows x 6 columns]"
      ]
     },
     "execution_count": 4,
     "metadata": {},
     "output_type": "execute_result"
    }
   ],
   "source": [
    "sim = Covid_Rate.loc[Covid_Rate[\"rolling_average_cases_per_100k_centered\"] > 0]    #\"Miami-Dade County, FL\"]\n",
    "\n",
    "Miami_cases = sim.loc[sim[\"name\"] == \"Miami-Dade County, FL\"]\n",
    "\n",
    "Miami_cases\n"
   ]
  },
  {
   "cell_type": "code",
   "execution_count": 5,
   "id": "6f0906a1",
   "metadata": {},
   "outputs": [
    {
     "data": {
      "text/html": [
       "<div>\n",
       "<style scoped>\n",
       "    .dataframe tbody tr th:only-of-type {\n",
       "        vertical-align: middle;\n",
       "    }\n",
       "\n",
       "    .dataframe tbody tr th {\n",
       "        vertical-align: top;\n",
       "    }\n",
       "\n",
       "    .dataframe thead th {\n",
       "        text-align: right;\n",
       "    }\n",
       "</style>\n",
       "<table border=\"1\" class=\"dataframe\">\n",
       "  <thead>\n",
       "    <tr style=\"text-align: right;\">\n",
       "      <th></th>\n",
       "      <th>Unnamed: 0</th>\n",
       "      <th>sampling_week</th>\n",
       "      <th>effective_concentration_rolling_average</th>\n",
       "      <th>region</th>\n",
       "      <th>state</th>\n",
       "      <th>name</th>\n",
       "      <th>fipscode</th>\n",
       "    </tr>\n",
       "  </thead>\n",
       "  <tbody>\n",
       "    <tr>\n",
       "      <th>6</th>\n",
       "      <td>6</td>\n",
       "      <td>3/25/2020</td>\n",
       "      <td>62.425517</td>\n",
       "      <td>South</td>\n",
       "      <td>FL</td>\n",
       "      <td>Miami-Dade County, FL</td>\n",
       "      <td>12086</td>\n",
       "    </tr>\n",
       "    <tr>\n",
       "      <th>11</th>\n",
       "      <td>11</td>\n",
       "      <td>4/1/2020</td>\n",
       "      <td>141.444303</td>\n",
       "      <td>South</td>\n",
       "      <td>FL</td>\n",
       "      <td>Miami-Dade County, FL</td>\n",
       "      <td>12086</td>\n",
       "    </tr>\n",
       "    <tr>\n",
       "      <th>21</th>\n",
       "      <td>21</td>\n",
       "      <td>4/8/2020</td>\n",
       "      <td>107.433821</td>\n",
       "      <td>South</td>\n",
       "      <td>FL</td>\n",
       "      <td>Miami-Dade County, FL</td>\n",
       "      <td>12086</td>\n",
       "    </tr>\n",
       "    <tr>\n",
       "      <th>35</th>\n",
       "      <td>36</td>\n",
       "      <td>4/15/2020</td>\n",
       "      <td>69.448164</td>\n",
       "      <td>South</td>\n",
       "      <td>FL</td>\n",
       "      <td>Miami-Dade County, FL</td>\n",
       "      <td>12086</td>\n",
       "    </tr>\n",
       "    <tr>\n",
       "      <th>54</th>\n",
       "      <td>55</td>\n",
       "      <td>4/22/2020</td>\n",
       "      <td>86.252784</td>\n",
       "      <td>South</td>\n",
       "      <td>FL</td>\n",
       "      <td>Miami-Dade County, FL</td>\n",
       "      <td>12086</td>\n",
       "    </tr>\n",
       "    <tr>\n",
       "      <th>...</th>\n",
       "      <td>...</td>\n",
       "      <td>...</td>\n",
       "      <td>...</td>\n",
       "      <td>...</td>\n",
       "      <td>...</td>\n",
       "      <td>...</td>\n",
       "      <td>...</td>\n",
       "    </tr>\n",
       "    <tr>\n",
       "      <th>3834</th>\n",
       "      <td>3931</td>\n",
       "      <td>3/23/2022</td>\n",
       "      <td>171.341678</td>\n",
       "      <td>South</td>\n",
       "      <td>FL</td>\n",
       "      <td>Miami-Dade County, FL</td>\n",
       "      <td>12086</td>\n",
       "    </tr>\n",
       "    <tr>\n",
       "      <th>3932</th>\n",
       "      <td>4029</td>\n",
       "      <td>3/30/2022</td>\n",
       "      <td>296.738367</td>\n",
       "      <td>South</td>\n",
       "      <td>FL</td>\n",
       "      <td>Miami-Dade County, FL</td>\n",
       "      <td>12086</td>\n",
       "    </tr>\n",
       "    <tr>\n",
       "      <th>4032</th>\n",
       "      <td>4130</td>\n",
       "      <td>4/6/2022</td>\n",
       "      <td>314.713178</td>\n",
       "      <td>South</td>\n",
       "      <td>FL</td>\n",
       "      <td>Miami-Dade County, FL</td>\n",
       "      <td>12086</td>\n",
       "    </tr>\n",
       "    <tr>\n",
       "      <th>4131</th>\n",
       "      <td>4229</td>\n",
       "      <td>4/13/2022</td>\n",
       "      <td>364.561619</td>\n",
       "      <td>South</td>\n",
       "      <td>FL</td>\n",
       "      <td>Miami-Dade County, FL</td>\n",
       "      <td>12086</td>\n",
       "    </tr>\n",
       "    <tr>\n",
       "      <th>4231</th>\n",
       "      <td>4329</td>\n",
       "      <td>4/20/2022</td>\n",
       "      <td>395.661628</td>\n",
       "      <td>South</td>\n",
       "      <td>FL</td>\n",
       "      <td>Miami-Dade County, FL</td>\n",
       "      <td>12086</td>\n",
       "    </tr>\n",
       "  </tbody>\n",
       "</table>\n",
       "<p>109 rows × 7 columns</p>\n",
       "</div>"
      ],
      "text/plain": [
       "      Unnamed: 0 sampling_week  effective_concentration_rolling_average  \\\n",
       "6              6     3/25/2020                                62.425517   \n",
       "11            11      4/1/2020                               141.444303   \n",
       "21            21      4/8/2020                               107.433821   \n",
       "35            36     4/15/2020                                69.448164   \n",
       "54            55     4/22/2020                                86.252784   \n",
       "...          ...           ...                                      ...   \n",
       "3834        3931     3/23/2022                               171.341678   \n",
       "3932        4029     3/30/2022                               296.738367   \n",
       "4032        4130      4/6/2022                               314.713178   \n",
       "4131        4229     4/13/2022                               364.561619   \n",
       "4231        4329     4/20/2022                               395.661628   \n",
       "\n",
       "     region state                   name  fipscode  \n",
       "6     South    FL  Miami-Dade County, FL     12086  \n",
       "11    South    FL  Miami-Dade County, FL     12086  \n",
       "21    South    FL  Miami-Dade County, FL     12086  \n",
       "35    South    FL  Miami-Dade County, FL     12086  \n",
       "54    South    FL  Miami-Dade County, FL     12086  \n",
       "...     ...   ...                    ...       ...  \n",
       "3834  South    FL  Miami-Dade County, FL     12086  \n",
       "3932  South    FL  Miami-Dade County, FL     12086  \n",
       "4032  South    FL  Miami-Dade County, FL     12086  \n",
       "4131  South    FL  Miami-Dade County, FL     12086  \n",
       "4231  South    FL  Miami-Dade County, FL     12086  \n",
       "\n",
       "[109 rows x 7 columns]"
      ]
     },
     "execution_count": 5,
     "metadata": {},
     "output_type": "execute_result"
    }
   ],
   "source": [
    "Miami_RNA = RNA_Conc.loc[RNA_Conc['name'] == \"Miami-Dade County, FL\"]\n",
    "Miami_RNA"
   ]
  },
  {
   "cell_type": "markdown",
   "id": "62834da4",
   "metadata": {},
   "source": [
    "# Plotting Miami-Dade County Florida covid rate and rna level"
   ]
  },
  {
   "cell_type": "markdown",
   "id": "b2bbab5f",
   "metadata": {},
   "source": [
    "# Definitions:\n",
    "\n",
    "## Covid rate per 100,000\n",
    "\n",
    "    Covid_Rate = pd.read_csv(\"Covid-Rate.csv\")\n",
    "    Miami_cases2 = Covid_Rate.loc[Covid_Rate[\"name\"] == \"Miami-Dade County, FL\"]\n",
    "    \n",
    "    ### Source\n",
    "    \n",
    "    # https://github.com/biobotanalytics/covid19-wastewater-data/blob/master/cases_by_county.csv\n",
    "    \n",
    "    \n",
    "    ### Source\n",
    "    \n",
    "    \n",
    "    # https://github.com/biobotanalytics/covid19-wastewater-data/blob/master/wastewater_by_county.csv\n",
    "    \n",
    "    RNA_Conc = pd.read_csv(\"RNA-Covid-Concentration.csv\")\n",
    "    \n",
    "    Miami_RNA = RNA_Conc.loc[RNA_Conc['name'] == \"Miami-Dade County, FL\"]\n",
    "\n",
    "\n"
   ]
  },
  {
   "cell_type": "code",
   "execution_count": 6,
   "id": "f843088c",
   "metadata": {},
   "outputs": [],
   "source": [
    "Miami_cases2 = Covid_Rate.loc[Covid_Rate[\"name\"] == \"Miami-Dade County, FL\"]\n"
   ]
  },
  {
   "cell_type": "code",
   "execution_count": 8,
   "id": "3afcc3ae",
   "metadata": {},
   "outputs": [
    {
     "ename": "ModuleNotFoundError",
     "evalue": "No module named 'plotly'",
     "output_type": "error",
     "traceback": [
      "\u001b[1;31m---------------------------------------------------------------------------\u001b[0m",
      "\u001b[1;31mModuleNotFoundError\u001b[0m                       Traceback (most recent call last)",
      "\u001b[1;32m~\\AppData\\Local\\Temp/ipykernel_6180/3294437977.py\u001b[0m in \u001b[0;36m<module>\u001b[1;34m\u001b[0m\n\u001b[1;32m----> 1\u001b[1;33m \u001b[1;32mimport\u001b[0m \u001b[0mplotly\u001b[0m\u001b[1;33m.\u001b[0m\u001b[0mexpress\u001b[0m \u001b[1;32mas\u001b[0m \u001b[0mpx\u001b[0m\u001b[1;33m\u001b[0m\u001b[1;33m\u001b[0m\u001b[0m\n\u001b[0m\u001b[0;32m      2\u001b[0m \u001b[0mfig\u001b[0m \u001b[1;33m=\u001b[0m \u001b[0mpx\u001b[0m\u001b[1;33m.\u001b[0m\u001b[0mbar\u001b[0m\u001b[1;33m(\u001b[0m\u001b[0mMiami_cases2\u001b[0m\u001b[1;33m,\u001b[0m \u001b[0mx\u001b[0m\u001b[1;33m=\u001b[0m\u001b[1;34m'date'\u001b[0m\u001b[1;33m,\u001b[0m \u001b[0my\u001b[0m\u001b[1;33m=\u001b[0m\u001b[1;34m'rolling_average_cases_per_100k_centered'\u001b[0m\u001b[1;33m)\u001b[0m\u001b[1;33m\u001b[0m\u001b[1;33m\u001b[0m\u001b[0m\n\u001b[0;32m      3\u001b[0m \u001b[0mfig\u001b[0m\u001b[1;33m.\u001b[0m\u001b[0mshow\u001b[0m\u001b[1;33m(\u001b[0m\u001b[1;33m)\u001b[0m\u001b[1;33m\u001b[0m\u001b[1;33m\u001b[0m\u001b[0m\n",
      "\u001b[1;31mModuleNotFoundError\u001b[0m: No module named 'plotly'"
     ]
    }
   ],
   "source": [
    "import plotly.express as px\n",
    "fig = px.bar(Miami_cases2, x='date', y='rolling_average_cases_per_100k_centered')\n",
    "fig.show()"
   ]
  },
  {
   "cell_type": "code",
   "execution_count": 10,
   "id": "52c0bf2e",
   "metadata": {},
   "outputs": [
    {
     "data": {
      "application/vnd.plotly.v1+json": {
       "config": {
        "plotlyServerURL": "https://plot.ly"
       },
       "data": [
        {
         "alignmentgroup": "True",
         "hovertemplate": "sampling_week=%{x}<br>effective_concentration_rolling_average=%{y}<extra></extra>",
         "legendgroup": "",
         "marker": {
          "color": "#636efa",
          "pattern": {
           "shape": ""
          }
         },
         "name": "",
         "offsetgroup": "",
         "orientation": "v",
         "showlegend": false,
         "textposition": "auto",
         "type": "bar",
         "x": [
          "3/25/2020",
          "4/1/2020",
          "4/8/2020",
          "4/15/2020",
          "4/22/2020",
          "4/29/2020",
          "5/6/2020",
          "5/13/2020",
          "5/20/2020",
          "5/27/2020",
          "6/3/2020",
          "6/10/2020",
          "6/17/2020",
          "6/24/2020",
          "7/1/2020",
          "7/8/2020",
          "7/15/2020",
          "7/22/2020",
          "7/29/2020",
          "8/5/2020",
          "8/12/2020",
          "8/19/2020",
          "8/26/2020",
          "9/2/2020",
          "9/9/2020",
          "9/16/2020",
          "9/23/2020",
          "9/30/2020",
          "10/7/2020",
          "10/14/2020",
          "10/21/2020",
          "10/28/2020",
          "11/4/2020",
          "11/11/2020",
          "11/18/2020",
          "11/25/2020",
          "12/2/2020",
          "12/9/2020",
          "12/16/2020",
          "12/23/2020",
          "12/30/2020",
          "1/6/2021",
          "1/13/2021",
          "1/20/2021",
          "1/27/2021",
          "2/3/2021",
          "2/10/2021",
          "2/17/2021",
          "2/24/2021",
          "3/3/2021",
          "3/10/2021",
          "3/17/2021",
          "3/24/2021",
          "3/31/2021",
          "4/7/2021",
          "4/14/2021",
          "4/21/2021",
          "4/28/2021",
          "5/5/2021",
          "5/12/2021",
          "5/19/2021",
          "5/26/2021",
          "6/2/2021",
          "6/9/2021",
          "6/16/2021",
          "6/23/2021",
          "6/30/2021",
          "7/7/2021",
          "7/14/2021",
          "7/21/2021",
          "7/28/2021",
          "8/4/2021",
          "8/11/2021",
          "8/18/2021",
          "8/25/2021",
          "9/1/2021",
          "9/8/2021",
          "9/15/2021",
          "9/22/2021",
          "9/29/2021",
          "10/6/2021",
          "10/13/2021",
          "10/20/2021",
          "10/27/2021",
          "11/3/2021",
          "11/10/2021",
          "11/17/2021",
          "11/24/2021",
          "12/1/2021",
          "12/8/2021",
          "12/15/2021",
          "12/22/2021",
          "12/29/2021",
          "1/5/2022",
          "1/12/2022",
          "1/19/2022",
          "1/26/2022",
          "2/2/2022",
          "2/9/2022",
          "2/16/2022",
          "2/23/2022",
          "3/2/2022",
          "3/9/2022",
          "3/16/2022",
          "3/23/2022",
          "3/30/2022",
          "4/6/2022",
          "4/13/2022",
          "4/20/2022"
         ],
         "xaxis": "x",
         "y": [
          62.42551699,
          141.444303,
          107.4338206,
          69.44816407,
          86.25278443,
          92.04709303,
          254.0759434,
          118.3769954,
          44.93506331,
          56.57864872,
          172.5176771,
          293.3360463,
          282.6648573,
          342.2460703,
          691.3974954,
          763.1957651,
          903.209743,
          611.0601146,
          430.1416895,
          329.3936966,
          210.4436464,
          128.3229295,
          111.8079955,
          97.62224135,
          68.28766031,
          63.28096281,
          63.29034093,
          47.31415505,
          63.33026901,
          69.30454521,
          103.7749079,
          128.1773864,
          199.4271547,
          242.6802713,
          419.9985867,
          749.718446,
          504.0382251,
          566.6577858,
          552.8624474,
          485.0720693,
          461.9289448,
          663.959494,
          527.7855626,
          447.081386,
          333.0509878,
          220.5766468,
          167.5654697,
          139.970925,
          143.1024132,
          188.3324881,
          238.3910991,
          145.9643853,
          172.0657617,
          231.2216718,
          223.6948613,
          168.3555844,
          129.6932088,
          128.3505361,
          81.63486303,
          81.35635293,
          66.63953459,
          48.20609307,
          52.45422089,
          103.810679,
          118.6149932,
          119.5851891,
          110.1184792,
          146.8406556,
          230.728216,
          419.8953653,
          674.1393874,
          851.2197018,
          863.1212015,
          641.2149101,
          656.7904459,
          514.9716601,
          351.9339316,
          313.6921758,
          206.2228103,
          176.0801259,
          131.1400703,
          156.9583968,
          116.0692784,
          100.0603135,
          140.5133819,
          167.7944993,
          172.5245023,
          198.2816198,
          149.2796535,
          377.3867376,
          1540.515817,
          3555.938855,
          3374.219062,
          2048.895247,
          1201.904311,
          621.6730775,
          339.76273,
          213.1103121,
          128.7329404,
          73.97773897,
          80.13698578,
          80.5762503,
          84.06252774,
          106.4033499,
          171.3416778,
          296.7383673,
          314.7131784,
          364.5616192,
          395.6616284
         ],
         "yaxis": "y"
        }
       ],
       "layout": {
        "barmode": "relative",
        "legend": {
         "tracegroupgap": 0
        },
        "margin": {
         "t": 60
        },
        "template": {
         "data": {
          "bar": [
           {
            "error_x": {
             "color": "#2a3f5f"
            },
            "error_y": {
             "color": "#2a3f5f"
            },
            "marker": {
             "line": {
              "color": "#E5ECF6",
              "width": 0.5
             },
             "pattern": {
              "fillmode": "overlay",
              "size": 10,
              "solidity": 0.2
             }
            },
            "type": "bar"
           }
          ],
          "barpolar": [
           {
            "marker": {
             "line": {
              "color": "#E5ECF6",
              "width": 0.5
             },
             "pattern": {
              "fillmode": "overlay",
              "size": 10,
              "solidity": 0.2
             }
            },
            "type": "barpolar"
           }
          ],
          "carpet": [
           {
            "aaxis": {
             "endlinecolor": "#2a3f5f",
             "gridcolor": "white",
             "linecolor": "white",
             "minorgridcolor": "white",
             "startlinecolor": "#2a3f5f"
            },
            "baxis": {
             "endlinecolor": "#2a3f5f",
             "gridcolor": "white",
             "linecolor": "white",
             "minorgridcolor": "white",
             "startlinecolor": "#2a3f5f"
            },
            "type": "carpet"
           }
          ],
          "choropleth": [
           {
            "colorbar": {
             "outlinewidth": 0,
             "ticks": ""
            },
            "type": "choropleth"
           }
          ],
          "contour": [
           {
            "colorbar": {
             "outlinewidth": 0,
             "ticks": ""
            },
            "colorscale": [
             [
              0,
              "#0d0887"
             ],
             [
              0.1111111111111111,
              "#46039f"
             ],
             [
              0.2222222222222222,
              "#7201a8"
             ],
             [
              0.3333333333333333,
              "#9c179e"
             ],
             [
              0.4444444444444444,
              "#bd3786"
             ],
             [
              0.5555555555555556,
              "#d8576b"
             ],
             [
              0.6666666666666666,
              "#ed7953"
             ],
             [
              0.7777777777777778,
              "#fb9f3a"
             ],
             [
              0.8888888888888888,
              "#fdca26"
             ],
             [
              1,
              "#f0f921"
             ]
            ],
            "type": "contour"
           }
          ],
          "contourcarpet": [
           {
            "colorbar": {
             "outlinewidth": 0,
             "ticks": ""
            },
            "type": "contourcarpet"
           }
          ],
          "heatmap": [
           {
            "colorbar": {
             "outlinewidth": 0,
             "ticks": ""
            },
            "colorscale": [
             [
              0,
              "#0d0887"
             ],
             [
              0.1111111111111111,
              "#46039f"
             ],
             [
              0.2222222222222222,
              "#7201a8"
             ],
             [
              0.3333333333333333,
              "#9c179e"
             ],
             [
              0.4444444444444444,
              "#bd3786"
             ],
             [
              0.5555555555555556,
              "#d8576b"
             ],
             [
              0.6666666666666666,
              "#ed7953"
             ],
             [
              0.7777777777777778,
              "#fb9f3a"
             ],
             [
              0.8888888888888888,
              "#fdca26"
             ],
             [
              1,
              "#f0f921"
             ]
            ],
            "type": "heatmap"
           }
          ],
          "heatmapgl": [
           {
            "colorbar": {
             "outlinewidth": 0,
             "ticks": ""
            },
            "colorscale": [
             [
              0,
              "#0d0887"
             ],
             [
              0.1111111111111111,
              "#46039f"
             ],
             [
              0.2222222222222222,
              "#7201a8"
             ],
             [
              0.3333333333333333,
              "#9c179e"
             ],
             [
              0.4444444444444444,
              "#bd3786"
             ],
             [
              0.5555555555555556,
              "#d8576b"
             ],
             [
              0.6666666666666666,
              "#ed7953"
             ],
             [
              0.7777777777777778,
              "#fb9f3a"
             ],
             [
              0.8888888888888888,
              "#fdca26"
             ],
             [
              1,
              "#f0f921"
             ]
            ],
            "type": "heatmapgl"
           }
          ],
          "histogram": [
           {
            "marker": {
             "pattern": {
              "fillmode": "overlay",
              "size": 10,
              "solidity": 0.2
             }
            },
            "type": "histogram"
           }
          ],
          "histogram2d": [
           {
            "colorbar": {
             "outlinewidth": 0,
             "ticks": ""
            },
            "colorscale": [
             [
              0,
              "#0d0887"
             ],
             [
              0.1111111111111111,
              "#46039f"
             ],
             [
              0.2222222222222222,
              "#7201a8"
             ],
             [
              0.3333333333333333,
              "#9c179e"
             ],
             [
              0.4444444444444444,
              "#bd3786"
             ],
             [
              0.5555555555555556,
              "#d8576b"
             ],
             [
              0.6666666666666666,
              "#ed7953"
             ],
             [
              0.7777777777777778,
              "#fb9f3a"
             ],
             [
              0.8888888888888888,
              "#fdca26"
             ],
             [
              1,
              "#f0f921"
             ]
            ],
            "type": "histogram2d"
           }
          ],
          "histogram2dcontour": [
           {
            "colorbar": {
             "outlinewidth": 0,
             "ticks": ""
            },
            "colorscale": [
             [
              0,
              "#0d0887"
             ],
             [
              0.1111111111111111,
              "#46039f"
             ],
             [
              0.2222222222222222,
              "#7201a8"
             ],
             [
              0.3333333333333333,
              "#9c179e"
             ],
             [
              0.4444444444444444,
              "#bd3786"
             ],
             [
              0.5555555555555556,
              "#d8576b"
             ],
             [
              0.6666666666666666,
              "#ed7953"
             ],
             [
              0.7777777777777778,
              "#fb9f3a"
             ],
             [
              0.8888888888888888,
              "#fdca26"
             ],
             [
              1,
              "#f0f921"
             ]
            ],
            "type": "histogram2dcontour"
           }
          ],
          "mesh3d": [
           {
            "colorbar": {
             "outlinewidth": 0,
             "ticks": ""
            },
            "type": "mesh3d"
           }
          ],
          "parcoords": [
           {
            "line": {
             "colorbar": {
              "outlinewidth": 0,
              "ticks": ""
             }
            },
            "type": "parcoords"
           }
          ],
          "pie": [
           {
            "automargin": true,
            "type": "pie"
           }
          ],
          "scatter": [
           {
            "fillpattern": {
             "fillmode": "overlay",
             "size": 10,
             "solidity": 0.2
            },
            "type": "scatter"
           }
          ],
          "scatter3d": [
           {
            "line": {
             "colorbar": {
              "outlinewidth": 0,
              "ticks": ""
             }
            },
            "marker": {
             "colorbar": {
              "outlinewidth": 0,
              "ticks": ""
             }
            },
            "type": "scatter3d"
           }
          ],
          "scattercarpet": [
           {
            "marker": {
             "colorbar": {
              "outlinewidth": 0,
              "ticks": ""
             }
            },
            "type": "scattercarpet"
           }
          ],
          "scattergeo": [
           {
            "marker": {
             "colorbar": {
              "outlinewidth": 0,
              "ticks": ""
             }
            },
            "type": "scattergeo"
           }
          ],
          "scattergl": [
           {
            "marker": {
             "colorbar": {
              "outlinewidth": 0,
              "ticks": ""
             }
            },
            "type": "scattergl"
           }
          ],
          "scattermapbox": [
           {
            "marker": {
             "colorbar": {
              "outlinewidth": 0,
              "ticks": ""
             }
            },
            "type": "scattermapbox"
           }
          ],
          "scatterpolar": [
           {
            "marker": {
             "colorbar": {
              "outlinewidth": 0,
              "ticks": ""
             }
            },
            "type": "scatterpolar"
           }
          ],
          "scatterpolargl": [
           {
            "marker": {
             "colorbar": {
              "outlinewidth": 0,
              "ticks": ""
             }
            },
            "type": "scatterpolargl"
           }
          ],
          "scatterternary": [
           {
            "marker": {
             "colorbar": {
              "outlinewidth": 0,
              "ticks": ""
             }
            },
            "type": "scatterternary"
           }
          ],
          "surface": [
           {
            "colorbar": {
             "outlinewidth": 0,
             "ticks": ""
            },
            "colorscale": [
             [
              0,
              "#0d0887"
             ],
             [
              0.1111111111111111,
              "#46039f"
             ],
             [
              0.2222222222222222,
              "#7201a8"
             ],
             [
              0.3333333333333333,
              "#9c179e"
             ],
             [
              0.4444444444444444,
              "#bd3786"
             ],
             [
              0.5555555555555556,
              "#d8576b"
             ],
             [
              0.6666666666666666,
              "#ed7953"
             ],
             [
              0.7777777777777778,
              "#fb9f3a"
             ],
             [
              0.8888888888888888,
              "#fdca26"
             ],
             [
              1,
              "#f0f921"
             ]
            ],
            "type": "surface"
           }
          ],
          "table": [
           {
            "cells": {
             "fill": {
              "color": "#EBF0F8"
             },
             "line": {
              "color": "white"
             }
            },
            "header": {
             "fill": {
              "color": "#C8D4E3"
             },
             "line": {
              "color": "white"
             }
            },
            "type": "table"
           }
          ]
         },
         "layout": {
          "annotationdefaults": {
           "arrowcolor": "#2a3f5f",
           "arrowhead": 0,
           "arrowwidth": 1
          },
          "autotypenumbers": "strict",
          "coloraxis": {
           "colorbar": {
            "outlinewidth": 0,
            "ticks": ""
           }
          },
          "colorscale": {
           "diverging": [
            [
             0,
             "#8e0152"
            ],
            [
             0.1,
             "#c51b7d"
            ],
            [
             0.2,
             "#de77ae"
            ],
            [
             0.3,
             "#f1b6da"
            ],
            [
             0.4,
             "#fde0ef"
            ],
            [
             0.5,
             "#f7f7f7"
            ],
            [
             0.6,
             "#e6f5d0"
            ],
            [
             0.7,
             "#b8e186"
            ],
            [
             0.8,
             "#7fbc41"
            ],
            [
             0.9,
             "#4d9221"
            ],
            [
             1,
             "#276419"
            ]
           ],
           "sequential": [
            [
             0,
             "#0d0887"
            ],
            [
             0.1111111111111111,
             "#46039f"
            ],
            [
             0.2222222222222222,
             "#7201a8"
            ],
            [
             0.3333333333333333,
             "#9c179e"
            ],
            [
             0.4444444444444444,
             "#bd3786"
            ],
            [
             0.5555555555555556,
             "#d8576b"
            ],
            [
             0.6666666666666666,
             "#ed7953"
            ],
            [
             0.7777777777777778,
             "#fb9f3a"
            ],
            [
             0.8888888888888888,
             "#fdca26"
            ],
            [
             1,
             "#f0f921"
            ]
           ],
           "sequentialminus": [
            [
             0,
             "#0d0887"
            ],
            [
             0.1111111111111111,
             "#46039f"
            ],
            [
             0.2222222222222222,
             "#7201a8"
            ],
            [
             0.3333333333333333,
             "#9c179e"
            ],
            [
             0.4444444444444444,
             "#bd3786"
            ],
            [
             0.5555555555555556,
             "#d8576b"
            ],
            [
             0.6666666666666666,
             "#ed7953"
            ],
            [
             0.7777777777777778,
             "#fb9f3a"
            ],
            [
             0.8888888888888888,
             "#fdca26"
            ],
            [
             1,
             "#f0f921"
            ]
           ]
          },
          "colorway": [
           "#636efa",
           "#EF553B",
           "#00cc96",
           "#ab63fa",
           "#FFA15A",
           "#19d3f3",
           "#FF6692",
           "#B6E880",
           "#FF97FF",
           "#FECB52"
          ],
          "font": {
           "color": "#2a3f5f"
          },
          "geo": {
           "bgcolor": "white",
           "lakecolor": "white",
           "landcolor": "#E5ECF6",
           "showlakes": true,
           "showland": true,
           "subunitcolor": "white"
          },
          "hoverlabel": {
           "align": "left"
          },
          "hovermode": "closest",
          "mapbox": {
           "style": "light"
          },
          "paper_bgcolor": "white",
          "plot_bgcolor": "#E5ECF6",
          "polar": {
           "angularaxis": {
            "gridcolor": "white",
            "linecolor": "white",
            "ticks": ""
           },
           "bgcolor": "#E5ECF6",
           "radialaxis": {
            "gridcolor": "white",
            "linecolor": "white",
            "ticks": ""
           }
          },
          "scene": {
           "xaxis": {
            "backgroundcolor": "#E5ECF6",
            "gridcolor": "white",
            "gridwidth": 2,
            "linecolor": "white",
            "showbackground": true,
            "ticks": "",
            "zerolinecolor": "white"
           },
           "yaxis": {
            "backgroundcolor": "#E5ECF6",
            "gridcolor": "white",
            "gridwidth": 2,
            "linecolor": "white",
            "showbackground": true,
            "ticks": "",
            "zerolinecolor": "white"
           },
           "zaxis": {
            "backgroundcolor": "#E5ECF6",
            "gridcolor": "white",
            "gridwidth": 2,
            "linecolor": "white",
            "showbackground": true,
            "ticks": "",
            "zerolinecolor": "white"
           }
          },
          "shapedefaults": {
           "line": {
            "color": "#2a3f5f"
           }
          },
          "ternary": {
           "aaxis": {
            "gridcolor": "white",
            "linecolor": "white",
            "ticks": ""
           },
           "baxis": {
            "gridcolor": "white",
            "linecolor": "white",
            "ticks": ""
           },
           "bgcolor": "#E5ECF6",
           "caxis": {
            "gridcolor": "white",
            "linecolor": "white",
            "ticks": ""
           }
          },
          "title": {
           "x": 0.05
          },
          "xaxis": {
           "automargin": true,
           "gridcolor": "white",
           "linecolor": "white",
           "ticks": "",
           "title": {
            "standoff": 15
           },
           "zerolinecolor": "white",
           "zerolinewidth": 2
          },
          "yaxis": {
           "automargin": true,
           "gridcolor": "white",
           "linecolor": "white",
           "ticks": "",
           "title": {
            "standoff": 15
           },
           "zerolinecolor": "white",
           "zerolinewidth": 2
          }
         }
        },
        "xaxis": {
         "anchor": "y",
         "domain": [
          0,
          1
         ],
         "title": {
          "text": "sampling_week"
         }
        },
        "yaxis": {
         "anchor": "x",
         "domain": [
          0,
          1
         ],
         "title": {
          "text": "effective_concentration_rolling_average"
         }
        }
       }
      },
      "text/html": [
       "<div>                            <div id=\"f3562549-e10e-49ec-861d-3c05cc3d4e61\" class=\"plotly-graph-div\" style=\"height:525px; width:100%;\"></div>            <script type=\"text/javascript\">                require([\"plotly\"], function(Plotly) {                    window.PLOTLYENV=window.PLOTLYENV || {};                                    if (document.getElementById(\"f3562549-e10e-49ec-861d-3c05cc3d4e61\")) {                    Plotly.newPlot(                        \"f3562549-e10e-49ec-861d-3c05cc3d4e61\",                        [{\"alignmentgroup\":\"True\",\"hovertemplate\":\"sampling_week=%{x}<br>effective_concentration_rolling_average=%{y}<extra></extra>\",\"legendgroup\":\"\",\"marker\":{\"color\":\"#636efa\",\"pattern\":{\"shape\":\"\"}},\"name\":\"\",\"offsetgroup\":\"\",\"orientation\":\"v\",\"showlegend\":false,\"textposition\":\"auto\",\"x\":[\"3/25/2020\",\"4/1/2020\",\"4/8/2020\",\"4/15/2020\",\"4/22/2020\",\"4/29/2020\",\"5/6/2020\",\"5/13/2020\",\"5/20/2020\",\"5/27/2020\",\"6/3/2020\",\"6/10/2020\",\"6/17/2020\",\"6/24/2020\",\"7/1/2020\",\"7/8/2020\",\"7/15/2020\",\"7/22/2020\",\"7/29/2020\",\"8/5/2020\",\"8/12/2020\",\"8/19/2020\",\"8/26/2020\",\"9/2/2020\",\"9/9/2020\",\"9/16/2020\",\"9/23/2020\",\"9/30/2020\",\"10/7/2020\",\"10/14/2020\",\"10/21/2020\",\"10/28/2020\",\"11/4/2020\",\"11/11/2020\",\"11/18/2020\",\"11/25/2020\",\"12/2/2020\",\"12/9/2020\",\"12/16/2020\",\"12/23/2020\",\"12/30/2020\",\"1/6/2021\",\"1/13/2021\",\"1/20/2021\",\"1/27/2021\",\"2/3/2021\",\"2/10/2021\",\"2/17/2021\",\"2/24/2021\",\"3/3/2021\",\"3/10/2021\",\"3/17/2021\",\"3/24/2021\",\"3/31/2021\",\"4/7/2021\",\"4/14/2021\",\"4/21/2021\",\"4/28/2021\",\"5/5/2021\",\"5/12/2021\",\"5/19/2021\",\"5/26/2021\",\"6/2/2021\",\"6/9/2021\",\"6/16/2021\",\"6/23/2021\",\"6/30/2021\",\"7/7/2021\",\"7/14/2021\",\"7/21/2021\",\"7/28/2021\",\"8/4/2021\",\"8/11/2021\",\"8/18/2021\",\"8/25/2021\",\"9/1/2021\",\"9/8/2021\",\"9/15/2021\",\"9/22/2021\",\"9/29/2021\",\"10/6/2021\",\"10/13/2021\",\"10/20/2021\",\"10/27/2021\",\"11/3/2021\",\"11/10/2021\",\"11/17/2021\",\"11/24/2021\",\"12/1/2021\",\"12/8/2021\",\"12/15/2021\",\"12/22/2021\",\"12/29/2021\",\"1/5/2022\",\"1/12/2022\",\"1/19/2022\",\"1/26/2022\",\"2/2/2022\",\"2/9/2022\",\"2/16/2022\",\"2/23/2022\",\"3/2/2022\",\"3/9/2022\",\"3/16/2022\",\"3/23/2022\",\"3/30/2022\",\"4/6/2022\",\"4/13/2022\",\"4/20/2022\"],\"xaxis\":\"x\",\"y\":[62.42551699,141.444303,107.4338206,69.44816407,86.25278443,92.04709303,254.0759434,118.3769954,44.93506331,56.57864872,172.5176771,293.3360463,282.6648573,342.2460703,691.3974954,763.1957651,903.209743,611.0601146,430.1416895,329.3936966,210.4436464,128.3229295,111.8079955,97.62224135,68.28766031,63.28096281,63.29034093,47.31415505,63.33026901,69.30454521,103.7749079,128.1773864,199.4271547,242.6802713,419.9985867,749.718446,504.0382251,566.6577858,552.8624474,485.0720693,461.9289448,663.959494,527.7855626,447.081386,333.0509878,220.5766468,167.5654697,139.970925,143.1024132,188.3324881,238.3910991,145.9643853,172.0657617,231.2216718,223.6948613,168.3555844,129.6932088,128.3505361,81.63486303,81.35635293,66.63953459,48.20609307,52.45422089,103.810679,118.6149932,119.5851891,110.1184792,146.8406556,230.728216,419.8953653,674.1393874,851.2197018,863.1212015,641.2149101,656.7904459,514.9716601,351.9339316,313.6921758,206.2228103,176.0801259,131.1400703,156.9583968,116.0692784,100.0603135,140.5133819,167.7944993,172.5245023,198.2816198,149.2796535,377.3867376,1540.515817,3555.938855,3374.219062,2048.895247,1201.904311,621.6730775,339.76273,213.1103121,128.7329404,73.97773897,80.13698578,80.5762503,84.06252774,106.4033499,171.3416778,296.7383673,314.7131784,364.5616192,395.6616284],\"yaxis\":\"y\",\"type\":\"bar\"}],                        {\"template\":{\"data\":{\"histogram2dcontour\":[{\"type\":\"histogram2dcontour\",\"colorbar\":{\"outlinewidth\":0,\"ticks\":\"\"},\"colorscale\":[[0.0,\"#0d0887\"],[0.1111111111111111,\"#46039f\"],[0.2222222222222222,\"#7201a8\"],[0.3333333333333333,\"#9c179e\"],[0.4444444444444444,\"#bd3786\"],[0.5555555555555556,\"#d8576b\"],[0.6666666666666666,\"#ed7953\"],[0.7777777777777778,\"#fb9f3a\"],[0.8888888888888888,\"#fdca26\"],[1.0,\"#f0f921\"]]}],\"choropleth\":[{\"type\":\"choropleth\",\"colorbar\":{\"outlinewidth\":0,\"ticks\":\"\"}}],\"histogram2d\":[{\"type\":\"histogram2d\",\"colorbar\":{\"outlinewidth\":0,\"ticks\":\"\"},\"colorscale\":[[0.0,\"#0d0887\"],[0.1111111111111111,\"#46039f\"],[0.2222222222222222,\"#7201a8\"],[0.3333333333333333,\"#9c179e\"],[0.4444444444444444,\"#bd3786\"],[0.5555555555555556,\"#d8576b\"],[0.6666666666666666,\"#ed7953\"],[0.7777777777777778,\"#fb9f3a\"],[0.8888888888888888,\"#fdca26\"],[1.0,\"#f0f921\"]]}],\"heatmap\":[{\"type\":\"heatmap\",\"colorbar\":{\"outlinewidth\":0,\"ticks\":\"\"},\"colorscale\":[[0.0,\"#0d0887\"],[0.1111111111111111,\"#46039f\"],[0.2222222222222222,\"#7201a8\"],[0.3333333333333333,\"#9c179e\"],[0.4444444444444444,\"#bd3786\"],[0.5555555555555556,\"#d8576b\"],[0.6666666666666666,\"#ed7953\"],[0.7777777777777778,\"#fb9f3a\"],[0.8888888888888888,\"#fdca26\"],[1.0,\"#f0f921\"]]}],\"heatmapgl\":[{\"type\":\"heatmapgl\",\"colorbar\":{\"outlinewidth\":0,\"ticks\":\"\"},\"colorscale\":[[0.0,\"#0d0887\"],[0.1111111111111111,\"#46039f\"],[0.2222222222222222,\"#7201a8\"],[0.3333333333333333,\"#9c179e\"],[0.4444444444444444,\"#bd3786\"],[0.5555555555555556,\"#d8576b\"],[0.6666666666666666,\"#ed7953\"],[0.7777777777777778,\"#fb9f3a\"],[0.8888888888888888,\"#fdca26\"],[1.0,\"#f0f921\"]]}],\"contourcarpet\":[{\"type\":\"contourcarpet\",\"colorbar\":{\"outlinewidth\":0,\"ticks\":\"\"}}],\"contour\":[{\"type\":\"contour\",\"colorbar\":{\"outlinewidth\":0,\"ticks\":\"\"},\"colorscale\":[[0.0,\"#0d0887\"],[0.1111111111111111,\"#46039f\"],[0.2222222222222222,\"#7201a8\"],[0.3333333333333333,\"#9c179e\"],[0.4444444444444444,\"#bd3786\"],[0.5555555555555556,\"#d8576b\"],[0.6666666666666666,\"#ed7953\"],[0.7777777777777778,\"#fb9f3a\"],[0.8888888888888888,\"#fdca26\"],[1.0,\"#f0f921\"]]}],\"surface\":[{\"type\":\"surface\",\"colorbar\":{\"outlinewidth\":0,\"ticks\":\"\"},\"colorscale\":[[0.0,\"#0d0887\"],[0.1111111111111111,\"#46039f\"],[0.2222222222222222,\"#7201a8\"],[0.3333333333333333,\"#9c179e\"],[0.4444444444444444,\"#bd3786\"],[0.5555555555555556,\"#d8576b\"],[0.6666666666666666,\"#ed7953\"],[0.7777777777777778,\"#fb9f3a\"],[0.8888888888888888,\"#fdca26\"],[1.0,\"#f0f921\"]]}],\"mesh3d\":[{\"type\":\"mesh3d\",\"colorbar\":{\"outlinewidth\":0,\"ticks\":\"\"}}],\"scatter\":[{\"fillpattern\":{\"fillmode\":\"overlay\",\"size\":10,\"solidity\":0.2},\"type\":\"scatter\"}],\"parcoords\":[{\"type\":\"parcoords\",\"line\":{\"colorbar\":{\"outlinewidth\":0,\"ticks\":\"\"}}}],\"scatterpolargl\":[{\"type\":\"scatterpolargl\",\"marker\":{\"colorbar\":{\"outlinewidth\":0,\"ticks\":\"\"}}}],\"bar\":[{\"error_x\":{\"color\":\"#2a3f5f\"},\"error_y\":{\"color\":\"#2a3f5f\"},\"marker\":{\"line\":{\"color\":\"#E5ECF6\",\"width\":0.5},\"pattern\":{\"fillmode\":\"overlay\",\"size\":10,\"solidity\":0.2}},\"type\":\"bar\"}],\"scattergeo\":[{\"type\":\"scattergeo\",\"marker\":{\"colorbar\":{\"outlinewidth\":0,\"ticks\":\"\"}}}],\"scatterpolar\":[{\"type\":\"scatterpolar\",\"marker\":{\"colorbar\":{\"outlinewidth\":0,\"ticks\":\"\"}}}],\"histogram\":[{\"marker\":{\"pattern\":{\"fillmode\":\"overlay\",\"size\":10,\"solidity\":0.2}},\"type\":\"histogram\"}],\"scattergl\":[{\"type\":\"scattergl\",\"marker\":{\"colorbar\":{\"outlinewidth\":0,\"ticks\":\"\"}}}],\"scatter3d\":[{\"type\":\"scatter3d\",\"line\":{\"colorbar\":{\"outlinewidth\":0,\"ticks\":\"\"}},\"marker\":{\"colorbar\":{\"outlinewidth\":0,\"ticks\":\"\"}}}],\"scattermapbox\":[{\"type\":\"scattermapbox\",\"marker\":{\"colorbar\":{\"outlinewidth\":0,\"ticks\":\"\"}}}],\"scatterternary\":[{\"type\":\"scatterternary\",\"marker\":{\"colorbar\":{\"outlinewidth\":0,\"ticks\":\"\"}}}],\"scattercarpet\":[{\"type\":\"scattercarpet\",\"marker\":{\"colorbar\":{\"outlinewidth\":0,\"ticks\":\"\"}}}],\"carpet\":[{\"aaxis\":{\"endlinecolor\":\"#2a3f5f\",\"gridcolor\":\"white\",\"linecolor\":\"white\",\"minorgridcolor\":\"white\",\"startlinecolor\":\"#2a3f5f\"},\"baxis\":{\"endlinecolor\":\"#2a3f5f\",\"gridcolor\":\"white\",\"linecolor\":\"white\",\"minorgridcolor\":\"white\",\"startlinecolor\":\"#2a3f5f\"},\"type\":\"carpet\"}],\"table\":[{\"cells\":{\"fill\":{\"color\":\"#EBF0F8\"},\"line\":{\"color\":\"white\"}},\"header\":{\"fill\":{\"color\":\"#C8D4E3\"},\"line\":{\"color\":\"white\"}},\"type\":\"table\"}],\"barpolar\":[{\"marker\":{\"line\":{\"color\":\"#E5ECF6\",\"width\":0.5},\"pattern\":{\"fillmode\":\"overlay\",\"size\":10,\"solidity\":0.2}},\"type\":\"barpolar\"}],\"pie\":[{\"automargin\":true,\"type\":\"pie\"}]},\"layout\":{\"autotypenumbers\":\"strict\",\"colorway\":[\"#636efa\",\"#EF553B\",\"#00cc96\",\"#ab63fa\",\"#FFA15A\",\"#19d3f3\",\"#FF6692\",\"#B6E880\",\"#FF97FF\",\"#FECB52\"],\"font\":{\"color\":\"#2a3f5f\"},\"hovermode\":\"closest\",\"hoverlabel\":{\"align\":\"left\"},\"paper_bgcolor\":\"white\",\"plot_bgcolor\":\"#E5ECF6\",\"polar\":{\"bgcolor\":\"#E5ECF6\",\"angularaxis\":{\"gridcolor\":\"white\",\"linecolor\":\"white\",\"ticks\":\"\"},\"radialaxis\":{\"gridcolor\":\"white\",\"linecolor\":\"white\",\"ticks\":\"\"}},\"ternary\":{\"bgcolor\":\"#E5ECF6\",\"aaxis\":{\"gridcolor\":\"white\",\"linecolor\":\"white\",\"ticks\":\"\"},\"baxis\":{\"gridcolor\":\"white\",\"linecolor\":\"white\",\"ticks\":\"\"},\"caxis\":{\"gridcolor\":\"white\",\"linecolor\":\"white\",\"ticks\":\"\"}},\"coloraxis\":{\"colorbar\":{\"outlinewidth\":0,\"ticks\":\"\"}},\"colorscale\":{\"sequential\":[[0.0,\"#0d0887\"],[0.1111111111111111,\"#46039f\"],[0.2222222222222222,\"#7201a8\"],[0.3333333333333333,\"#9c179e\"],[0.4444444444444444,\"#bd3786\"],[0.5555555555555556,\"#d8576b\"],[0.6666666666666666,\"#ed7953\"],[0.7777777777777778,\"#fb9f3a\"],[0.8888888888888888,\"#fdca26\"],[1.0,\"#f0f921\"]],\"sequentialminus\":[[0.0,\"#0d0887\"],[0.1111111111111111,\"#46039f\"],[0.2222222222222222,\"#7201a8\"],[0.3333333333333333,\"#9c179e\"],[0.4444444444444444,\"#bd3786\"],[0.5555555555555556,\"#d8576b\"],[0.6666666666666666,\"#ed7953\"],[0.7777777777777778,\"#fb9f3a\"],[0.8888888888888888,\"#fdca26\"],[1.0,\"#f0f921\"]],\"diverging\":[[0,\"#8e0152\"],[0.1,\"#c51b7d\"],[0.2,\"#de77ae\"],[0.3,\"#f1b6da\"],[0.4,\"#fde0ef\"],[0.5,\"#f7f7f7\"],[0.6,\"#e6f5d0\"],[0.7,\"#b8e186\"],[0.8,\"#7fbc41\"],[0.9,\"#4d9221\"],[1,\"#276419\"]]},\"xaxis\":{\"gridcolor\":\"white\",\"linecolor\":\"white\",\"ticks\":\"\",\"title\":{\"standoff\":15},\"zerolinecolor\":\"white\",\"automargin\":true,\"zerolinewidth\":2},\"yaxis\":{\"gridcolor\":\"white\",\"linecolor\":\"white\",\"ticks\":\"\",\"title\":{\"standoff\":15},\"zerolinecolor\":\"white\",\"automargin\":true,\"zerolinewidth\":2},\"scene\":{\"xaxis\":{\"backgroundcolor\":\"#E5ECF6\",\"gridcolor\":\"white\",\"linecolor\":\"white\",\"showbackground\":true,\"ticks\":\"\",\"zerolinecolor\":\"white\",\"gridwidth\":2},\"yaxis\":{\"backgroundcolor\":\"#E5ECF6\",\"gridcolor\":\"white\",\"linecolor\":\"white\",\"showbackground\":true,\"ticks\":\"\",\"zerolinecolor\":\"white\",\"gridwidth\":2},\"zaxis\":{\"backgroundcolor\":\"#E5ECF6\",\"gridcolor\":\"white\",\"linecolor\":\"white\",\"showbackground\":true,\"ticks\":\"\",\"zerolinecolor\":\"white\",\"gridwidth\":2}},\"shapedefaults\":{\"line\":{\"color\":\"#2a3f5f\"}},\"annotationdefaults\":{\"arrowcolor\":\"#2a3f5f\",\"arrowhead\":0,\"arrowwidth\":1},\"geo\":{\"bgcolor\":\"white\",\"landcolor\":\"#E5ECF6\",\"subunitcolor\":\"white\",\"showland\":true,\"showlakes\":true,\"lakecolor\":\"white\"},\"title\":{\"x\":0.05},\"mapbox\":{\"style\":\"light\"}}},\"xaxis\":{\"anchor\":\"y\",\"domain\":[0.0,1.0],\"title\":{\"text\":\"sampling_week\"}},\"yaxis\":{\"anchor\":\"x\",\"domain\":[0.0,1.0],\"title\":{\"text\":\"effective_concentration_rolling_average\"}},\"legend\":{\"tracegroupgap\":0},\"margin\":{\"t\":60},\"barmode\":\"relative\"},                        {\"responsive\": true}                    ).then(function(){\n",
       "                            \n",
       "var gd = document.getElementById('f3562549-e10e-49ec-861d-3c05cc3d4e61');\n",
       "var x = new MutationObserver(function (mutations, observer) {{\n",
       "        var display = window.getComputedStyle(gd).display;\n",
       "        if (!display || display === 'none') {{\n",
       "            console.log([gd, 'removed!']);\n",
       "            Plotly.purge(gd);\n",
       "            observer.disconnect();\n",
       "        }}\n",
       "}});\n",
       "\n",
       "// Listen for the removal of the full notebook cells\n",
       "var notebookContainer = gd.closest('#notebook-container');\n",
       "if (notebookContainer) {{\n",
       "    x.observe(notebookContainer, {childList: true});\n",
       "}}\n",
       "\n",
       "// Listen for the clearing of the current output cell\n",
       "var outputEl = gd.closest('.output');\n",
       "if (outputEl) {{\n",
       "    x.observe(outputEl, {childList: true});\n",
       "}}\n",
       "\n",
       "                        })                };                });            </script>        </div>"
      ]
     },
     "metadata": {},
     "output_type": "display_data"
    }
   ],
   "source": [
    "fig = px.bar(Miami_RNA, x='sampling_week', y='effective_concentration_rolling_average')\n",
    "fig.show()"
   ]
  },
  {
   "cell_type": "code",
   "execution_count": 11,
   "id": "5ad74596",
   "metadata": {},
   "outputs": [],
   "source": [
    "from datetime import datetime"
   ]
  },
  {
   "cell_type": "code",
   "execution_count": null,
   "id": "1f24c000",
   "metadata": {},
   "outputs": [],
   "source": []
  },
  {
   "cell_type": "code",
   "execution_count": 12,
   "id": "89932121",
   "metadata": {},
   "outputs": [],
   "source": [
    "# Miami_cases['date'] = pd.to_datetime(Miami_cases['date'], errors ='coerce')\n",
    "# #Miami_cases.astype('int').dtypes\n",
    "  \n",
    "# # extracting the week from the date\n",
    "# weekNumber = Miami_cases['date'].dt.week"
   ]
  },
  {
   "cell_type": "code",
   "execution_count": 13,
   "id": "9fd0bcfe",
   "metadata": {},
   "outputs": [],
   "source": [
    "#weekNumber.value_counts()"
   ]
  },
  {
   "cell_type": "code",
   "execution_count": null,
   "id": "a5a456eb",
   "metadata": {},
   "outputs": [],
   "source": []
  },
  {
   "cell_type": "code",
   "execution_count": null,
   "id": "8ae9280f",
   "metadata": {},
   "outputs": [],
   "source": []
  },
  {
   "cell_type": "code",
   "execution_count": 14,
   "id": "e5590a8a",
   "metadata": {},
   "outputs": [
    {
     "data": {
      "text/plain": [
       "0          Fairfield County, CT\n",
       "1          Fairfield County, CT\n",
       "2          Fairfield County, CT\n",
       "3          Fairfield County, CT\n",
       "4          Fairfield County, CT\n",
       "                  ...          \n",
       "89266    City of Alexandria, VA\n",
       "89267    City of Alexandria, VA\n",
       "89268    City of Alexandria, VA\n",
       "89269    City of Alexandria, VA\n",
       "89270    City of Alexandria, VA\n",
       "Name: name, Length: 89271, dtype: object"
      ]
     },
     "execution_count": 14,
     "metadata": {},
     "output_type": "execute_result"
    }
   ],
   "source": [
    "Covid_Rate.name"
   ]
  },
  {
   "cell_type": "code",
   "execution_count": 15,
   "id": "7f941c02",
   "metadata": {},
   "outputs": [
    {
     "data": {
      "text/plain": [
       "Index(['Unnamed: 0', 'sampling_week',\n",
       "       'effective_concentration_rolling_average', 'region', 'state', 'name',\n",
       "       'fipscode'],\n",
       "      dtype='object')"
      ]
     },
     "execution_count": 15,
     "metadata": {},
     "output_type": "execute_result"
    }
   ],
   "source": [
    "RNA_Conc.columns\n"
   ]
  },
  {
   "cell_type": "code",
   "execution_count": 16,
   "id": "1e608bcf",
   "metadata": {},
   "outputs": [
    {
     "data": {
      "text/plain": [
       "1607    2020-02-12\n",
       "1608    2020-02-16\n",
       "1609    2020-02-23\n",
       "1610    2020-03-03\n",
       "1611    2020-03-05\n",
       "           ...    \n",
       "54671   2022-03-31\n",
       "54672   2022-04-01\n",
       "54673   2022-04-12\n",
       "54674   2022-04-14\n",
       "54675   2022-04-16\n",
       "Name: date, Length: 819, dtype: datetime64[ns]"
      ]
     },
     "execution_count": 16,
     "metadata": {},
     "output_type": "execute_result"
    }
   ],
   "source": [
    "pd.to_datetime(Miami_cases2['date'])"
   ]
  },
  {
   "cell_type": "code",
   "execution_count": 17,
   "id": "b8a101b9",
   "metadata": {},
   "outputs": [
    {
     "data": {
      "text/plain": [
       "1607     2\n",
       "1608     2\n",
       "1609     2\n",
       "1610     3\n",
       "1611     3\n",
       "        ..\n",
       "54671    3\n",
       "54672    4\n",
       "54673    4\n",
       "54674    4\n",
       "54675    4\n",
       "Name: date, Length: 819, dtype: int64"
      ]
     },
     "execution_count": 17,
     "metadata": {},
     "output_type": "execute_result"
    }
   ],
   "source": [
    "pd.to_datetime(Miami_cases2['date']).dt.month"
   ]
  },
  {
   "cell_type": "code",
   "execution_count": 18,
   "id": "1a9d03f1",
   "metadata": {},
   "outputs": [
    {
     "data": {
      "text/plain": [
       "1607     2020\n",
       "1608     2020\n",
       "1609     2020\n",
       "1610     2020\n",
       "1611     2020\n",
       "         ... \n",
       "54671    2022\n",
       "54672    2022\n",
       "54673    2022\n",
       "54674    2022\n",
       "54675    2022\n",
       "Name: date, Length: 819, dtype: int64"
      ]
     },
     "execution_count": 18,
     "metadata": {},
     "output_type": "execute_result"
    }
   ],
   "source": [
    "pd.to_datetime(Miami_cases2['date']).dt.year"
   ]
  },
  {
   "cell_type": "code",
   "execution_count": 19,
   "id": "75a56cb6",
   "metadata": {},
   "outputs": [
    {
     "data": {
      "text/html": [
       "<div>\n",
       "<style scoped>\n",
       "    .dataframe tbody tr th:only-of-type {\n",
       "        vertical-align: middle;\n",
       "    }\n",
       "\n",
       "    .dataframe tbody tr th {\n",
       "        vertical-align: top;\n",
       "    }\n",
       "\n",
       "    .dataframe thead th {\n",
       "        text-align: right;\n",
       "    }\n",
       "</style>\n",
       "<table border=\"1\" class=\"dataframe\">\n",
       "  <thead>\n",
       "    <tr style=\"text-align: right;\">\n",
       "      <th></th>\n",
       "      <th>Unnamed: 0</th>\n",
       "      <th>date</th>\n",
       "      <th>rolling_average_cases_per_100k_centered</th>\n",
       "      <th>state</th>\n",
       "      <th>name</th>\n",
       "      <th>fipscode</th>\n",
       "    </tr>\n",
       "  </thead>\n",
       "  <tbody>\n",
       "    <tr>\n",
       "      <th>1607</th>\n",
       "      <td>1625</td>\n",
       "      <td>2/12/2020</td>\n",
       "      <td>0.000000</td>\n",
       "      <td>FL</td>\n",
       "      <td>Miami-Dade County, FL</td>\n",
       "      <td>12086</td>\n",
       "    </tr>\n",
       "    <tr>\n",
       "      <th>1608</th>\n",
       "      <td>1626</td>\n",
       "      <td>2/16/2020</td>\n",
       "      <td>0.000000</td>\n",
       "      <td>FL</td>\n",
       "      <td>Miami-Dade County, FL</td>\n",
       "      <td>12086</td>\n",
       "    </tr>\n",
       "    <tr>\n",
       "      <th>1609</th>\n",
       "      <td>1627</td>\n",
       "      <td>2/23/2020</td>\n",
       "      <td>0.000000</td>\n",
       "      <td>FL</td>\n",
       "      <td>Miami-Dade County, FL</td>\n",
       "      <td>12086</td>\n",
       "    </tr>\n",
       "    <tr>\n",
       "      <th>1610</th>\n",
       "      <td>1628</td>\n",
       "      <td>3/3/2020</td>\n",
       "      <td>0.000000</td>\n",
       "      <td>FL</td>\n",
       "      <td>Miami-Dade County, FL</td>\n",
       "      <td>12086</td>\n",
       "    </tr>\n",
       "    <tr>\n",
       "      <th>1611</th>\n",
       "      <td>1629</td>\n",
       "      <td>3/5/2020</td>\n",
       "      <td>0.000000</td>\n",
       "      <td>FL</td>\n",
       "      <td>Miami-Dade County, FL</td>\n",
       "      <td>12086</td>\n",
       "    </tr>\n",
       "    <tr>\n",
       "      <th>...</th>\n",
       "      <td>...</td>\n",
       "      <td>...</td>\n",
       "      <td>...</td>\n",
       "      <td>...</td>\n",
       "      <td>...</td>\n",
       "      <td>...</td>\n",
       "    </tr>\n",
       "    <tr>\n",
       "      <th>54610</th>\n",
       "      <td>55092</td>\n",
       "      <td>11/27/2020</td>\n",
       "      <td>69.279620</td>\n",
       "      <td>FL</td>\n",
       "      <td>Miami-Dade County, FL</td>\n",
       "      <td>12086</td>\n",
       "    </tr>\n",
       "    <tr>\n",
       "      <th>54611</th>\n",
       "      <td>55093</td>\n",
       "      <td>11/30/2020</td>\n",
       "      <td>83.570908</td>\n",
       "      <td>FL</td>\n",
       "      <td>Miami-Dade County, FL</td>\n",
       "      <td>12086</td>\n",
       "    </tr>\n",
       "    <tr>\n",
       "      <th>54612</th>\n",
       "      <td>55094</td>\n",
       "      <td>12/8/2020</td>\n",
       "      <td>76.714455</td>\n",
       "      <td>FL</td>\n",
       "      <td>Miami-Dade County, FL</td>\n",
       "      <td>12086</td>\n",
       "    </tr>\n",
       "    <tr>\n",
       "      <th>54613</th>\n",
       "      <td>55095</td>\n",
       "      <td>12/14/2020</td>\n",
       "      <td>83.981033</td>\n",
       "      <td>FL</td>\n",
       "      <td>Miami-Dade County, FL</td>\n",
       "      <td>12086</td>\n",
       "    </tr>\n",
       "    <tr>\n",
       "      <th>54614</th>\n",
       "      <td>55096</td>\n",
       "      <td>12/23/2020</td>\n",
       "      <td>76.577747</td>\n",
       "      <td>FL</td>\n",
       "      <td>Miami-Dade County, FL</td>\n",
       "      <td>12086</td>\n",
       "    </tr>\n",
       "  </tbody>\n",
       "</table>\n",
       "<p>341 rows × 6 columns</p>\n",
       "</div>"
      ],
      "text/plain": [
       "       Unnamed: 0        date  rolling_average_cases_per_100k_centered state  \\\n",
       "1607         1625   2/12/2020                                 0.000000    FL   \n",
       "1608         1626   2/16/2020                                 0.000000    FL   \n",
       "1609         1627   2/23/2020                                 0.000000    FL   \n",
       "1610         1628    3/3/2020                                 0.000000    FL   \n",
       "1611         1629    3/5/2020                                 0.000000    FL   \n",
       "...           ...         ...                                      ...   ...   \n",
       "54610       55092  11/27/2020                                69.279620    FL   \n",
       "54611       55093  11/30/2020                                83.570908    FL   \n",
       "54612       55094   12/8/2020                                76.714455    FL   \n",
       "54613       55095  12/14/2020                                83.981033    FL   \n",
       "54614       55096  12/23/2020                                76.577747    FL   \n",
       "\n",
       "                        name  fipscode  \n",
       "1607   Miami-Dade County, FL     12086  \n",
       "1608   Miami-Dade County, FL     12086  \n",
       "1609   Miami-Dade County, FL     12086  \n",
       "1610   Miami-Dade County, FL     12086  \n",
       "1611   Miami-Dade County, FL     12086  \n",
       "...                      ...       ...  \n",
       "54610  Miami-Dade County, FL     12086  \n",
       "54611  Miami-Dade County, FL     12086  \n",
       "54612  Miami-Dade County, FL     12086  \n",
       "54613  Miami-Dade County, FL     12086  \n",
       "54614  Miami-Dade County, FL     12086  \n",
       "\n",
       "[341 rows x 6 columns]"
      ]
     },
     "execution_count": 19,
     "metadata": {},
     "output_type": "execute_result"
    }
   ],
   "source": [
    "Miami_2020_cases = Miami_cases2.loc[pd.to_datetime(Miami_cases2['date']).dt.year == 2020]\n",
    "Miami_2020_cases"
   ]
  },
  {
   "cell_type": "code",
   "execution_count": 20,
   "id": "ca4edf97",
   "metadata": {},
   "outputs": [
    {
     "data": {
      "text/plain": [
       "1607      2\n",
       "1608      2\n",
       "1609      2\n",
       "1610      3\n",
       "1611      3\n",
       "         ..\n",
       "54610    11\n",
       "54611    11\n",
       "54612    12\n",
       "54613    12\n",
       "54614    12\n",
       "Name: date, Length: 341, dtype: int64"
      ]
     },
     "execution_count": 20,
     "metadata": {},
     "output_type": "execute_result"
    }
   ],
   "source": [
    "pd.to_datetime(Miami_2020_cases['date']).dt.month"
   ]
  },
  {
   "cell_type": "code",
   "execution_count": 21,
   "id": "2a318207",
   "metadata": {},
   "outputs": [
    {
     "name": "stderr",
     "output_type": "stream",
     "text": [
      "C:\\Users\\IanAK\\miniconda3\\envs\\mlenv\\lib\\site-packages\\ipykernel_launcher.py:1: FutureWarning:\n",
      "\n",
      "Series.dt.weekofyear and Series.dt.week have been deprecated.  Please use Series.dt.isocalendar().week instead.\n",
      "\n"
     ]
    },
    {
     "data": {
      "application/vnd.plotly.v1+json": {
       "config": {
        "plotlyServerURL": "https://plot.ly"
       },
       "data": [
        {
         "alignmentgroup": "True",
         "hovertemplate": "x=%{x}<br>rolling_average_cases_per_100k_centered=%{y}<extra></extra>",
         "legendgroup": "",
         "marker": {
          "color": "#636efa",
          "pattern": {
           "shape": ""
          }
         },
         "name": "",
         "offsetgroup": "",
         "orientation": "v",
         "showlegend": false,
         "textposition": "auto",
         "type": "bar",
         "x": [
          7,
          7,
          8,
          10,
          10,
          10,
          11,
          12,
          12,
          12,
          14,
          15,
          16,
          17,
          18,
          20,
          22,
          23,
          25,
          26,
          27,
          27,
          29,
          29,
          30,
          31,
          31,
          33,
          36,
          37,
          37,
          38,
          38,
          40,
          41,
          43,
          43,
          44,
          49,
          50,
          51,
          52,
          52,
          53,
          6,
          7,
          10,
          11,
          11,
          13,
          14,
          17,
          18,
          18,
          21,
          21,
          21,
          22,
          23,
          23,
          23,
          24,
          24,
          25,
          25,
          25,
          26,
          26,
          26,
          27,
          28,
          29,
          31,
          32,
          32,
          33,
          33,
          34,
          34,
          35,
          36,
          36,
          38,
          39,
          39,
          41,
          42,
          42,
          42,
          43,
          44,
          44,
          45,
          45,
          45,
          45,
          45,
          46,
          48,
          51,
          53,
          5,
          6,
          6,
          7,
          8,
          8,
          9,
          13,
          15,
          16,
          16,
          18,
          18,
          19,
          19,
          20,
          22,
          24,
          25,
          26,
          28,
          29,
          29,
          29,
          30,
          30,
          32,
          34,
          34,
          35,
          35,
          35,
          37,
          38,
          38,
          38,
          39,
          40,
          42,
          43,
          44,
          45,
          46,
          47,
          47,
          50,
          50,
          51,
          52,
          5,
          5,
          5,
          5,
          6,
          7,
          8,
          8,
          9,
          9,
          9,
          11,
          12,
          12,
          13,
          14,
          14,
          19,
          19,
          19,
          20,
          20,
          23,
          27,
          28,
          30,
          32,
          32,
          32,
          33,
          37,
          38,
          39,
          39,
          40,
          41,
          46,
          47,
          47,
          48,
          49,
          50,
          6,
          6,
          6,
          7,
          8,
          10,
          13,
          14,
          16,
          17,
          17,
          19,
          20,
          23,
          24,
          26,
          28,
          28,
          30,
          30,
          34,
          34,
          35,
          36,
          36,
          37,
          40,
          41,
          42,
          42,
          44,
          44,
          46,
          46,
          49,
          49,
          50,
          52,
          52,
          5,
          9,
          10,
          10,
          14,
          15,
          16,
          16,
          17,
          17,
          17,
          18,
          19,
          22,
          24,
          25,
          26,
          27,
          31,
          33,
          33,
          35,
          35,
          39,
          40,
          43,
          43,
          44,
          48,
          49,
          50,
          51,
          53,
          4,
          5,
          9,
          11,
          11,
          12,
          13,
          13,
          13,
          15,
          15,
          15,
          15,
          18,
          20,
          21,
          22,
          23,
          24,
          24,
          27,
          28,
          30,
          31,
          32,
          34,
          37,
          39,
          40,
          41,
          41,
          41,
          42,
          43,
          45,
          47,
          47,
          47,
          48,
          49,
          51,
          51,
          52,
          53,
          7,
          8,
          9,
          11,
          12,
          14,
          16,
          20,
          21,
          21,
          21,
          22,
          22,
          25,
          27,
          28,
          29,
          31,
          31,
          33,
          36,
          36,
          37,
          40,
          46,
          46,
          48,
          48,
          48,
          49,
          50,
          51,
          52
         ],
         "xaxis": "x",
         "y": [
          0,
          0,
          0,
          0,
          0,
          0,
          0.226094693,
          0.520543595,
          0.820250513,
          1.340794108,
          14.5594466,
          15.0799902,
          11.55711941,
          11.05234986,
          7.692477567,
          8.922853336,
          5.773301687,
          7.440092793,
          21.45796374,
          53.53712002,
          69.91584019,
          74.86363335,
          104.0771709,
          105.3075466,
          103.2832104,
          109.6191198,
          94.30251891,
          69.68448749,
          24.85464214,
          15.27979481,
          14.31757786,
          14.69615502,
          14.37015802,
          15.41650323,
          11.75692402,
          20.84277585,
          22.8828861,
          28.31967476,
          81.07335038,
          82.18279178,
          86.44704284,
          74.60599056,
          75.97307475,
          91.63670474,
          0,
          0,
          0,
          0.010516032,
          0.12093437,
          3.822577711,
          14.05993507,
          9.332978593,
          7.324416439,
          7.592575261,
          6.18868496,
          6.446327749,
          6.262297185,
          5.952074235,
          7.271836278,
          7.745057728,
          9.233076286,
          9.301430496,
          14.51738248,
          18.42408844,
          18.12438153,
          21.25290111,
          25.29105748,
          34.08246042,
          52.56964505,
          60.99824487,
          84.28599822,
          101.5953872,
          105.3285787,
          61.83952745,
          57.55950234,
          69.96842036,
          67.54447493,
          35.79131565,
          33.62501301,
          22.59895323,
          26.55823936,
          15.60053379,
          15.00637797,
          12.16179126,
          13.51835941,
          14.30706183,
          16.23675374,
          16.96761798,
          17.50393563,
          18.8657618,
          23.84510305,
          28.05677395,
          31.8583196,
          35.51789881,
          37.44759072,
          34.89745291,
          35.01312927,
          38.03648853,
          70.80970293,
          85.57947018,
          81.9619551,
          0,
          0,
          0,
          0,
          0,
          0,
          0,
          8.996465562,
          13.59722966,
          12.76646311,
          12.32478976,
          7.75557376,
          8.554792208,
          8.002700517,
          6.356941475,
          8.186731081,
          5.552465011,
          12.83481732,
          23.69262058,
          47.2327587,
          98.56151195,
          102.6680225,
          105.9910887,
          103.8668502,
          108.1205852,
          107.8787165,
          52.46974275,
          40.18701712,
          35.11828959,
          29.41860013,
          24.04490766,
          27.68345481,
          14.57522065,
          14.20190151,
          14.33335191,
          14.86441154,
          13.381651,
          14.36490001,
          19.88055891,
          19.39156341,
          25.5907644,
          39.68224757,
          34.00884819,
          64.66834012,
          69.36900652,
          77.85544452,
          79.25933482,
          87.47235598,
          78.62837289,
          0,
          0,
          0,
          0,
          0,
          0,
          0,
          0,
          0,
          0,
          0,
          0.068354209,
          1.125215447,
          1.551114752,
          5.005631335,
          15.61630784,
          17.1358745,
          6.703970538,
          6.477875846,
          6.104556702,
          7.082547698,
          8.234053226,
          8.502212047,
          72.40288181,
          96.44778948,
          109.356219,
          52.63274125,
          51.3760754,
          54.53088506,
          65.21517379,
          15.33237497,
          13.69713196,
          14.07570912,
          13.81806633,
          13.75497014,
          15.71095213,
          46.13909135,
          68.02821241,
          67.08176951,
          65.38343031,
          80.94189997,
          78.73879122,
          0,
          0,
          0,
          0,
          0,
          0,
          7.482156922,
          15.78982237,
          11.70434386,
          11.89363244,
          10.30571157,
          5.768043671,
          8.680984595,
          8.13415092,
          15.75301626,
          30.60165375,
          82.52982084,
          98.43531957,
          106.6325667,
          109.340445,
          43.00005573,
          34.62929409,
          26.88423636,
          26.18492022,
          25.25950939,
          14.27025572,
          14.61202677,
          15.72672618,
          17.01494013,
          18.13489756,
          21.9364432,
          27.52045631,
          40.02927663,
          43.57843751,
          79.67997611,
          78.81240345,
          80.8840618,
          84.28599822,
          71.34602058,
          0,
          0,
          0,
          0,
          13.11875019,
          13.68135791,
          13.27123266,
          12.02508284,
          10.50025817,
          10.05858482,
          8.612630386,
          8.002700517,
          5.652367317,
          5.410498576,
          12.2722096,
          20.36429639,
          41.66451964,
          84.19661194,
          75.75223807,
          69.35323247,
          62.36007105,
          25.36466971,
          29.8339834,
          14.69615502,
          13.72342204,
          19.33898325,
          19.66498025,
          22.38863259,
          71.71933972,
          81.21531681,
          75.77327014,
          85.77401678,
          92.1467323,
          0,
          0,
          0,
          0.042064129,
          0.40486724,
          2.176818669,
          2.907682908,
          6.546230055,
          9.385558754,
          15.83714452,
          15.43753529,
          15.31134291,
          14.65934891,
          7.487414938,
          8.018474565,
          8.544276176,
          6.073008605,
          9.574847334,
          9.548557253,
          12.46149818,
          63.70086515,
          84.85912197,
          109.5139595,
          101.7583857,
          70.0472906,
          31.76893333,
          13.99683888,
          13.25020059,
          15.14308639,
          14.92750773,
          15.31660092,
          15.76879031,
          17.73528833,
          19.96468716,
          33.05188926,
          62.93845282,
          64.06892628,
          67.23950999,
          59.14216519,
          77.01416194,
          85.49534192,
          85.75298471,
          73.3440667,
          81.9619551,
          0,
          0,
          0,
          0.068354209,
          0.704574159,
          11.73589195,
          12.07240499,
          6.083524637,
          7.94486234,
          6.982645392,
          6.241265121,
          5.883720025,
          6.47261783,
          17.38300125,
          69.2322981,
          91.66299482,
          102.3420255,
          85.85814504,
          67.33415428,
          46.38621811,
          27.4521021,
          15.94756286,
          13.99683888,
          14.52789851,
          53.96301932,
          59.0475209,
          67.87572994,
          66.84515879,
          69.27962025,
          83.57090803,
          76.71445502,
          83.98103328,
          76.5777466
         ],
         "yaxis": "y"
        }
       ],
       "layout": {
        "barmode": "relative",
        "legend": {
         "tracegroupgap": 0
        },
        "margin": {
         "t": 60
        },
        "template": {
         "data": {
          "bar": [
           {
            "error_x": {
             "color": "#2a3f5f"
            },
            "error_y": {
             "color": "#2a3f5f"
            },
            "marker": {
             "line": {
              "color": "#E5ECF6",
              "width": 0.5
             },
             "pattern": {
              "fillmode": "overlay",
              "size": 10,
              "solidity": 0.2
             }
            },
            "type": "bar"
           }
          ],
          "barpolar": [
           {
            "marker": {
             "line": {
              "color": "#E5ECF6",
              "width": 0.5
             },
             "pattern": {
              "fillmode": "overlay",
              "size": 10,
              "solidity": 0.2
             }
            },
            "type": "barpolar"
           }
          ],
          "carpet": [
           {
            "aaxis": {
             "endlinecolor": "#2a3f5f",
             "gridcolor": "white",
             "linecolor": "white",
             "minorgridcolor": "white",
             "startlinecolor": "#2a3f5f"
            },
            "baxis": {
             "endlinecolor": "#2a3f5f",
             "gridcolor": "white",
             "linecolor": "white",
             "minorgridcolor": "white",
             "startlinecolor": "#2a3f5f"
            },
            "type": "carpet"
           }
          ],
          "choropleth": [
           {
            "colorbar": {
             "outlinewidth": 0,
             "ticks": ""
            },
            "type": "choropleth"
           }
          ],
          "contour": [
           {
            "colorbar": {
             "outlinewidth": 0,
             "ticks": ""
            },
            "colorscale": [
             [
              0,
              "#0d0887"
             ],
             [
              0.1111111111111111,
              "#46039f"
             ],
             [
              0.2222222222222222,
              "#7201a8"
             ],
             [
              0.3333333333333333,
              "#9c179e"
             ],
             [
              0.4444444444444444,
              "#bd3786"
             ],
             [
              0.5555555555555556,
              "#d8576b"
             ],
             [
              0.6666666666666666,
              "#ed7953"
             ],
             [
              0.7777777777777778,
              "#fb9f3a"
             ],
             [
              0.8888888888888888,
              "#fdca26"
             ],
             [
              1,
              "#f0f921"
             ]
            ],
            "type": "contour"
           }
          ],
          "contourcarpet": [
           {
            "colorbar": {
             "outlinewidth": 0,
             "ticks": ""
            },
            "type": "contourcarpet"
           }
          ],
          "heatmap": [
           {
            "colorbar": {
             "outlinewidth": 0,
             "ticks": ""
            },
            "colorscale": [
             [
              0,
              "#0d0887"
             ],
             [
              0.1111111111111111,
              "#46039f"
             ],
             [
              0.2222222222222222,
              "#7201a8"
             ],
             [
              0.3333333333333333,
              "#9c179e"
             ],
             [
              0.4444444444444444,
              "#bd3786"
             ],
             [
              0.5555555555555556,
              "#d8576b"
             ],
             [
              0.6666666666666666,
              "#ed7953"
             ],
             [
              0.7777777777777778,
              "#fb9f3a"
             ],
             [
              0.8888888888888888,
              "#fdca26"
             ],
             [
              1,
              "#f0f921"
             ]
            ],
            "type": "heatmap"
           }
          ],
          "heatmapgl": [
           {
            "colorbar": {
             "outlinewidth": 0,
             "ticks": ""
            },
            "colorscale": [
             [
              0,
              "#0d0887"
             ],
             [
              0.1111111111111111,
              "#46039f"
             ],
             [
              0.2222222222222222,
              "#7201a8"
             ],
             [
              0.3333333333333333,
              "#9c179e"
             ],
             [
              0.4444444444444444,
              "#bd3786"
             ],
             [
              0.5555555555555556,
              "#d8576b"
             ],
             [
              0.6666666666666666,
              "#ed7953"
             ],
             [
              0.7777777777777778,
              "#fb9f3a"
             ],
             [
              0.8888888888888888,
              "#fdca26"
             ],
             [
              1,
              "#f0f921"
             ]
            ],
            "type": "heatmapgl"
           }
          ],
          "histogram": [
           {
            "marker": {
             "pattern": {
              "fillmode": "overlay",
              "size": 10,
              "solidity": 0.2
             }
            },
            "type": "histogram"
           }
          ],
          "histogram2d": [
           {
            "colorbar": {
             "outlinewidth": 0,
             "ticks": ""
            },
            "colorscale": [
             [
              0,
              "#0d0887"
             ],
             [
              0.1111111111111111,
              "#46039f"
             ],
             [
              0.2222222222222222,
              "#7201a8"
             ],
             [
              0.3333333333333333,
              "#9c179e"
             ],
             [
              0.4444444444444444,
              "#bd3786"
             ],
             [
              0.5555555555555556,
              "#d8576b"
             ],
             [
              0.6666666666666666,
              "#ed7953"
             ],
             [
              0.7777777777777778,
              "#fb9f3a"
             ],
             [
              0.8888888888888888,
              "#fdca26"
             ],
             [
              1,
              "#f0f921"
             ]
            ],
            "type": "histogram2d"
           }
          ],
          "histogram2dcontour": [
           {
            "colorbar": {
             "outlinewidth": 0,
             "ticks": ""
            },
            "colorscale": [
             [
              0,
              "#0d0887"
             ],
             [
              0.1111111111111111,
              "#46039f"
             ],
             [
              0.2222222222222222,
              "#7201a8"
             ],
             [
              0.3333333333333333,
              "#9c179e"
             ],
             [
              0.4444444444444444,
              "#bd3786"
             ],
             [
              0.5555555555555556,
              "#d8576b"
             ],
             [
              0.6666666666666666,
              "#ed7953"
             ],
             [
              0.7777777777777778,
              "#fb9f3a"
             ],
             [
              0.8888888888888888,
              "#fdca26"
             ],
             [
              1,
              "#f0f921"
             ]
            ],
            "type": "histogram2dcontour"
           }
          ],
          "mesh3d": [
           {
            "colorbar": {
             "outlinewidth": 0,
             "ticks": ""
            },
            "type": "mesh3d"
           }
          ],
          "parcoords": [
           {
            "line": {
             "colorbar": {
              "outlinewidth": 0,
              "ticks": ""
             }
            },
            "type": "parcoords"
           }
          ],
          "pie": [
           {
            "automargin": true,
            "type": "pie"
           }
          ],
          "scatter": [
           {
            "fillpattern": {
             "fillmode": "overlay",
             "size": 10,
             "solidity": 0.2
            },
            "type": "scatter"
           }
          ],
          "scatter3d": [
           {
            "line": {
             "colorbar": {
              "outlinewidth": 0,
              "ticks": ""
             }
            },
            "marker": {
             "colorbar": {
              "outlinewidth": 0,
              "ticks": ""
             }
            },
            "type": "scatter3d"
           }
          ],
          "scattercarpet": [
           {
            "marker": {
             "colorbar": {
              "outlinewidth": 0,
              "ticks": ""
             }
            },
            "type": "scattercarpet"
           }
          ],
          "scattergeo": [
           {
            "marker": {
             "colorbar": {
              "outlinewidth": 0,
              "ticks": ""
             }
            },
            "type": "scattergeo"
           }
          ],
          "scattergl": [
           {
            "marker": {
             "colorbar": {
              "outlinewidth": 0,
              "ticks": ""
             }
            },
            "type": "scattergl"
           }
          ],
          "scattermapbox": [
           {
            "marker": {
             "colorbar": {
              "outlinewidth": 0,
              "ticks": ""
             }
            },
            "type": "scattermapbox"
           }
          ],
          "scatterpolar": [
           {
            "marker": {
             "colorbar": {
              "outlinewidth": 0,
              "ticks": ""
             }
            },
            "type": "scatterpolar"
           }
          ],
          "scatterpolargl": [
           {
            "marker": {
             "colorbar": {
              "outlinewidth": 0,
              "ticks": ""
             }
            },
            "type": "scatterpolargl"
           }
          ],
          "scatterternary": [
           {
            "marker": {
             "colorbar": {
              "outlinewidth": 0,
              "ticks": ""
             }
            },
            "type": "scatterternary"
           }
          ],
          "surface": [
           {
            "colorbar": {
             "outlinewidth": 0,
             "ticks": ""
            },
            "colorscale": [
             [
              0,
              "#0d0887"
             ],
             [
              0.1111111111111111,
              "#46039f"
             ],
             [
              0.2222222222222222,
              "#7201a8"
             ],
             [
              0.3333333333333333,
              "#9c179e"
             ],
             [
              0.4444444444444444,
              "#bd3786"
             ],
             [
              0.5555555555555556,
              "#d8576b"
             ],
             [
              0.6666666666666666,
              "#ed7953"
             ],
             [
              0.7777777777777778,
              "#fb9f3a"
             ],
             [
              0.8888888888888888,
              "#fdca26"
             ],
             [
              1,
              "#f0f921"
             ]
            ],
            "type": "surface"
           }
          ],
          "table": [
           {
            "cells": {
             "fill": {
              "color": "#EBF0F8"
             },
             "line": {
              "color": "white"
             }
            },
            "header": {
             "fill": {
              "color": "#C8D4E3"
             },
             "line": {
              "color": "white"
             }
            },
            "type": "table"
           }
          ]
         },
         "layout": {
          "annotationdefaults": {
           "arrowcolor": "#2a3f5f",
           "arrowhead": 0,
           "arrowwidth": 1
          },
          "autotypenumbers": "strict",
          "coloraxis": {
           "colorbar": {
            "outlinewidth": 0,
            "ticks": ""
           }
          },
          "colorscale": {
           "diverging": [
            [
             0,
             "#8e0152"
            ],
            [
             0.1,
             "#c51b7d"
            ],
            [
             0.2,
             "#de77ae"
            ],
            [
             0.3,
             "#f1b6da"
            ],
            [
             0.4,
             "#fde0ef"
            ],
            [
             0.5,
             "#f7f7f7"
            ],
            [
             0.6,
             "#e6f5d0"
            ],
            [
             0.7,
             "#b8e186"
            ],
            [
             0.8,
             "#7fbc41"
            ],
            [
             0.9,
             "#4d9221"
            ],
            [
             1,
             "#276419"
            ]
           ],
           "sequential": [
            [
             0,
             "#0d0887"
            ],
            [
             0.1111111111111111,
             "#46039f"
            ],
            [
             0.2222222222222222,
             "#7201a8"
            ],
            [
             0.3333333333333333,
             "#9c179e"
            ],
            [
             0.4444444444444444,
             "#bd3786"
            ],
            [
             0.5555555555555556,
             "#d8576b"
            ],
            [
             0.6666666666666666,
             "#ed7953"
            ],
            [
             0.7777777777777778,
             "#fb9f3a"
            ],
            [
             0.8888888888888888,
             "#fdca26"
            ],
            [
             1,
             "#f0f921"
            ]
           ],
           "sequentialminus": [
            [
             0,
             "#0d0887"
            ],
            [
             0.1111111111111111,
             "#46039f"
            ],
            [
             0.2222222222222222,
             "#7201a8"
            ],
            [
             0.3333333333333333,
             "#9c179e"
            ],
            [
             0.4444444444444444,
             "#bd3786"
            ],
            [
             0.5555555555555556,
             "#d8576b"
            ],
            [
             0.6666666666666666,
             "#ed7953"
            ],
            [
             0.7777777777777778,
             "#fb9f3a"
            ],
            [
             0.8888888888888888,
             "#fdca26"
            ],
            [
             1,
             "#f0f921"
            ]
           ]
          },
          "colorway": [
           "#636efa",
           "#EF553B",
           "#00cc96",
           "#ab63fa",
           "#FFA15A",
           "#19d3f3",
           "#FF6692",
           "#B6E880",
           "#FF97FF",
           "#FECB52"
          ],
          "font": {
           "color": "#2a3f5f"
          },
          "geo": {
           "bgcolor": "white",
           "lakecolor": "white",
           "landcolor": "#E5ECF6",
           "showlakes": true,
           "showland": true,
           "subunitcolor": "white"
          },
          "hoverlabel": {
           "align": "left"
          },
          "hovermode": "closest",
          "mapbox": {
           "style": "light"
          },
          "paper_bgcolor": "white",
          "plot_bgcolor": "#E5ECF6",
          "polar": {
           "angularaxis": {
            "gridcolor": "white",
            "linecolor": "white",
            "ticks": ""
           },
           "bgcolor": "#E5ECF6",
           "radialaxis": {
            "gridcolor": "white",
            "linecolor": "white",
            "ticks": ""
           }
          },
          "scene": {
           "xaxis": {
            "backgroundcolor": "#E5ECF6",
            "gridcolor": "white",
            "gridwidth": 2,
            "linecolor": "white",
            "showbackground": true,
            "ticks": "",
            "zerolinecolor": "white"
           },
           "yaxis": {
            "backgroundcolor": "#E5ECF6",
            "gridcolor": "white",
            "gridwidth": 2,
            "linecolor": "white",
            "showbackground": true,
            "ticks": "",
            "zerolinecolor": "white"
           },
           "zaxis": {
            "backgroundcolor": "#E5ECF6",
            "gridcolor": "white",
            "gridwidth": 2,
            "linecolor": "white",
            "showbackground": true,
            "ticks": "",
            "zerolinecolor": "white"
           }
          },
          "shapedefaults": {
           "line": {
            "color": "#2a3f5f"
           }
          },
          "ternary": {
           "aaxis": {
            "gridcolor": "white",
            "linecolor": "white",
            "ticks": ""
           },
           "baxis": {
            "gridcolor": "white",
            "linecolor": "white",
            "ticks": ""
           },
           "bgcolor": "#E5ECF6",
           "caxis": {
            "gridcolor": "white",
            "linecolor": "white",
            "ticks": ""
           }
          },
          "title": {
           "x": 0.05
          },
          "xaxis": {
           "automargin": true,
           "gridcolor": "white",
           "linecolor": "white",
           "ticks": "",
           "title": {
            "standoff": 15
           },
           "zerolinecolor": "white",
           "zerolinewidth": 2
          },
          "yaxis": {
           "automargin": true,
           "gridcolor": "white",
           "linecolor": "white",
           "ticks": "",
           "title": {
            "standoff": 15
           },
           "zerolinecolor": "white",
           "zerolinewidth": 2
          }
         }
        },
        "xaxis": {
         "anchor": "y",
         "domain": [
          0,
          1
         ],
         "title": {
          "text": "x"
         }
        },
        "yaxis": {
         "anchor": "x",
         "domain": [
          0,
          1
         ],
         "title": {
          "text": "rolling_average_cases_per_100k_centered"
         }
        }
       }
      },
      "text/html": [
       "<div>                            <div id=\"3d49c075-d368-4550-af56-6e6b4c7f5f7e\" class=\"plotly-graph-div\" style=\"height:525px; width:100%;\"></div>            <script type=\"text/javascript\">                require([\"plotly\"], function(Plotly) {                    window.PLOTLYENV=window.PLOTLYENV || {};                                    if (document.getElementById(\"3d49c075-d368-4550-af56-6e6b4c7f5f7e\")) {                    Plotly.newPlot(                        \"3d49c075-d368-4550-af56-6e6b4c7f5f7e\",                        [{\"alignmentgroup\":\"True\",\"hovertemplate\":\"x=%{x}<br>rolling_average_cases_per_100k_centered=%{y}<extra></extra>\",\"legendgroup\":\"\",\"marker\":{\"color\":\"#636efa\",\"pattern\":{\"shape\":\"\"}},\"name\":\"\",\"offsetgroup\":\"\",\"orientation\":\"v\",\"showlegend\":false,\"textposition\":\"auto\",\"x\":[7,7,8,10,10,10,11,12,12,12,14,15,16,17,18,20,22,23,25,26,27,27,29,29,30,31,31,33,36,37,37,38,38,40,41,43,43,44,49,50,51,52,52,53,6,7,10,11,11,13,14,17,18,18,21,21,21,22,23,23,23,24,24,25,25,25,26,26,26,27,28,29,31,32,32,33,33,34,34,35,36,36,38,39,39,41,42,42,42,43,44,44,45,45,45,45,45,46,48,51,53,5,6,6,7,8,8,9,13,15,16,16,18,18,19,19,20,22,24,25,26,28,29,29,29,30,30,32,34,34,35,35,35,37,38,38,38,39,40,42,43,44,45,46,47,47,50,50,51,52,5,5,5,5,6,7,8,8,9,9,9,11,12,12,13,14,14,19,19,19,20,20,23,27,28,30,32,32,32,33,37,38,39,39,40,41,46,47,47,48,49,50,6,6,6,7,8,10,13,14,16,17,17,19,20,23,24,26,28,28,30,30,34,34,35,36,36,37,40,41,42,42,44,44,46,46,49,49,50,52,52,5,9,10,10,14,15,16,16,17,17,17,18,19,22,24,25,26,27,31,33,33,35,35,39,40,43,43,44,48,49,50,51,53,4,5,9,11,11,12,13,13,13,15,15,15,15,18,20,21,22,23,24,24,27,28,30,31,32,34,37,39,40,41,41,41,42,43,45,47,47,47,48,49,51,51,52,53,7,8,9,11,12,14,16,20,21,21,21,22,22,25,27,28,29,31,31,33,36,36,37,40,46,46,48,48,48,49,50,51,52],\"xaxis\":\"x\",\"y\":[0.0,0.0,0.0,0.0,0.0,0.0,0.226094693,0.520543595,0.820250513,1.340794108,14.5594466,15.0799902,11.55711941,11.05234986,7.692477567,8.922853336,5.773301687,7.440092793,21.45796374,53.53712002,69.91584019,74.86363335,104.0771709,105.3075466,103.2832104,109.6191198,94.30251891,69.68448749,24.85464214,15.27979481,14.31757786,14.69615502,14.37015802,15.41650323,11.75692402,20.84277585,22.8828861,28.31967476,81.07335038,82.18279178,86.44704284,74.60599056,75.97307475,91.63670474,0.0,0.0,0.0,0.010516032,0.12093437,3.822577711,14.05993507,9.332978593,7.324416439,7.592575261,6.18868496,6.446327749,6.262297185,5.952074235,7.271836278,7.745057728,9.233076286,9.301430496,14.51738248,18.42408844,18.12438153,21.25290111,25.29105748,34.08246042,52.56964505,60.99824487,84.28599822,101.5953872,105.3285787,61.83952745,57.55950234,69.96842036,67.54447493,35.79131565,33.62501301,22.59895323,26.55823936,15.60053379,15.00637797,12.16179126,13.51835941,14.30706183,16.23675374,16.96761798,17.50393563,18.8657618,23.84510305,28.05677395,31.8583196,35.51789881,37.44759072,34.89745291,35.01312927,38.03648853,70.80970293,85.57947018,81.9619551,0.0,0.0,0.0,0.0,0.0,0.0,0.0,8.996465562,13.59722966,12.76646311,12.32478976,7.75557376,8.554792208,8.002700517,6.356941475,8.186731081,5.552465011,12.83481732,23.69262058,47.2327587,98.56151195,102.6680225,105.9910887,103.8668502,108.1205852,107.8787165,52.46974275,40.18701712,35.11828959,29.41860013,24.04490766,27.68345481,14.57522065,14.20190151,14.33335191,14.86441154,13.381651,14.36490001,19.88055891,19.39156341,25.5907644,39.68224757,34.00884819,64.66834012,69.36900652,77.85544452,79.25933482,87.47235598,78.62837289,0.0,0.0,0.0,0.0,0.0,0.0,0.0,0.0,0.0,0.0,0.0,0.068354209,1.125215447,1.551114752,5.005631335,15.61630784,17.1358745,6.703970538,6.477875846,6.104556702,7.082547698,8.234053226,8.502212047,72.40288181,96.44778948,109.356219,52.63274125,51.3760754,54.53088506,65.21517379,15.33237497,13.69713196,14.07570912,13.81806633,13.75497014,15.71095213,46.13909135,68.02821241,67.08176951,65.38343031,80.94189997,78.73879122,0.0,0.0,0.0,0.0,0.0,0.0,7.482156922,15.78982237,11.70434386,11.89363244,10.30571157,5.768043671,8.680984595,8.13415092,15.75301626,30.60165375,82.52982084,98.43531957,106.6325667,109.340445,43.00005573,34.62929409,26.88423636,26.18492022,25.25950939,14.27025572,14.61202677,15.72672618,17.01494013,18.13489756,21.9364432,27.52045631,40.02927663,43.57843751,79.67997611,78.81240345,80.8840618,84.28599822,71.34602058,0.0,0.0,0.0,0.0,13.11875019,13.68135791,13.27123266,12.02508284,10.50025817,10.05858482,8.612630386,8.002700517,5.652367317,5.410498576,12.2722096,20.36429639,41.66451964,84.19661194,75.75223807,69.35323247,62.36007105,25.36466971,29.8339834,14.69615502,13.72342204,19.33898325,19.66498025,22.38863259,71.71933972,81.21531681,75.77327014,85.77401678,92.1467323,0.0,0.0,0.0,0.042064129,0.40486724,2.176818669,2.907682908,6.546230055,9.385558754,15.83714452,15.43753529,15.31134291,14.65934891,7.487414938,8.018474565,8.544276176,6.073008605,9.574847334,9.548557253,12.46149818,63.70086515,84.85912197,109.5139595,101.7583857,70.0472906,31.76893333,13.99683888,13.25020059,15.14308639,14.92750773,15.31660092,15.76879031,17.73528833,19.96468716,33.05188926,62.93845282,64.06892628,67.23950999,59.14216519,77.01416194,85.49534192,85.75298471,73.3440667,81.9619551,0.0,0.0,0.0,0.068354209,0.704574159,11.73589195,12.07240499,6.083524637,7.94486234,6.982645392,6.241265121,5.883720025,6.47261783,17.38300125,69.2322981,91.66299482,102.3420255,85.85814504,67.33415428,46.38621811,27.4521021,15.94756286,13.99683888,14.52789851,53.96301932,59.0475209,67.87572994,66.84515879,69.27962025,83.57090803,76.71445502,83.98103328,76.5777466],\"yaxis\":\"y\",\"type\":\"bar\"}],                        {\"template\":{\"data\":{\"histogram2dcontour\":[{\"type\":\"histogram2dcontour\",\"colorbar\":{\"outlinewidth\":0,\"ticks\":\"\"},\"colorscale\":[[0.0,\"#0d0887\"],[0.1111111111111111,\"#46039f\"],[0.2222222222222222,\"#7201a8\"],[0.3333333333333333,\"#9c179e\"],[0.4444444444444444,\"#bd3786\"],[0.5555555555555556,\"#d8576b\"],[0.6666666666666666,\"#ed7953\"],[0.7777777777777778,\"#fb9f3a\"],[0.8888888888888888,\"#fdca26\"],[1.0,\"#f0f921\"]]}],\"choropleth\":[{\"type\":\"choropleth\",\"colorbar\":{\"outlinewidth\":0,\"ticks\":\"\"}}],\"histogram2d\":[{\"type\":\"histogram2d\",\"colorbar\":{\"outlinewidth\":0,\"ticks\":\"\"},\"colorscale\":[[0.0,\"#0d0887\"],[0.1111111111111111,\"#46039f\"],[0.2222222222222222,\"#7201a8\"],[0.3333333333333333,\"#9c179e\"],[0.4444444444444444,\"#bd3786\"],[0.5555555555555556,\"#d8576b\"],[0.6666666666666666,\"#ed7953\"],[0.7777777777777778,\"#fb9f3a\"],[0.8888888888888888,\"#fdca26\"],[1.0,\"#f0f921\"]]}],\"heatmap\":[{\"type\":\"heatmap\",\"colorbar\":{\"outlinewidth\":0,\"ticks\":\"\"},\"colorscale\":[[0.0,\"#0d0887\"],[0.1111111111111111,\"#46039f\"],[0.2222222222222222,\"#7201a8\"],[0.3333333333333333,\"#9c179e\"],[0.4444444444444444,\"#bd3786\"],[0.5555555555555556,\"#d8576b\"],[0.6666666666666666,\"#ed7953\"],[0.7777777777777778,\"#fb9f3a\"],[0.8888888888888888,\"#fdca26\"],[1.0,\"#f0f921\"]]}],\"heatmapgl\":[{\"type\":\"heatmapgl\",\"colorbar\":{\"outlinewidth\":0,\"ticks\":\"\"},\"colorscale\":[[0.0,\"#0d0887\"],[0.1111111111111111,\"#46039f\"],[0.2222222222222222,\"#7201a8\"],[0.3333333333333333,\"#9c179e\"],[0.4444444444444444,\"#bd3786\"],[0.5555555555555556,\"#d8576b\"],[0.6666666666666666,\"#ed7953\"],[0.7777777777777778,\"#fb9f3a\"],[0.8888888888888888,\"#fdca26\"],[1.0,\"#f0f921\"]]}],\"contourcarpet\":[{\"type\":\"contourcarpet\",\"colorbar\":{\"outlinewidth\":0,\"ticks\":\"\"}}],\"contour\":[{\"type\":\"contour\",\"colorbar\":{\"outlinewidth\":0,\"ticks\":\"\"},\"colorscale\":[[0.0,\"#0d0887\"],[0.1111111111111111,\"#46039f\"],[0.2222222222222222,\"#7201a8\"],[0.3333333333333333,\"#9c179e\"],[0.4444444444444444,\"#bd3786\"],[0.5555555555555556,\"#d8576b\"],[0.6666666666666666,\"#ed7953\"],[0.7777777777777778,\"#fb9f3a\"],[0.8888888888888888,\"#fdca26\"],[1.0,\"#f0f921\"]]}],\"surface\":[{\"type\":\"surface\",\"colorbar\":{\"outlinewidth\":0,\"ticks\":\"\"},\"colorscale\":[[0.0,\"#0d0887\"],[0.1111111111111111,\"#46039f\"],[0.2222222222222222,\"#7201a8\"],[0.3333333333333333,\"#9c179e\"],[0.4444444444444444,\"#bd3786\"],[0.5555555555555556,\"#d8576b\"],[0.6666666666666666,\"#ed7953\"],[0.7777777777777778,\"#fb9f3a\"],[0.8888888888888888,\"#fdca26\"],[1.0,\"#f0f921\"]]}],\"mesh3d\":[{\"type\":\"mesh3d\",\"colorbar\":{\"outlinewidth\":0,\"ticks\":\"\"}}],\"scatter\":[{\"fillpattern\":{\"fillmode\":\"overlay\",\"size\":10,\"solidity\":0.2},\"type\":\"scatter\"}],\"parcoords\":[{\"type\":\"parcoords\",\"line\":{\"colorbar\":{\"outlinewidth\":0,\"ticks\":\"\"}}}],\"scatterpolargl\":[{\"type\":\"scatterpolargl\",\"marker\":{\"colorbar\":{\"outlinewidth\":0,\"ticks\":\"\"}}}],\"bar\":[{\"error_x\":{\"color\":\"#2a3f5f\"},\"error_y\":{\"color\":\"#2a3f5f\"},\"marker\":{\"line\":{\"color\":\"#E5ECF6\",\"width\":0.5},\"pattern\":{\"fillmode\":\"overlay\",\"size\":10,\"solidity\":0.2}},\"type\":\"bar\"}],\"scattergeo\":[{\"type\":\"scattergeo\",\"marker\":{\"colorbar\":{\"outlinewidth\":0,\"ticks\":\"\"}}}],\"scatterpolar\":[{\"type\":\"scatterpolar\",\"marker\":{\"colorbar\":{\"outlinewidth\":0,\"ticks\":\"\"}}}],\"histogram\":[{\"marker\":{\"pattern\":{\"fillmode\":\"overlay\",\"size\":10,\"solidity\":0.2}},\"type\":\"histogram\"}],\"scattergl\":[{\"type\":\"scattergl\",\"marker\":{\"colorbar\":{\"outlinewidth\":0,\"ticks\":\"\"}}}],\"scatter3d\":[{\"type\":\"scatter3d\",\"line\":{\"colorbar\":{\"outlinewidth\":0,\"ticks\":\"\"}},\"marker\":{\"colorbar\":{\"outlinewidth\":0,\"ticks\":\"\"}}}],\"scattermapbox\":[{\"type\":\"scattermapbox\",\"marker\":{\"colorbar\":{\"outlinewidth\":0,\"ticks\":\"\"}}}],\"scatterternary\":[{\"type\":\"scatterternary\",\"marker\":{\"colorbar\":{\"outlinewidth\":0,\"ticks\":\"\"}}}],\"scattercarpet\":[{\"type\":\"scattercarpet\",\"marker\":{\"colorbar\":{\"outlinewidth\":0,\"ticks\":\"\"}}}],\"carpet\":[{\"aaxis\":{\"endlinecolor\":\"#2a3f5f\",\"gridcolor\":\"white\",\"linecolor\":\"white\",\"minorgridcolor\":\"white\",\"startlinecolor\":\"#2a3f5f\"},\"baxis\":{\"endlinecolor\":\"#2a3f5f\",\"gridcolor\":\"white\",\"linecolor\":\"white\",\"minorgridcolor\":\"white\",\"startlinecolor\":\"#2a3f5f\"},\"type\":\"carpet\"}],\"table\":[{\"cells\":{\"fill\":{\"color\":\"#EBF0F8\"},\"line\":{\"color\":\"white\"}},\"header\":{\"fill\":{\"color\":\"#C8D4E3\"},\"line\":{\"color\":\"white\"}},\"type\":\"table\"}],\"barpolar\":[{\"marker\":{\"line\":{\"color\":\"#E5ECF6\",\"width\":0.5},\"pattern\":{\"fillmode\":\"overlay\",\"size\":10,\"solidity\":0.2}},\"type\":\"barpolar\"}],\"pie\":[{\"automargin\":true,\"type\":\"pie\"}]},\"layout\":{\"autotypenumbers\":\"strict\",\"colorway\":[\"#636efa\",\"#EF553B\",\"#00cc96\",\"#ab63fa\",\"#FFA15A\",\"#19d3f3\",\"#FF6692\",\"#B6E880\",\"#FF97FF\",\"#FECB52\"],\"font\":{\"color\":\"#2a3f5f\"},\"hovermode\":\"closest\",\"hoverlabel\":{\"align\":\"left\"},\"paper_bgcolor\":\"white\",\"plot_bgcolor\":\"#E5ECF6\",\"polar\":{\"bgcolor\":\"#E5ECF6\",\"angularaxis\":{\"gridcolor\":\"white\",\"linecolor\":\"white\",\"ticks\":\"\"},\"radialaxis\":{\"gridcolor\":\"white\",\"linecolor\":\"white\",\"ticks\":\"\"}},\"ternary\":{\"bgcolor\":\"#E5ECF6\",\"aaxis\":{\"gridcolor\":\"white\",\"linecolor\":\"white\",\"ticks\":\"\"},\"baxis\":{\"gridcolor\":\"white\",\"linecolor\":\"white\",\"ticks\":\"\"},\"caxis\":{\"gridcolor\":\"white\",\"linecolor\":\"white\",\"ticks\":\"\"}},\"coloraxis\":{\"colorbar\":{\"outlinewidth\":0,\"ticks\":\"\"}},\"colorscale\":{\"sequential\":[[0.0,\"#0d0887\"],[0.1111111111111111,\"#46039f\"],[0.2222222222222222,\"#7201a8\"],[0.3333333333333333,\"#9c179e\"],[0.4444444444444444,\"#bd3786\"],[0.5555555555555556,\"#d8576b\"],[0.6666666666666666,\"#ed7953\"],[0.7777777777777778,\"#fb9f3a\"],[0.8888888888888888,\"#fdca26\"],[1.0,\"#f0f921\"]],\"sequentialminus\":[[0.0,\"#0d0887\"],[0.1111111111111111,\"#46039f\"],[0.2222222222222222,\"#7201a8\"],[0.3333333333333333,\"#9c179e\"],[0.4444444444444444,\"#bd3786\"],[0.5555555555555556,\"#d8576b\"],[0.6666666666666666,\"#ed7953\"],[0.7777777777777778,\"#fb9f3a\"],[0.8888888888888888,\"#fdca26\"],[1.0,\"#f0f921\"]],\"diverging\":[[0,\"#8e0152\"],[0.1,\"#c51b7d\"],[0.2,\"#de77ae\"],[0.3,\"#f1b6da\"],[0.4,\"#fde0ef\"],[0.5,\"#f7f7f7\"],[0.6,\"#e6f5d0\"],[0.7,\"#b8e186\"],[0.8,\"#7fbc41\"],[0.9,\"#4d9221\"],[1,\"#276419\"]]},\"xaxis\":{\"gridcolor\":\"white\",\"linecolor\":\"white\",\"ticks\":\"\",\"title\":{\"standoff\":15},\"zerolinecolor\":\"white\",\"automargin\":true,\"zerolinewidth\":2},\"yaxis\":{\"gridcolor\":\"white\",\"linecolor\":\"white\",\"ticks\":\"\",\"title\":{\"standoff\":15},\"zerolinecolor\":\"white\",\"automargin\":true,\"zerolinewidth\":2},\"scene\":{\"xaxis\":{\"backgroundcolor\":\"#E5ECF6\",\"gridcolor\":\"white\",\"linecolor\":\"white\",\"showbackground\":true,\"ticks\":\"\",\"zerolinecolor\":\"white\",\"gridwidth\":2},\"yaxis\":{\"backgroundcolor\":\"#E5ECF6\",\"gridcolor\":\"white\",\"linecolor\":\"white\",\"showbackground\":true,\"ticks\":\"\",\"zerolinecolor\":\"white\",\"gridwidth\":2},\"zaxis\":{\"backgroundcolor\":\"#E5ECF6\",\"gridcolor\":\"white\",\"linecolor\":\"white\",\"showbackground\":true,\"ticks\":\"\",\"zerolinecolor\":\"white\",\"gridwidth\":2}},\"shapedefaults\":{\"line\":{\"color\":\"#2a3f5f\"}},\"annotationdefaults\":{\"arrowcolor\":\"#2a3f5f\",\"arrowhead\":0,\"arrowwidth\":1},\"geo\":{\"bgcolor\":\"white\",\"landcolor\":\"#E5ECF6\",\"subunitcolor\":\"white\",\"showland\":true,\"showlakes\":true,\"lakecolor\":\"white\"},\"title\":{\"x\":0.05},\"mapbox\":{\"style\":\"light\"}}},\"xaxis\":{\"anchor\":\"y\",\"domain\":[0.0,1.0],\"title\":{\"text\":\"x\"}},\"yaxis\":{\"anchor\":\"x\",\"domain\":[0.0,1.0],\"title\":{\"text\":\"rolling_average_cases_per_100k_centered\"}},\"legend\":{\"tracegroupgap\":0},\"margin\":{\"t\":60},\"barmode\":\"relative\"},                        {\"responsive\": true}                    ).then(function(){\n",
       "                            \n",
       "var gd = document.getElementById('3d49c075-d368-4550-af56-6e6b4c7f5f7e');\n",
       "var x = new MutationObserver(function (mutations, observer) {{\n",
       "        var display = window.getComputedStyle(gd).display;\n",
       "        if (!display || display === 'none') {{\n",
       "            console.log([gd, 'removed!']);\n",
       "            Plotly.purge(gd);\n",
       "            observer.disconnect();\n",
       "        }}\n",
       "}});\n",
       "\n",
       "// Listen for the removal of the full notebook cells\n",
       "var notebookContainer = gd.closest('#notebook-container');\n",
       "if (notebookContainer) {{\n",
       "    x.observe(notebookContainer, {childList: true});\n",
       "}}\n",
       "\n",
       "// Listen for the clearing of the current output cell\n",
       "var outputEl = gd.closest('.output');\n",
       "if (outputEl) {{\n",
       "    x.observe(outputEl, {childList: true});\n",
       "}}\n",
       "\n",
       "                        })                };                });            </script>        </div>"
      ]
     },
     "metadata": {},
     "output_type": "display_data"
    }
   ],
   "source": [
    "fig = px.bar(Miami_2020_cases, x=pd.to_datetime(Miami_2020_cases['date']).dt.week, y='rolling_average_cases_per_100k_centered')\n",
    "fig.show()"
   ]
  },
  {
   "cell_type": "code",
   "execution_count": 22,
   "id": "fa90bb06",
   "metadata": {},
   "outputs": [
    {
     "name": "stderr",
     "output_type": "stream",
     "text": [
      "C:\\Users\\IanAK\\miniconda3\\envs\\mlenv\\lib\\site-packages\\ipykernel_launcher.py:1: FutureWarning:\n",
      "\n",
      "Series.dt.weekofyear and Series.dt.week have been deprecated.  Please use Series.dt.isocalendar().week instead.\n",
      "\n"
     ]
    },
    {
     "data": {
      "application/vnd.plotly.v1+json": {
       "config": {
        "plotlyServerURL": "https://plot.ly"
       },
       "data": [
        {
         "alignmentgroup": "True",
         "hovertemplate": "x=%{x}<br>effective_concentration_rolling_average=%{y}<extra></extra>",
         "legendgroup": "",
         "marker": {
          "color": "#636efa",
          "pattern": {
           "shape": ""
          }
         },
         "name": "",
         "offsetgroup": "",
         "orientation": "v",
         "showlegend": false,
         "textposition": "auto",
         "type": "bar",
         "x": [
          13,
          14,
          15,
          16,
          17,
          18,
          19,
          20,
          21,
          22,
          23,
          24,
          25,
          26,
          27,
          28,
          29,
          30,
          31,
          32,
          33,
          34,
          35,
          36,
          37,
          38,
          39,
          40,
          41,
          42,
          43,
          44,
          45,
          46,
          47,
          48,
          49,
          50,
          51,
          52,
          53,
          1,
          2,
          3,
          4,
          5,
          6,
          7,
          8,
          9,
          10,
          11,
          12,
          13,
          14,
          15,
          16,
          17,
          18,
          19,
          20,
          21,
          22,
          23,
          24,
          25,
          26,
          27,
          28,
          29,
          30,
          31,
          32,
          33,
          34,
          35,
          36,
          37,
          38,
          39,
          40,
          41,
          42,
          43,
          44,
          45,
          46,
          47,
          48,
          49,
          50,
          51,
          52,
          1,
          2,
          3,
          4,
          5,
          6,
          7,
          8,
          9,
          10,
          11,
          12,
          13,
          14,
          15,
          16
         ],
         "xaxis": "x",
         "y": [
          62.42551699,
          141.444303,
          107.4338206,
          69.44816407,
          86.25278443,
          92.04709303,
          254.0759434,
          118.3769954,
          44.93506331,
          56.57864872,
          172.5176771,
          293.3360463,
          282.6648573,
          342.2460703,
          691.3974954,
          763.1957651,
          903.209743,
          611.0601146,
          430.1416895,
          329.3936966,
          210.4436464,
          128.3229295,
          111.8079955,
          97.62224135,
          68.28766031,
          63.28096281,
          63.29034093,
          47.31415505,
          63.33026901,
          69.30454521,
          103.7749079,
          128.1773864,
          199.4271547,
          242.6802713,
          419.9985867,
          749.718446,
          504.0382251,
          566.6577858,
          552.8624474,
          485.0720693,
          461.9289448,
          663.959494,
          527.7855626,
          447.081386,
          333.0509878,
          220.5766468,
          167.5654697,
          139.970925,
          143.1024132,
          188.3324881,
          238.3910991,
          145.9643853,
          172.0657617,
          231.2216718,
          223.6948613,
          168.3555844,
          129.6932088,
          128.3505361,
          81.63486303,
          81.35635293,
          66.63953459,
          48.20609307,
          52.45422089,
          103.810679,
          118.6149932,
          119.5851891,
          110.1184792,
          146.8406556,
          230.728216,
          419.8953653,
          674.1393874,
          851.2197018,
          863.1212015,
          641.2149101,
          656.7904459,
          514.9716601,
          351.9339316,
          313.6921758,
          206.2228103,
          176.0801259,
          131.1400703,
          156.9583968,
          116.0692784,
          100.0603135,
          140.5133819,
          167.7944993,
          172.5245023,
          198.2816198,
          149.2796535,
          377.3867376,
          1540.515817,
          3555.938855,
          3374.219062,
          2048.895247,
          1201.904311,
          621.6730775,
          339.76273,
          213.1103121,
          128.7329404,
          73.97773897,
          80.13698578,
          80.5762503,
          84.06252774,
          106.4033499,
          171.3416778,
          296.7383673,
          314.7131784,
          364.5616192,
          395.6616284
         ],
         "yaxis": "y"
        }
       ],
       "layout": {
        "barmode": "relative",
        "legend": {
         "tracegroupgap": 0
        },
        "margin": {
         "t": 60
        },
        "template": {
         "data": {
          "bar": [
           {
            "error_x": {
             "color": "#2a3f5f"
            },
            "error_y": {
             "color": "#2a3f5f"
            },
            "marker": {
             "line": {
              "color": "#E5ECF6",
              "width": 0.5
             },
             "pattern": {
              "fillmode": "overlay",
              "size": 10,
              "solidity": 0.2
             }
            },
            "type": "bar"
           }
          ],
          "barpolar": [
           {
            "marker": {
             "line": {
              "color": "#E5ECF6",
              "width": 0.5
             },
             "pattern": {
              "fillmode": "overlay",
              "size": 10,
              "solidity": 0.2
             }
            },
            "type": "barpolar"
           }
          ],
          "carpet": [
           {
            "aaxis": {
             "endlinecolor": "#2a3f5f",
             "gridcolor": "white",
             "linecolor": "white",
             "minorgridcolor": "white",
             "startlinecolor": "#2a3f5f"
            },
            "baxis": {
             "endlinecolor": "#2a3f5f",
             "gridcolor": "white",
             "linecolor": "white",
             "minorgridcolor": "white",
             "startlinecolor": "#2a3f5f"
            },
            "type": "carpet"
           }
          ],
          "choropleth": [
           {
            "colorbar": {
             "outlinewidth": 0,
             "ticks": ""
            },
            "type": "choropleth"
           }
          ],
          "contour": [
           {
            "colorbar": {
             "outlinewidth": 0,
             "ticks": ""
            },
            "colorscale": [
             [
              0,
              "#0d0887"
             ],
             [
              0.1111111111111111,
              "#46039f"
             ],
             [
              0.2222222222222222,
              "#7201a8"
             ],
             [
              0.3333333333333333,
              "#9c179e"
             ],
             [
              0.4444444444444444,
              "#bd3786"
             ],
             [
              0.5555555555555556,
              "#d8576b"
             ],
             [
              0.6666666666666666,
              "#ed7953"
             ],
             [
              0.7777777777777778,
              "#fb9f3a"
             ],
             [
              0.8888888888888888,
              "#fdca26"
             ],
             [
              1,
              "#f0f921"
             ]
            ],
            "type": "contour"
           }
          ],
          "contourcarpet": [
           {
            "colorbar": {
             "outlinewidth": 0,
             "ticks": ""
            },
            "type": "contourcarpet"
           }
          ],
          "heatmap": [
           {
            "colorbar": {
             "outlinewidth": 0,
             "ticks": ""
            },
            "colorscale": [
             [
              0,
              "#0d0887"
             ],
             [
              0.1111111111111111,
              "#46039f"
             ],
             [
              0.2222222222222222,
              "#7201a8"
             ],
             [
              0.3333333333333333,
              "#9c179e"
             ],
             [
              0.4444444444444444,
              "#bd3786"
             ],
             [
              0.5555555555555556,
              "#d8576b"
             ],
             [
              0.6666666666666666,
              "#ed7953"
             ],
             [
              0.7777777777777778,
              "#fb9f3a"
             ],
             [
              0.8888888888888888,
              "#fdca26"
             ],
             [
              1,
              "#f0f921"
             ]
            ],
            "type": "heatmap"
           }
          ],
          "heatmapgl": [
           {
            "colorbar": {
             "outlinewidth": 0,
             "ticks": ""
            },
            "colorscale": [
             [
              0,
              "#0d0887"
             ],
             [
              0.1111111111111111,
              "#46039f"
             ],
             [
              0.2222222222222222,
              "#7201a8"
             ],
             [
              0.3333333333333333,
              "#9c179e"
             ],
             [
              0.4444444444444444,
              "#bd3786"
             ],
             [
              0.5555555555555556,
              "#d8576b"
             ],
             [
              0.6666666666666666,
              "#ed7953"
             ],
             [
              0.7777777777777778,
              "#fb9f3a"
             ],
             [
              0.8888888888888888,
              "#fdca26"
             ],
             [
              1,
              "#f0f921"
             ]
            ],
            "type": "heatmapgl"
           }
          ],
          "histogram": [
           {
            "marker": {
             "pattern": {
              "fillmode": "overlay",
              "size": 10,
              "solidity": 0.2
             }
            },
            "type": "histogram"
           }
          ],
          "histogram2d": [
           {
            "colorbar": {
             "outlinewidth": 0,
             "ticks": ""
            },
            "colorscale": [
             [
              0,
              "#0d0887"
             ],
             [
              0.1111111111111111,
              "#46039f"
             ],
             [
              0.2222222222222222,
              "#7201a8"
             ],
             [
              0.3333333333333333,
              "#9c179e"
             ],
             [
              0.4444444444444444,
              "#bd3786"
             ],
             [
              0.5555555555555556,
              "#d8576b"
             ],
             [
              0.6666666666666666,
              "#ed7953"
             ],
             [
              0.7777777777777778,
              "#fb9f3a"
             ],
             [
              0.8888888888888888,
              "#fdca26"
             ],
             [
              1,
              "#f0f921"
             ]
            ],
            "type": "histogram2d"
           }
          ],
          "histogram2dcontour": [
           {
            "colorbar": {
             "outlinewidth": 0,
             "ticks": ""
            },
            "colorscale": [
             [
              0,
              "#0d0887"
             ],
             [
              0.1111111111111111,
              "#46039f"
             ],
             [
              0.2222222222222222,
              "#7201a8"
             ],
             [
              0.3333333333333333,
              "#9c179e"
             ],
             [
              0.4444444444444444,
              "#bd3786"
             ],
             [
              0.5555555555555556,
              "#d8576b"
             ],
             [
              0.6666666666666666,
              "#ed7953"
             ],
             [
              0.7777777777777778,
              "#fb9f3a"
             ],
             [
              0.8888888888888888,
              "#fdca26"
             ],
             [
              1,
              "#f0f921"
             ]
            ],
            "type": "histogram2dcontour"
           }
          ],
          "mesh3d": [
           {
            "colorbar": {
             "outlinewidth": 0,
             "ticks": ""
            },
            "type": "mesh3d"
           }
          ],
          "parcoords": [
           {
            "line": {
             "colorbar": {
              "outlinewidth": 0,
              "ticks": ""
             }
            },
            "type": "parcoords"
           }
          ],
          "pie": [
           {
            "automargin": true,
            "type": "pie"
           }
          ],
          "scatter": [
           {
            "fillpattern": {
             "fillmode": "overlay",
             "size": 10,
             "solidity": 0.2
            },
            "type": "scatter"
           }
          ],
          "scatter3d": [
           {
            "line": {
             "colorbar": {
              "outlinewidth": 0,
              "ticks": ""
             }
            },
            "marker": {
             "colorbar": {
              "outlinewidth": 0,
              "ticks": ""
             }
            },
            "type": "scatter3d"
           }
          ],
          "scattercarpet": [
           {
            "marker": {
             "colorbar": {
              "outlinewidth": 0,
              "ticks": ""
             }
            },
            "type": "scattercarpet"
           }
          ],
          "scattergeo": [
           {
            "marker": {
             "colorbar": {
              "outlinewidth": 0,
              "ticks": ""
             }
            },
            "type": "scattergeo"
           }
          ],
          "scattergl": [
           {
            "marker": {
             "colorbar": {
              "outlinewidth": 0,
              "ticks": ""
             }
            },
            "type": "scattergl"
           }
          ],
          "scattermapbox": [
           {
            "marker": {
             "colorbar": {
              "outlinewidth": 0,
              "ticks": ""
             }
            },
            "type": "scattermapbox"
           }
          ],
          "scatterpolar": [
           {
            "marker": {
             "colorbar": {
              "outlinewidth": 0,
              "ticks": ""
             }
            },
            "type": "scatterpolar"
           }
          ],
          "scatterpolargl": [
           {
            "marker": {
             "colorbar": {
              "outlinewidth": 0,
              "ticks": ""
             }
            },
            "type": "scatterpolargl"
           }
          ],
          "scatterternary": [
           {
            "marker": {
             "colorbar": {
              "outlinewidth": 0,
              "ticks": ""
             }
            },
            "type": "scatterternary"
           }
          ],
          "surface": [
           {
            "colorbar": {
             "outlinewidth": 0,
             "ticks": ""
            },
            "colorscale": [
             [
              0,
              "#0d0887"
             ],
             [
              0.1111111111111111,
              "#46039f"
             ],
             [
              0.2222222222222222,
              "#7201a8"
             ],
             [
              0.3333333333333333,
              "#9c179e"
             ],
             [
              0.4444444444444444,
              "#bd3786"
             ],
             [
              0.5555555555555556,
              "#d8576b"
             ],
             [
              0.6666666666666666,
              "#ed7953"
             ],
             [
              0.7777777777777778,
              "#fb9f3a"
             ],
             [
              0.8888888888888888,
              "#fdca26"
             ],
             [
              1,
              "#f0f921"
             ]
            ],
            "type": "surface"
           }
          ],
          "table": [
           {
            "cells": {
             "fill": {
              "color": "#EBF0F8"
             },
             "line": {
              "color": "white"
             }
            },
            "header": {
             "fill": {
              "color": "#C8D4E3"
             },
             "line": {
              "color": "white"
             }
            },
            "type": "table"
           }
          ]
         },
         "layout": {
          "annotationdefaults": {
           "arrowcolor": "#2a3f5f",
           "arrowhead": 0,
           "arrowwidth": 1
          },
          "autotypenumbers": "strict",
          "coloraxis": {
           "colorbar": {
            "outlinewidth": 0,
            "ticks": ""
           }
          },
          "colorscale": {
           "diverging": [
            [
             0,
             "#8e0152"
            ],
            [
             0.1,
             "#c51b7d"
            ],
            [
             0.2,
             "#de77ae"
            ],
            [
             0.3,
             "#f1b6da"
            ],
            [
             0.4,
             "#fde0ef"
            ],
            [
             0.5,
             "#f7f7f7"
            ],
            [
             0.6,
             "#e6f5d0"
            ],
            [
             0.7,
             "#b8e186"
            ],
            [
             0.8,
             "#7fbc41"
            ],
            [
             0.9,
             "#4d9221"
            ],
            [
             1,
             "#276419"
            ]
           ],
           "sequential": [
            [
             0,
             "#0d0887"
            ],
            [
             0.1111111111111111,
             "#46039f"
            ],
            [
             0.2222222222222222,
             "#7201a8"
            ],
            [
             0.3333333333333333,
             "#9c179e"
            ],
            [
             0.4444444444444444,
             "#bd3786"
            ],
            [
             0.5555555555555556,
             "#d8576b"
            ],
            [
             0.6666666666666666,
             "#ed7953"
            ],
            [
             0.7777777777777778,
             "#fb9f3a"
            ],
            [
             0.8888888888888888,
             "#fdca26"
            ],
            [
             1,
             "#f0f921"
            ]
           ],
           "sequentialminus": [
            [
             0,
             "#0d0887"
            ],
            [
             0.1111111111111111,
             "#46039f"
            ],
            [
             0.2222222222222222,
             "#7201a8"
            ],
            [
             0.3333333333333333,
             "#9c179e"
            ],
            [
             0.4444444444444444,
             "#bd3786"
            ],
            [
             0.5555555555555556,
             "#d8576b"
            ],
            [
             0.6666666666666666,
             "#ed7953"
            ],
            [
             0.7777777777777778,
             "#fb9f3a"
            ],
            [
             0.8888888888888888,
             "#fdca26"
            ],
            [
             1,
             "#f0f921"
            ]
           ]
          },
          "colorway": [
           "#636efa",
           "#EF553B",
           "#00cc96",
           "#ab63fa",
           "#FFA15A",
           "#19d3f3",
           "#FF6692",
           "#B6E880",
           "#FF97FF",
           "#FECB52"
          ],
          "font": {
           "color": "#2a3f5f"
          },
          "geo": {
           "bgcolor": "white",
           "lakecolor": "white",
           "landcolor": "#E5ECF6",
           "showlakes": true,
           "showland": true,
           "subunitcolor": "white"
          },
          "hoverlabel": {
           "align": "left"
          },
          "hovermode": "closest",
          "mapbox": {
           "style": "light"
          },
          "paper_bgcolor": "white",
          "plot_bgcolor": "#E5ECF6",
          "polar": {
           "angularaxis": {
            "gridcolor": "white",
            "linecolor": "white",
            "ticks": ""
           },
           "bgcolor": "#E5ECF6",
           "radialaxis": {
            "gridcolor": "white",
            "linecolor": "white",
            "ticks": ""
           }
          },
          "scene": {
           "xaxis": {
            "backgroundcolor": "#E5ECF6",
            "gridcolor": "white",
            "gridwidth": 2,
            "linecolor": "white",
            "showbackground": true,
            "ticks": "",
            "zerolinecolor": "white"
           },
           "yaxis": {
            "backgroundcolor": "#E5ECF6",
            "gridcolor": "white",
            "gridwidth": 2,
            "linecolor": "white",
            "showbackground": true,
            "ticks": "",
            "zerolinecolor": "white"
           },
           "zaxis": {
            "backgroundcolor": "#E5ECF6",
            "gridcolor": "white",
            "gridwidth": 2,
            "linecolor": "white",
            "showbackground": true,
            "ticks": "",
            "zerolinecolor": "white"
           }
          },
          "shapedefaults": {
           "line": {
            "color": "#2a3f5f"
           }
          },
          "ternary": {
           "aaxis": {
            "gridcolor": "white",
            "linecolor": "white",
            "ticks": ""
           },
           "baxis": {
            "gridcolor": "white",
            "linecolor": "white",
            "ticks": ""
           },
           "bgcolor": "#E5ECF6",
           "caxis": {
            "gridcolor": "white",
            "linecolor": "white",
            "ticks": ""
           }
          },
          "title": {
           "x": 0.05
          },
          "xaxis": {
           "automargin": true,
           "gridcolor": "white",
           "linecolor": "white",
           "ticks": "",
           "title": {
            "standoff": 15
           },
           "zerolinecolor": "white",
           "zerolinewidth": 2
          },
          "yaxis": {
           "automargin": true,
           "gridcolor": "white",
           "linecolor": "white",
           "ticks": "",
           "title": {
            "standoff": 15
           },
           "zerolinecolor": "white",
           "zerolinewidth": 2
          }
         }
        },
        "xaxis": {
         "anchor": "y",
         "domain": [
          0,
          1
         ],
         "title": {
          "text": "x"
         }
        },
        "yaxis": {
         "anchor": "x",
         "domain": [
          0,
          1
         ],
         "title": {
          "text": "effective_concentration_rolling_average"
         }
        }
       }
      },
      "text/html": [
       "<div>                            <div id=\"5a4fb2c8-6a24-4058-8c9e-8bbde9ff6c51\" class=\"plotly-graph-div\" style=\"height:525px; width:100%;\"></div>            <script type=\"text/javascript\">                require([\"plotly\"], function(Plotly) {                    window.PLOTLYENV=window.PLOTLYENV || {};                                    if (document.getElementById(\"5a4fb2c8-6a24-4058-8c9e-8bbde9ff6c51\")) {                    Plotly.newPlot(                        \"5a4fb2c8-6a24-4058-8c9e-8bbde9ff6c51\",                        [{\"alignmentgroup\":\"True\",\"hovertemplate\":\"x=%{x}<br>effective_concentration_rolling_average=%{y}<extra></extra>\",\"legendgroup\":\"\",\"marker\":{\"color\":\"#636efa\",\"pattern\":{\"shape\":\"\"}},\"name\":\"\",\"offsetgroup\":\"\",\"orientation\":\"v\",\"showlegend\":false,\"textposition\":\"auto\",\"x\":[13,14,15,16,17,18,19,20,21,22,23,24,25,26,27,28,29,30,31,32,33,34,35,36,37,38,39,40,41,42,43,44,45,46,47,48,49,50,51,52,53,1,2,3,4,5,6,7,8,9,10,11,12,13,14,15,16,17,18,19,20,21,22,23,24,25,26,27,28,29,30,31,32,33,34,35,36,37,38,39,40,41,42,43,44,45,46,47,48,49,50,51,52,1,2,3,4,5,6,7,8,9,10,11,12,13,14,15,16],\"xaxis\":\"x\",\"y\":[62.42551699,141.444303,107.4338206,69.44816407,86.25278443,92.04709303,254.0759434,118.3769954,44.93506331,56.57864872,172.5176771,293.3360463,282.6648573,342.2460703,691.3974954,763.1957651,903.209743,611.0601146,430.1416895,329.3936966,210.4436464,128.3229295,111.8079955,97.62224135,68.28766031,63.28096281,63.29034093,47.31415505,63.33026901,69.30454521,103.7749079,128.1773864,199.4271547,242.6802713,419.9985867,749.718446,504.0382251,566.6577858,552.8624474,485.0720693,461.9289448,663.959494,527.7855626,447.081386,333.0509878,220.5766468,167.5654697,139.970925,143.1024132,188.3324881,238.3910991,145.9643853,172.0657617,231.2216718,223.6948613,168.3555844,129.6932088,128.3505361,81.63486303,81.35635293,66.63953459,48.20609307,52.45422089,103.810679,118.6149932,119.5851891,110.1184792,146.8406556,230.728216,419.8953653,674.1393874,851.2197018,863.1212015,641.2149101,656.7904459,514.9716601,351.9339316,313.6921758,206.2228103,176.0801259,131.1400703,156.9583968,116.0692784,100.0603135,140.5133819,167.7944993,172.5245023,198.2816198,149.2796535,377.3867376,1540.515817,3555.938855,3374.219062,2048.895247,1201.904311,621.6730775,339.76273,213.1103121,128.7329404,73.97773897,80.13698578,80.5762503,84.06252774,106.4033499,171.3416778,296.7383673,314.7131784,364.5616192,395.6616284],\"yaxis\":\"y\",\"type\":\"bar\"}],                        {\"template\":{\"data\":{\"histogram2dcontour\":[{\"type\":\"histogram2dcontour\",\"colorbar\":{\"outlinewidth\":0,\"ticks\":\"\"},\"colorscale\":[[0.0,\"#0d0887\"],[0.1111111111111111,\"#46039f\"],[0.2222222222222222,\"#7201a8\"],[0.3333333333333333,\"#9c179e\"],[0.4444444444444444,\"#bd3786\"],[0.5555555555555556,\"#d8576b\"],[0.6666666666666666,\"#ed7953\"],[0.7777777777777778,\"#fb9f3a\"],[0.8888888888888888,\"#fdca26\"],[1.0,\"#f0f921\"]]}],\"choropleth\":[{\"type\":\"choropleth\",\"colorbar\":{\"outlinewidth\":0,\"ticks\":\"\"}}],\"histogram2d\":[{\"type\":\"histogram2d\",\"colorbar\":{\"outlinewidth\":0,\"ticks\":\"\"},\"colorscale\":[[0.0,\"#0d0887\"],[0.1111111111111111,\"#46039f\"],[0.2222222222222222,\"#7201a8\"],[0.3333333333333333,\"#9c179e\"],[0.4444444444444444,\"#bd3786\"],[0.5555555555555556,\"#d8576b\"],[0.6666666666666666,\"#ed7953\"],[0.7777777777777778,\"#fb9f3a\"],[0.8888888888888888,\"#fdca26\"],[1.0,\"#f0f921\"]]}],\"heatmap\":[{\"type\":\"heatmap\",\"colorbar\":{\"outlinewidth\":0,\"ticks\":\"\"},\"colorscale\":[[0.0,\"#0d0887\"],[0.1111111111111111,\"#46039f\"],[0.2222222222222222,\"#7201a8\"],[0.3333333333333333,\"#9c179e\"],[0.4444444444444444,\"#bd3786\"],[0.5555555555555556,\"#d8576b\"],[0.6666666666666666,\"#ed7953\"],[0.7777777777777778,\"#fb9f3a\"],[0.8888888888888888,\"#fdca26\"],[1.0,\"#f0f921\"]]}],\"heatmapgl\":[{\"type\":\"heatmapgl\",\"colorbar\":{\"outlinewidth\":0,\"ticks\":\"\"},\"colorscale\":[[0.0,\"#0d0887\"],[0.1111111111111111,\"#46039f\"],[0.2222222222222222,\"#7201a8\"],[0.3333333333333333,\"#9c179e\"],[0.4444444444444444,\"#bd3786\"],[0.5555555555555556,\"#d8576b\"],[0.6666666666666666,\"#ed7953\"],[0.7777777777777778,\"#fb9f3a\"],[0.8888888888888888,\"#fdca26\"],[1.0,\"#f0f921\"]]}],\"contourcarpet\":[{\"type\":\"contourcarpet\",\"colorbar\":{\"outlinewidth\":0,\"ticks\":\"\"}}],\"contour\":[{\"type\":\"contour\",\"colorbar\":{\"outlinewidth\":0,\"ticks\":\"\"},\"colorscale\":[[0.0,\"#0d0887\"],[0.1111111111111111,\"#46039f\"],[0.2222222222222222,\"#7201a8\"],[0.3333333333333333,\"#9c179e\"],[0.4444444444444444,\"#bd3786\"],[0.5555555555555556,\"#d8576b\"],[0.6666666666666666,\"#ed7953\"],[0.7777777777777778,\"#fb9f3a\"],[0.8888888888888888,\"#fdca26\"],[1.0,\"#f0f921\"]]}],\"surface\":[{\"type\":\"surface\",\"colorbar\":{\"outlinewidth\":0,\"ticks\":\"\"},\"colorscale\":[[0.0,\"#0d0887\"],[0.1111111111111111,\"#46039f\"],[0.2222222222222222,\"#7201a8\"],[0.3333333333333333,\"#9c179e\"],[0.4444444444444444,\"#bd3786\"],[0.5555555555555556,\"#d8576b\"],[0.6666666666666666,\"#ed7953\"],[0.7777777777777778,\"#fb9f3a\"],[0.8888888888888888,\"#fdca26\"],[1.0,\"#f0f921\"]]}],\"mesh3d\":[{\"type\":\"mesh3d\",\"colorbar\":{\"outlinewidth\":0,\"ticks\":\"\"}}],\"scatter\":[{\"fillpattern\":{\"fillmode\":\"overlay\",\"size\":10,\"solidity\":0.2},\"type\":\"scatter\"}],\"parcoords\":[{\"type\":\"parcoords\",\"line\":{\"colorbar\":{\"outlinewidth\":0,\"ticks\":\"\"}}}],\"scatterpolargl\":[{\"type\":\"scatterpolargl\",\"marker\":{\"colorbar\":{\"outlinewidth\":0,\"ticks\":\"\"}}}],\"bar\":[{\"error_x\":{\"color\":\"#2a3f5f\"},\"error_y\":{\"color\":\"#2a3f5f\"},\"marker\":{\"line\":{\"color\":\"#E5ECF6\",\"width\":0.5},\"pattern\":{\"fillmode\":\"overlay\",\"size\":10,\"solidity\":0.2}},\"type\":\"bar\"}],\"scattergeo\":[{\"type\":\"scattergeo\",\"marker\":{\"colorbar\":{\"outlinewidth\":0,\"ticks\":\"\"}}}],\"scatterpolar\":[{\"type\":\"scatterpolar\",\"marker\":{\"colorbar\":{\"outlinewidth\":0,\"ticks\":\"\"}}}],\"histogram\":[{\"marker\":{\"pattern\":{\"fillmode\":\"overlay\",\"size\":10,\"solidity\":0.2}},\"type\":\"histogram\"}],\"scattergl\":[{\"type\":\"scattergl\",\"marker\":{\"colorbar\":{\"outlinewidth\":0,\"ticks\":\"\"}}}],\"scatter3d\":[{\"type\":\"scatter3d\",\"line\":{\"colorbar\":{\"outlinewidth\":0,\"ticks\":\"\"}},\"marker\":{\"colorbar\":{\"outlinewidth\":0,\"ticks\":\"\"}}}],\"scattermapbox\":[{\"type\":\"scattermapbox\",\"marker\":{\"colorbar\":{\"outlinewidth\":0,\"ticks\":\"\"}}}],\"scatterternary\":[{\"type\":\"scatterternary\",\"marker\":{\"colorbar\":{\"outlinewidth\":0,\"ticks\":\"\"}}}],\"scattercarpet\":[{\"type\":\"scattercarpet\",\"marker\":{\"colorbar\":{\"outlinewidth\":0,\"ticks\":\"\"}}}],\"carpet\":[{\"aaxis\":{\"endlinecolor\":\"#2a3f5f\",\"gridcolor\":\"white\",\"linecolor\":\"white\",\"minorgridcolor\":\"white\",\"startlinecolor\":\"#2a3f5f\"},\"baxis\":{\"endlinecolor\":\"#2a3f5f\",\"gridcolor\":\"white\",\"linecolor\":\"white\",\"minorgridcolor\":\"white\",\"startlinecolor\":\"#2a3f5f\"},\"type\":\"carpet\"}],\"table\":[{\"cells\":{\"fill\":{\"color\":\"#EBF0F8\"},\"line\":{\"color\":\"white\"}},\"header\":{\"fill\":{\"color\":\"#C8D4E3\"},\"line\":{\"color\":\"white\"}},\"type\":\"table\"}],\"barpolar\":[{\"marker\":{\"line\":{\"color\":\"#E5ECF6\",\"width\":0.5},\"pattern\":{\"fillmode\":\"overlay\",\"size\":10,\"solidity\":0.2}},\"type\":\"barpolar\"}],\"pie\":[{\"automargin\":true,\"type\":\"pie\"}]},\"layout\":{\"autotypenumbers\":\"strict\",\"colorway\":[\"#636efa\",\"#EF553B\",\"#00cc96\",\"#ab63fa\",\"#FFA15A\",\"#19d3f3\",\"#FF6692\",\"#B6E880\",\"#FF97FF\",\"#FECB52\"],\"font\":{\"color\":\"#2a3f5f\"},\"hovermode\":\"closest\",\"hoverlabel\":{\"align\":\"left\"},\"paper_bgcolor\":\"white\",\"plot_bgcolor\":\"#E5ECF6\",\"polar\":{\"bgcolor\":\"#E5ECF6\",\"angularaxis\":{\"gridcolor\":\"white\",\"linecolor\":\"white\",\"ticks\":\"\"},\"radialaxis\":{\"gridcolor\":\"white\",\"linecolor\":\"white\",\"ticks\":\"\"}},\"ternary\":{\"bgcolor\":\"#E5ECF6\",\"aaxis\":{\"gridcolor\":\"white\",\"linecolor\":\"white\",\"ticks\":\"\"},\"baxis\":{\"gridcolor\":\"white\",\"linecolor\":\"white\",\"ticks\":\"\"},\"caxis\":{\"gridcolor\":\"white\",\"linecolor\":\"white\",\"ticks\":\"\"}},\"coloraxis\":{\"colorbar\":{\"outlinewidth\":0,\"ticks\":\"\"}},\"colorscale\":{\"sequential\":[[0.0,\"#0d0887\"],[0.1111111111111111,\"#46039f\"],[0.2222222222222222,\"#7201a8\"],[0.3333333333333333,\"#9c179e\"],[0.4444444444444444,\"#bd3786\"],[0.5555555555555556,\"#d8576b\"],[0.6666666666666666,\"#ed7953\"],[0.7777777777777778,\"#fb9f3a\"],[0.8888888888888888,\"#fdca26\"],[1.0,\"#f0f921\"]],\"sequentialminus\":[[0.0,\"#0d0887\"],[0.1111111111111111,\"#46039f\"],[0.2222222222222222,\"#7201a8\"],[0.3333333333333333,\"#9c179e\"],[0.4444444444444444,\"#bd3786\"],[0.5555555555555556,\"#d8576b\"],[0.6666666666666666,\"#ed7953\"],[0.7777777777777778,\"#fb9f3a\"],[0.8888888888888888,\"#fdca26\"],[1.0,\"#f0f921\"]],\"diverging\":[[0,\"#8e0152\"],[0.1,\"#c51b7d\"],[0.2,\"#de77ae\"],[0.3,\"#f1b6da\"],[0.4,\"#fde0ef\"],[0.5,\"#f7f7f7\"],[0.6,\"#e6f5d0\"],[0.7,\"#b8e186\"],[0.8,\"#7fbc41\"],[0.9,\"#4d9221\"],[1,\"#276419\"]]},\"xaxis\":{\"gridcolor\":\"white\",\"linecolor\":\"white\",\"ticks\":\"\",\"title\":{\"standoff\":15},\"zerolinecolor\":\"white\",\"automargin\":true,\"zerolinewidth\":2},\"yaxis\":{\"gridcolor\":\"white\",\"linecolor\":\"white\",\"ticks\":\"\",\"title\":{\"standoff\":15},\"zerolinecolor\":\"white\",\"automargin\":true,\"zerolinewidth\":2},\"scene\":{\"xaxis\":{\"backgroundcolor\":\"#E5ECF6\",\"gridcolor\":\"white\",\"linecolor\":\"white\",\"showbackground\":true,\"ticks\":\"\",\"zerolinecolor\":\"white\",\"gridwidth\":2},\"yaxis\":{\"backgroundcolor\":\"#E5ECF6\",\"gridcolor\":\"white\",\"linecolor\":\"white\",\"showbackground\":true,\"ticks\":\"\",\"zerolinecolor\":\"white\",\"gridwidth\":2},\"zaxis\":{\"backgroundcolor\":\"#E5ECF6\",\"gridcolor\":\"white\",\"linecolor\":\"white\",\"showbackground\":true,\"ticks\":\"\",\"zerolinecolor\":\"white\",\"gridwidth\":2}},\"shapedefaults\":{\"line\":{\"color\":\"#2a3f5f\"}},\"annotationdefaults\":{\"arrowcolor\":\"#2a3f5f\",\"arrowhead\":0,\"arrowwidth\":1},\"geo\":{\"bgcolor\":\"white\",\"landcolor\":\"#E5ECF6\",\"subunitcolor\":\"white\",\"showland\":true,\"showlakes\":true,\"lakecolor\":\"white\"},\"title\":{\"x\":0.05},\"mapbox\":{\"style\":\"light\"}}},\"xaxis\":{\"anchor\":\"y\",\"domain\":[0.0,1.0],\"title\":{\"text\":\"x\"}},\"yaxis\":{\"anchor\":\"x\",\"domain\":[0.0,1.0],\"title\":{\"text\":\"effective_concentration_rolling_average\"}},\"legend\":{\"tracegroupgap\":0},\"margin\":{\"t\":60},\"barmode\":\"relative\"},                        {\"responsive\": true}                    ).then(function(){\n",
       "                            \n",
       "var gd = document.getElementById('5a4fb2c8-6a24-4058-8c9e-8bbde9ff6c51');\n",
       "var x = new MutationObserver(function (mutations, observer) {{\n",
       "        var display = window.getComputedStyle(gd).display;\n",
       "        if (!display || display === 'none') {{\n",
       "            console.log([gd, 'removed!']);\n",
       "            Plotly.purge(gd);\n",
       "            observer.disconnect();\n",
       "        }}\n",
       "}});\n",
       "\n",
       "// Listen for the removal of the full notebook cells\n",
       "var notebookContainer = gd.closest('#notebook-container');\n",
       "if (notebookContainer) {{\n",
       "    x.observe(notebookContainer, {childList: true});\n",
       "}}\n",
       "\n",
       "// Listen for the clearing of the current output cell\n",
       "var outputEl = gd.closest('.output');\n",
       "if (outputEl) {{\n",
       "    x.observe(outputEl, {childList: true});\n",
       "}}\n",
       "\n",
       "                        })                };                });            </script>        </div>"
      ]
     },
     "metadata": {},
     "output_type": "display_data"
    }
   ],
   "source": [
    "fig = px.bar(Miami_RNA, x=pd.to_datetime(Miami_RNA['sampling_week']).dt.week, y='effective_concentration_rolling_average')\n",
    "# fig.add_bar(Miami_2020_cases, x=pd.to_datetime(Miami_2020_cases['date']).dt.month, y='rolling_average_cases_per_100k_centered')\n",
    "fig.show()"
   ]
  },
  {
   "cell_type": "code",
   "execution_count": 23,
   "id": "78e57ace",
   "metadata": {},
   "outputs": [
    {
     "data": {
      "text/plain": [
       "6       3\n",
       "11      4\n",
       "21      4\n",
       "35      4\n",
       "54      4\n",
       "       ..\n",
       "3834    3\n",
       "3932    3\n",
       "4032    4\n",
       "4131    4\n",
       "4231    4\n",
       "Name: sampling_week, Length: 109, dtype: int64"
      ]
     },
     "execution_count": 23,
     "metadata": {},
     "output_type": "execute_result"
    }
   ],
   "source": [
    "pd.to_datetime(Miami_RNA['sampling_week']).dt.month"
   ]
  },
  {
   "cell_type": "code",
   "execution_count": 24,
   "id": "efba0ce4",
   "metadata": {},
   "outputs": [
    {
     "data": {
      "text/html": [
       "<div>\n",
       "<style scoped>\n",
       "    .dataframe tbody tr th:only-of-type {\n",
       "        vertical-align: middle;\n",
       "    }\n",
       "\n",
       "    .dataframe tbody tr th {\n",
       "        vertical-align: top;\n",
       "    }\n",
       "\n",
       "    .dataframe thead th {\n",
       "        text-align: right;\n",
       "    }\n",
       "</style>\n",
       "<table border=\"1\" class=\"dataframe\">\n",
       "  <thead>\n",
       "    <tr style=\"text-align: right;\">\n",
       "      <th></th>\n",
       "      <th>Unnamed: 0</th>\n",
       "      <th>sampling_week</th>\n",
       "      <th>effective_concentration_rolling_average</th>\n",
       "      <th>region</th>\n",
       "      <th>state</th>\n",
       "      <th>name</th>\n",
       "      <th>fipscode</th>\n",
       "    </tr>\n",
       "  </thead>\n",
       "  <tbody>\n",
       "    <tr>\n",
       "      <th>6</th>\n",
       "      <td>6</td>\n",
       "      <td>3/25/2020</td>\n",
       "      <td>62.425517</td>\n",
       "      <td>South</td>\n",
       "      <td>FL</td>\n",
       "      <td>Miami-Dade County, FL</td>\n",
       "      <td>12086</td>\n",
       "    </tr>\n",
       "    <tr>\n",
       "      <th>11</th>\n",
       "      <td>11</td>\n",
       "      <td>4/1/2020</td>\n",
       "      <td>141.444303</td>\n",
       "      <td>South</td>\n",
       "      <td>FL</td>\n",
       "      <td>Miami-Dade County, FL</td>\n",
       "      <td>12086</td>\n",
       "    </tr>\n",
       "    <tr>\n",
       "      <th>21</th>\n",
       "      <td>21</td>\n",
       "      <td>4/8/2020</td>\n",
       "      <td>107.433821</td>\n",
       "      <td>South</td>\n",
       "      <td>FL</td>\n",
       "      <td>Miami-Dade County, FL</td>\n",
       "      <td>12086</td>\n",
       "    </tr>\n",
       "    <tr>\n",
       "      <th>35</th>\n",
       "      <td>36</td>\n",
       "      <td>4/15/2020</td>\n",
       "      <td>69.448164</td>\n",
       "      <td>South</td>\n",
       "      <td>FL</td>\n",
       "      <td>Miami-Dade County, FL</td>\n",
       "      <td>12086</td>\n",
       "    </tr>\n",
       "    <tr>\n",
       "      <th>54</th>\n",
       "      <td>55</td>\n",
       "      <td>4/22/2020</td>\n",
       "      <td>86.252784</td>\n",
       "      <td>South</td>\n",
       "      <td>FL</td>\n",
       "      <td>Miami-Dade County, FL</td>\n",
       "      <td>12086</td>\n",
       "    </tr>\n",
       "    <tr>\n",
       "      <th>76</th>\n",
       "      <td>77</td>\n",
       "      <td>4/29/2020</td>\n",
       "      <td>92.047093</td>\n",
       "      <td>South</td>\n",
       "      <td>FL</td>\n",
       "      <td>Miami-Dade County, FL</td>\n",
       "      <td>12086</td>\n",
       "    </tr>\n",
       "    <tr>\n",
       "      <th>104</th>\n",
       "      <td>105</td>\n",
       "      <td>5/6/2020</td>\n",
       "      <td>254.075943</td>\n",
       "      <td>South</td>\n",
       "      <td>FL</td>\n",
       "      <td>Miami-Dade County, FL</td>\n",
       "      <td>12086</td>\n",
       "    </tr>\n",
       "    <tr>\n",
       "      <th>138</th>\n",
       "      <td>139</td>\n",
       "      <td>5/13/2020</td>\n",
       "      <td>118.376995</td>\n",
       "      <td>South</td>\n",
       "      <td>FL</td>\n",
       "      <td>Miami-Dade County, FL</td>\n",
       "      <td>12086</td>\n",
       "    </tr>\n",
       "    <tr>\n",
       "      <th>178</th>\n",
       "      <td>179</td>\n",
       "      <td>5/20/2020</td>\n",
       "      <td>44.935063</td>\n",
       "      <td>South</td>\n",
       "      <td>FL</td>\n",
       "      <td>Miami-Dade County, FL</td>\n",
       "      <td>12086</td>\n",
       "    </tr>\n",
       "    <tr>\n",
       "      <th>219</th>\n",
       "      <td>220</td>\n",
       "      <td>5/27/2020</td>\n",
       "      <td>56.578649</td>\n",
       "      <td>South</td>\n",
       "      <td>FL</td>\n",
       "      <td>Miami-Dade County, FL</td>\n",
       "      <td>12086</td>\n",
       "    </tr>\n",
       "    <tr>\n",
       "      <th>246</th>\n",
       "      <td>247</td>\n",
       "      <td>6/3/2020</td>\n",
       "      <td>172.517677</td>\n",
       "      <td>South</td>\n",
       "      <td>FL</td>\n",
       "      <td>Miami-Dade County, FL</td>\n",
       "      <td>12086</td>\n",
       "    </tr>\n",
       "    <tr>\n",
       "      <th>270</th>\n",
       "      <td>271</td>\n",
       "      <td>6/10/2020</td>\n",
       "      <td>293.336046</td>\n",
       "      <td>South</td>\n",
       "      <td>FL</td>\n",
       "      <td>Miami-Dade County, FL</td>\n",
       "      <td>12086</td>\n",
       "    </tr>\n",
       "    <tr>\n",
       "      <th>297</th>\n",
       "      <td>298</td>\n",
       "      <td>6/17/2020</td>\n",
       "      <td>282.664857</td>\n",
       "      <td>South</td>\n",
       "      <td>FL</td>\n",
       "      <td>Miami-Dade County, FL</td>\n",
       "      <td>12086</td>\n",
       "    </tr>\n",
       "    <tr>\n",
       "      <th>320</th>\n",
       "      <td>322</td>\n",
       "      <td>6/24/2020</td>\n",
       "      <td>342.246070</td>\n",
       "      <td>South</td>\n",
       "      <td>FL</td>\n",
       "      <td>Miami-Dade County, FL</td>\n",
       "      <td>12086</td>\n",
       "    </tr>\n",
       "    <tr>\n",
       "      <th>343</th>\n",
       "      <td>345</td>\n",
       "      <td>7/1/2020</td>\n",
       "      <td>691.397495</td>\n",
       "      <td>South</td>\n",
       "      <td>FL</td>\n",
       "      <td>Miami-Dade County, FL</td>\n",
       "      <td>12086</td>\n",
       "    </tr>\n",
       "    <tr>\n",
       "      <th>363</th>\n",
       "      <td>365</td>\n",
       "      <td>7/8/2020</td>\n",
       "      <td>763.195765</td>\n",
       "      <td>South</td>\n",
       "      <td>FL</td>\n",
       "      <td>Miami-Dade County, FL</td>\n",
       "      <td>12086</td>\n",
       "    </tr>\n",
       "    <tr>\n",
       "      <th>388</th>\n",
       "      <td>390</td>\n",
       "      <td>7/15/2020</td>\n",
       "      <td>903.209743</td>\n",
       "      <td>South</td>\n",
       "      <td>FL</td>\n",
       "      <td>Miami-Dade County, FL</td>\n",
       "      <td>12086</td>\n",
       "    </tr>\n",
       "    <tr>\n",
       "      <th>409</th>\n",
       "      <td>411</td>\n",
       "      <td>7/22/2020</td>\n",
       "      <td>611.060115</td>\n",
       "      <td>South</td>\n",
       "      <td>FL</td>\n",
       "      <td>Miami-Dade County, FL</td>\n",
       "      <td>12086</td>\n",
       "    </tr>\n",
       "    <tr>\n",
       "      <th>431</th>\n",
       "      <td>433</td>\n",
       "      <td>7/29/2020</td>\n",
       "      <td>430.141689</td>\n",
       "      <td>South</td>\n",
       "      <td>FL</td>\n",
       "      <td>Miami-Dade County, FL</td>\n",
       "      <td>12086</td>\n",
       "    </tr>\n",
       "    <tr>\n",
       "      <th>457</th>\n",
       "      <td>460</td>\n",
       "      <td>8/5/2020</td>\n",
       "      <td>329.393697</td>\n",
       "      <td>South</td>\n",
       "      <td>FL</td>\n",
       "      <td>Miami-Dade County, FL</td>\n",
       "      <td>12086</td>\n",
       "    </tr>\n",
       "    <tr>\n",
       "      <th>486</th>\n",
       "      <td>490</td>\n",
       "      <td>8/12/2020</td>\n",
       "      <td>210.443646</td>\n",
       "      <td>South</td>\n",
       "      <td>FL</td>\n",
       "      <td>Miami-Dade County, FL</td>\n",
       "      <td>12086</td>\n",
       "    </tr>\n",
       "    <tr>\n",
       "      <th>515</th>\n",
       "      <td>519</td>\n",
       "      <td>8/19/2020</td>\n",
       "      <td>128.322929</td>\n",
       "      <td>South</td>\n",
       "      <td>FL</td>\n",
       "      <td>Miami-Dade County, FL</td>\n",
       "      <td>12086</td>\n",
       "    </tr>\n",
       "    <tr>\n",
       "      <th>546</th>\n",
       "      <td>550</td>\n",
       "      <td>8/26/2020</td>\n",
       "      <td>111.807996</td>\n",
       "      <td>South</td>\n",
       "      <td>FL</td>\n",
       "      <td>Miami-Dade County, FL</td>\n",
       "      <td>12086</td>\n",
       "    </tr>\n",
       "    <tr>\n",
       "      <th>574</th>\n",
       "      <td>578</td>\n",
       "      <td>9/2/2020</td>\n",
       "      <td>97.622241</td>\n",
       "      <td>South</td>\n",
       "      <td>FL</td>\n",
       "      <td>Miami-Dade County, FL</td>\n",
       "      <td>12086</td>\n",
       "    </tr>\n",
       "    <tr>\n",
       "      <th>603</th>\n",
       "      <td>607</td>\n",
       "      <td>9/9/2020</td>\n",
       "      <td>68.287660</td>\n",
       "      <td>South</td>\n",
       "      <td>FL</td>\n",
       "      <td>Miami-Dade County, FL</td>\n",
       "      <td>12086</td>\n",
       "    </tr>\n",
       "    <tr>\n",
       "      <th>634</th>\n",
       "      <td>638</td>\n",
       "      <td>9/16/2020</td>\n",
       "      <td>63.280963</td>\n",
       "      <td>South</td>\n",
       "      <td>FL</td>\n",
       "      <td>Miami-Dade County, FL</td>\n",
       "      <td>12086</td>\n",
       "    </tr>\n",
       "    <tr>\n",
       "      <th>663</th>\n",
       "      <td>667</td>\n",
       "      <td>9/23/2020</td>\n",
       "      <td>63.290341</td>\n",
       "      <td>South</td>\n",
       "      <td>FL</td>\n",
       "      <td>Miami-Dade County, FL</td>\n",
       "      <td>12086</td>\n",
       "    </tr>\n",
       "    <tr>\n",
       "      <th>693</th>\n",
       "      <td>697</td>\n",
       "      <td>9/30/2020</td>\n",
       "      <td>47.314155</td>\n",
       "      <td>South</td>\n",
       "      <td>FL</td>\n",
       "      <td>Miami-Dade County, FL</td>\n",
       "      <td>12086</td>\n",
       "    </tr>\n",
       "    <tr>\n",
       "      <th>721</th>\n",
       "      <td>725</td>\n",
       "      <td>10/7/2020</td>\n",
       "      <td>63.330269</td>\n",
       "      <td>South</td>\n",
       "      <td>FL</td>\n",
       "      <td>Miami-Dade County, FL</td>\n",
       "      <td>12086</td>\n",
       "    </tr>\n",
       "    <tr>\n",
       "      <th>748</th>\n",
       "      <td>753</td>\n",
       "      <td>10/14/2020</td>\n",
       "      <td>69.304545</td>\n",
       "      <td>South</td>\n",
       "      <td>FL</td>\n",
       "      <td>Miami-Dade County, FL</td>\n",
       "      <td>12086</td>\n",
       "    </tr>\n",
       "    <tr>\n",
       "      <th>779</th>\n",
       "      <td>784</td>\n",
       "      <td>10/21/2020</td>\n",
       "      <td>103.774908</td>\n",
       "      <td>South</td>\n",
       "      <td>FL</td>\n",
       "      <td>Miami-Dade County, FL</td>\n",
       "      <td>12086</td>\n",
       "    </tr>\n",
       "    <tr>\n",
       "      <th>806</th>\n",
       "      <td>811</td>\n",
       "      <td>10/28/2020</td>\n",
       "      <td>128.177386</td>\n",
       "      <td>South</td>\n",
       "      <td>FL</td>\n",
       "      <td>Miami-Dade County, FL</td>\n",
       "      <td>12086</td>\n",
       "    </tr>\n",
       "    <tr>\n",
       "      <th>834</th>\n",
       "      <td>840</td>\n",
       "      <td>11/4/2020</td>\n",
       "      <td>199.427155</td>\n",
       "      <td>South</td>\n",
       "      <td>FL</td>\n",
       "      <td>Miami-Dade County, FL</td>\n",
       "      <td>12086</td>\n",
       "    </tr>\n",
       "    <tr>\n",
       "      <th>862</th>\n",
       "      <td>868</td>\n",
       "      <td>11/11/2020</td>\n",
       "      <td>242.680271</td>\n",
       "      <td>South</td>\n",
       "      <td>FL</td>\n",
       "      <td>Miami-Dade County, FL</td>\n",
       "      <td>12086</td>\n",
       "    </tr>\n",
       "    <tr>\n",
       "      <th>891</th>\n",
       "      <td>897</td>\n",
       "      <td>11/18/2020</td>\n",
       "      <td>419.998587</td>\n",
       "      <td>South</td>\n",
       "      <td>FL</td>\n",
       "      <td>Miami-Dade County, FL</td>\n",
       "      <td>12086</td>\n",
       "    </tr>\n",
       "    <tr>\n",
       "      <th>920</th>\n",
       "      <td>926</td>\n",
       "      <td>11/25/2020</td>\n",
       "      <td>749.718446</td>\n",
       "      <td>South</td>\n",
       "      <td>FL</td>\n",
       "      <td>Miami-Dade County, FL</td>\n",
       "      <td>12086</td>\n",
       "    </tr>\n",
       "    <tr>\n",
       "      <th>946</th>\n",
       "      <td>954</td>\n",
       "      <td>12/2/2020</td>\n",
       "      <td>504.038225</td>\n",
       "      <td>South</td>\n",
       "      <td>FL</td>\n",
       "      <td>Miami-Dade County, FL</td>\n",
       "      <td>12086</td>\n",
       "    </tr>\n",
       "    <tr>\n",
       "      <th>979</th>\n",
       "      <td>987</td>\n",
       "      <td>12/9/2020</td>\n",
       "      <td>566.657786</td>\n",
       "      <td>South</td>\n",
       "      <td>FL</td>\n",
       "      <td>Miami-Dade County, FL</td>\n",
       "      <td>12086</td>\n",
       "    </tr>\n",
       "    <tr>\n",
       "      <th>1010</th>\n",
       "      <td>1018</td>\n",
       "      <td>12/16/2020</td>\n",
       "      <td>552.862447</td>\n",
       "      <td>South</td>\n",
       "      <td>FL</td>\n",
       "      <td>Miami-Dade County, FL</td>\n",
       "      <td>12086</td>\n",
       "    </tr>\n",
       "    <tr>\n",
       "      <th>1040</th>\n",
       "      <td>1048</td>\n",
       "      <td>12/23/2020</td>\n",
       "      <td>485.072069</td>\n",
       "      <td>South</td>\n",
       "      <td>FL</td>\n",
       "      <td>Miami-Dade County, FL</td>\n",
       "      <td>12086</td>\n",
       "    </tr>\n",
       "    <tr>\n",
       "      <th>1066</th>\n",
       "      <td>1074</td>\n",
       "      <td>12/30/2020</td>\n",
       "      <td>461.928945</td>\n",
       "      <td>South</td>\n",
       "      <td>FL</td>\n",
       "      <td>Miami-Dade County, FL</td>\n",
       "      <td>12086</td>\n",
       "    </tr>\n",
       "  </tbody>\n",
       "</table>\n",
       "</div>"
      ],
      "text/plain": [
       "      Unnamed: 0 sampling_week  effective_concentration_rolling_average  \\\n",
       "6              6     3/25/2020                                62.425517   \n",
       "11            11      4/1/2020                               141.444303   \n",
       "21            21      4/8/2020                               107.433821   \n",
       "35            36     4/15/2020                                69.448164   \n",
       "54            55     4/22/2020                                86.252784   \n",
       "76            77     4/29/2020                                92.047093   \n",
       "104          105      5/6/2020                               254.075943   \n",
       "138          139     5/13/2020                               118.376995   \n",
       "178          179     5/20/2020                                44.935063   \n",
       "219          220     5/27/2020                                56.578649   \n",
       "246          247      6/3/2020                               172.517677   \n",
       "270          271     6/10/2020                               293.336046   \n",
       "297          298     6/17/2020                               282.664857   \n",
       "320          322     6/24/2020                               342.246070   \n",
       "343          345      7/1/2020                               691.397495   \n",
       "363          365      7/8/2020                               763.195765   \n",
       "388          390     7/15/2020                               903.209743   \n",
       "409          411     7/22/2020                               611.060115   \n",
       "431          433     7/29/2020                               430.141689   \n",
       "457          460      8/5/2020                               329.393697   \n",
       "486          490     8/12/2020                               210.443646   \n",
       "515          519     8/19/2020                               128.322929   \n",
       "546          550     8/26/2020                               111.807996   \n",
       "574          578      9/2/2020                                97.622241   \n",
       "603          607      9/9/2020                                68.287660   \n",
       "634          638     9/16/2020                                63.280963   \n",
       "663          667     9/23/2020                                63.290341   \n",
       "693          697     9/30/2020                                47.314155   \n",
       "721          725     10/7/2020                                63.330269   \n",
       "748          753    10/14/2020                                69.304545   \n",
       "779          784    10/21/2020                               103.774908   \n",
       "806          811    10/28/2020                               128.177386   \n",
       "834          840     11/4/2020                               199.427155   \n",
       "862          868    11/11/2020                               242.680271   \n",
       "891          897    11/18/2020                               419.998587   \n",
       "920          926    11/25/2020                               749.718446   \n",
       "946          954     12/2/2020                               504.038225   \n",
       "979          987     12/9/2020                               566.657786   \n",
       "1010        1018    12/16/2020                               552.862447   \n",
       "1040        1048    12/23/2020                               485.072069   \n",
       "1066        1074    12/30/2020                               461.928945   \n",
       "\n",
       "     region state                   name  fipscode  \n",
       "6     South    FL  Miami-Dade County, FL     12086  \n",
       "11    South    FL  Miami-Dade County, FL     12086  \n",
       "21    South    FL  Miami-Dade County, FL     12086  \n",
       "35    South    FL  Miami-Dade County, FL     12086  \n",
       "54    South    FL  Miami-Dade County, FL     12086  \n",
       "76    South    FL  Miami-Dade County, FL     12086  \n",
       "104   South    FL  Miami-Dade County, FL     12086  \n",
       "138   South    FL  Miami-Dade County, FL     12086  \n",
       "178   South    FL  Miami-Dade County, FL     12086  \n",
       "219   South    FL  Miami-Dade County, FL     12086  \n",
       "246   South    FL  Miami-Dade County, FL     12086  \n",
       "270   South    FL  Miami-Dade County, FL     12086  \n",
       "297   South    FL  Miami-Dade County, FL     12086  \n",
       "320   South    FL  Miami-Dade County, FL     12086  \n",
       "343   South    FL  Miami-Dade County, FL     12086  \n",
       "363   South    FL  Miami-Dade County, FL     12086  \n",
       "388   South    FL  Miami-Dade County, FL     12086  \n",
       "409   South    FL  Miami-Dade County, FL     12086  \n",
       "431   South    FL  Miami-Dade County, FL     12086  \n",
       "457   South    FL  Miami-Dade County, FL     12086  \n",
       "486   South    FL  Miami-Dade County, FL     12086  \n",
       "515   South    FL  Miami-Dade County, FL     12086  \n",
       "546   South    FL  Miami-Dade County, FL     12086  \n",
       "574   South    FL  Miami-Dade County, FL     12086  \n",
       "603   South    FL  Miami-Dade County, FL     12086  \n",
       "634   South    FL  Miami-Dade County, FL     12086  \n",
       "663   South    FL  Miami-Dade County, FL     12086  \n",
       "693   South    FL  Miami-Dade County, FL     12086  \n",
       "721   South    FL  Miami-Dade County, FL     12086  \n",
       "748   South    FL  Miami-Dade County, FL     12086  \n",
       "779   South    FL  Miami-Dade County, FL     12086  \n",
       "806   South    FL  Miami-Dade County, FL     12086  \n",
       "834   South    FL  Miami-Dade County, FL     12086  \n",
       "862   South    FL  Miami-Dade County, FL     12086  \n",
       "891   South    FL  Miami-Dade County, FL     12086  \n",
       "920   South    FL  Miami-Dade County, FL     12086  \n",
       "946   South    FL  Miami-Dade County, FL     12086  \n",
       "979   South    FL  Miami-Dade County, FL     12086  \n",
       "1010  South    FL  Miami-Dade County, FL     12086  \n",
       "1040  South    FL  Miami-Dade County, FL     12086  \n",
       "1066  South    FL  Miami-Dade County, FL     12086  "
      ]
     },
     "execution_count": 24,
     "metadata": {},
     "output_type": "execute_result"
    }
   ],
   "source": [
    "Miami_2020_RNA = Miami_RNA.loc[pd.to_datetime(Miami_RNA['sampling_week']).dt.year == 2020]\n",
    "Miami_2020_RNA"
   ]
  },
  {
   "cell_type": "code",
   "execution_count": null,
   "id": "384c75af",
   "metadata": {},
   "outputs": [],
   "source": []
  },
  {
   "cell_type": "code",
   "execution_count": null,
   "id": "8db962cb",
   "metadata": {},
   "outputs": [],
   "source": []
  },
  {
   "cell_type": "code",
   "execution_count": null,
   "id": "f6f66be0",
   "metadata": {},
   "outputs": [],
   "source": []
  },
  {
   "cell_type": "code",
   "execution_count": null,
   "id": "04f7c0e5",
   "metadata": {},
   "outputs": [],
   "source": []
  },
  {
   "cell_type": "code",
   "execution_count": null,
   "id": "a8250697",
   "metadata": {},
   "outputs": [],
   "source": []
  }
 ],
 "metadata": {
  "kernelspec": {
   "display_name": "PythonData",
   "language": "python",
   "name": "pythondata"
  },
  "language_info": {
   "codemirror_mode": {
    "name": "ipython",
    "version": 3
   },
   "file_extension": ".py",
   "mimetype": "text/x-python",
   "name": "python",
   "nbconvert_exporter": "python",
   "pygments_lexer": "ipython3",
   "version": "3.7.11"
  }
 },
 "nbformat": 4,
 "nbformat_minor": 5
}
